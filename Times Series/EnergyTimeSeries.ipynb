{
  "metadata": {
    "kernelspec": {
      "language": "python",
      "display_name": "Python 3",
      "name": "python3"
    },
    "language_info": {
      "name": "python",
      "version": "3.7.12",
      "mimetype": "text/x-python",
      "codemirror_mode": {
        "name": "ipython",
        "version": 3
      },
      "pygments_lexer": "ipython3",
      "nbconvert_exporter": "python",
      "file_extension": ".py"
    },
    "colab": {
      "name": "EnergyTimeSeries.ipynb",
      "provenance": [],
      "include_colab_link": true
    }
  },
  "nbformat_minor": 0,
  "nbformat": 4,
  "cells": [
    {
      "cell_type": "markdown",
      "metadata": {
        "id": "view-in-github",
        "colab_type": "text"
      },
      "source": [
        "<a href=\"https://colab.research.google.com/github/AstridSerruto/Projects/blob/master/EnergyTimeSeries.ipynb\" target=\"_parent\"><img src=\"https://colab.research.google.com/assets/colab-badge.svg\" alt=\"Open In Colab\"/></a>"
      ]
    },
    {
      "cell_type": "markdown",
      "source": [
        "# Energy Timeseries Data Visualization"
      ],
      "metadata": {
        "id": "mtAIeivZwxcT"
      }
    },
    {
      "cell_type": "markdown",
      "source": [
        "## 1. Import Libraries and get files"
      ],
      "metadata": {
        "id": "M6eodpT5wxcX"
      }
    },
    {
      "cell_type": "markdown",
      "source": [
        "Import Libraries"
      ],
      "metadata": {
        "id": "n8bbuDLEwxcZ"
      }
    },
    {
      "cell_type": "code",
      "source": [
        "import numpy as np\n",
        "import pandas as pd \n",
        "import matplotlib.pyplot as plt\n",
        "from matplotlib import ticker\n",
        "import seaborn as sns\n",
        "import os\n",
        "from statsmodels.graphics.tsaplots import plot_acf, plot_pacf, month_plot\n",
        "from statsmodels.tsa.stattools import kpss, adfuller\n",
        "from statsmodels.tsa.seasonal import STL\n",
        "from pylab import rcParams\n",
        "from platform import python_version\n",
        "\n",
        "%matplotlib inline\n",
        "\n",
        "import warnings\n",
        "warnings.filterwarnings('ignore')"
      ],
      "metadata": {
        "execution": {
          "iopub.status.busy": "2022-05-02T14:39:57.425571Z",
          "iopub.execute_input": "2022-05-02T14:39:57.425898Z",
          "iopub.status.idle": "2022-05-02T14:39:57.435681Z",
          "shell.execute_reply.started": "2022-05-02T14:39:57.425851Z",
          "shell.execute_reply": "2022-05-02T14:39:57.435063Z"
        },
        "trusted": true,
        "id": "EolwDKyLwxcZ"
      },
      "execution_count": null,
      "outputs": []
    },
    {
      "cell_type": "markdown",
      "source": [
        "The dataset for this exercise is the ComEd hourly energy consumption dataset which was recorded in megawatts (MW)."
      ],
      "metadata": {
        "id": "sChTGiw7wxcb"
      }
    },
    {
      "cell_type": "code",
      "source": [
        "for dirname, _, filenames in os.walk('/kaggle/input'):\n",
        "    for filename in filenames:\n",
        "        print(os.path.join(dirname, filename))"
      ],
      "metadata": {
        "execution": {
          "iopub.status.busy": "2022-05-02T14:39:57.482655Z",
          "iopub.execute_input": "2022-05-02T14:39:57.483527Z",
          "iopub.status.idle": "2022-05-02T14:39:57.502185Z",
          "shell.execute_reply.started": "2022-05-02T14:39:57.483465Z",
          "shell.execute_reply": "2022-05-02T14:39:57.501276Z"
        },
        "trusted": true,
        "id": "H7xT99OQwxcb"
      },
      "execution_count": null,
      "outputs": []
    },
    {
      "cell_type": "code",
      "source": [
        "rcParams['figure.figsize'] = (12, 8) \n",
        "sns.set_theme(palette='muted', style='whitegrid')"
      ],
      "metadata": {
        "execution": {
          "iopub.status.busy": "2022-05-02T14:39:57.543256Z",
          "iopub.execute_input": "2022-05-02T14:39:57.544183Z",
          "iopub.status.idle": "2022-05-02T14:39:57.54971Z",
          "shell.execute_reply.started": "2022-05-02T14:39:57.54413Z",
          "shell.execute_reply": "2022-05-02T14:39:57.548728Z"
        },
        "trusted": true,
        "id": "bLewZYnIwxcc"
      },
      "execution_count": null,
      "outputs": []
    },
    {
      "cell_type": "code",
      "source": [
        "path = '../input/hourly-energy-consumption/COMED_hourly.csv'\n",
        "df = pd.read_csv(path)\n",
        "print(df.shape)\n",
        "print(df.dtypes)\n",
        "df.head()"
      ],
      "metadata": {
        "execution": {
          "iopub.status.busy": "2022-05-02T14:39:57.604124Z",
          "iopub.execute_input": "2022-05-02T14:39:57.60457Z",
          "iopub.status.idle": "2022-05-02T14:39:57.673619Z",
          "shell.execute_reply.started": "2022-05-02T14:39:57.604538Z",
          "shell.execute_reply": "2022-05-02T14:39:57.672772Z"
        },
        "trusted": true,
        "id": "AbPGmQ4iwxcc"
      },
      "execution_count": null,
      "outputs": []
    },
    {
      "cell_type": "markdown",
      "source": [
        "## 2. Review Data Contents"
      ],
      "metadata": {
        "id": "Y94yWP53wxcd"
      }
    },
    {
      "cell_type": "markdown",
      "source": [
        "Lets examine the data we have."
      ],
      "metadata": {
        "id": "-ycdL19Kwxce"
      }
    },
    {
      "cell_type": "code",
      "source": [
        "df.info()"
      ],
      "metadata": {
        "execution": {
          "iopub.status.busy": "2022-05-02T14:39:57.675218Z",
          "iopub.execute_input": "2022-05-02T14:39:57.675466Z",
          "iopub.status.idle": "2022-05-02T14:39:57.695362Z",
          "shell.execute_reply.started": "2022-05-02T14:39:57.675436Z",
          "shell.execute_reply": "2022-05-02T14:39:57.694447Z"
        },
        "trusted": true,
        "id": "5vwOuqtZwxce"
      },
      "execution_count": null,
      "outputs": []
    },
    {
      "cell_type": "markdown",
      "source": [
        "We can see that \"Datetime\" has been typed incorrectly, we will change it to \"Datetime64\""
      ],
      "metadata": {
        "id": "K_0Z_7ifwxce"
      }
    },
    {
      "cell_type": "code",
      "source": [
        "df['Datetime'] = df.Datetime.astype('Datetime64')\n",
        "print(df.dtypes)\n",
        "df.head()"
      ],
      "metadata": {
        "execution": {
          "iopub.status.busy": "2022-05-02T14:39:57.700248Z",
          "iopub.execute_input": "2022-05-02T14:39:57.700488Z",
          "iopub.status.idle": "2022-05-02T14:39:57.738456Z",
          "shell.execute_reply.started": "2022-05-02T14:39:57.700461Z",
          "shell.execute_reply": "2022-05-02T14:39:57.737291Z"
        },
        "trusted": true,
        "id": "ssnRC58Qwxcf"
      },
      "execution_count": null,
      "outputs": []
    },
    {
      "cell_type": "code",
      "source": [
        "df['Datetime'].describe(datetime_is_numeric=True)"
      ],
      "metadata": {
        "execution": {
          "iopub.status.busy": "2022-05-02T14:39:57.740559Z",
          "iopub.execute_input": "2022-05-02T14:39:57.740907Z",
          "iopub.status.idle": "2022-05-02T14:39:57.754133Z",
          "shell.execute_reply.started": "2022-05-02T14:39:57.740842Z",
          "shell.execute_reply": "2022-05-02T14:39:57.753116Z"
        },
        "trusted": true,
        "id": "h0BkIBDRwxcf"
      },
      "execution_count": null,
      "outputs": []
    },
    {
      "cell_type": "markdown",
      "source": [
        "We can see that the Timeseries runs from 01/01/2011 to 08/03/2018"
      ],
      "metadata": {
        "id": "xuxw3cArwxcf"
      }
    },
    {
      "cell_type": "markdown",
      "source": [
        "# 3. Time Plot"
      ],
      "metadata": {
        "id": "Lzt5aOjHwxcf"
      }
    },
    {
      "cell_type": "markdown",
      "source": [
        "We will plot the energy observations agaisnt the hourly datetime records. This will tell us if the data is in the proper format."
      ],
      "metadata": {
        "id": "qDpn0hgwwxcg"
      }
    },
    {
      "cell_type": "code",
      "source": [
        "ax = sns.lineplot(data=df, x='Datetime', y='COMED_MW')\n",
        "ax.yaxis.set_major_formatter(ticker.StrMethodFormatter('{x:,.0f}'))\n",
        "plt.xlabel('Datetime',color='Blue')\n",
        "plt.ylabel('Energy Consumption (MW)', color='Blue')\n",
        "plt.title('ComEd Hourly Energy Consumption', fontsize=18, color='Blue')\n",
        "plt.show()"
      ],
      "metadata": {
        "execution": {
          "iopub.status.busy": "2022-05-02T14:39:57.762874Z",
          "iopub.execute_input": "2022-05-02T14:39:57.76335Z",
          "iopub.status.idle": "2022-05-02T14:40:00.885667Z",
          "shell.execute_reply.started": "2022-05-02T14:39:57.76331Z",
          "shell.execute_reply": "2022-05-02T14:40:00.884827Z"
        },
        "trusted": true,
        "id": "R2vnGTqLwxcg"
      },
      "execution_count": null,
      "outputs": []
    },
    {
      "cell_type": "markdown",
      "source": [
        "To help with seasonal ploting, we will add a 'QUARTER\" column to the Dataframe"
      ],
      "metadata": {
        "id": "C2Odx2ajwxcg"
      }
    },
    {
      "cell_type": "code",
      "source": [
        "df['QUARTER'] = df['Datetime'].dt.quarter\n",
        "df.head()"
      ],
      "metadata": {
        "execution": {
          "iopub.status.busy": "2022-05-02T14:40:00.887523Z",
          "iopub.execute_input": "2022-05-02T14:40:00.888191Z",
          "iopub.status.idle": "2022-05-02T14:40:00.907923Z",
          "shell.execute_reply.started": "2022-05-02T14:40:00.888144Z",
          "shell.execute_reply": "2022-05-02T14:40:00.906779Z"
        },
        "trusted": true,
        "id": "CdvNzlSHwxch"
      },
      "execution_count": null,
      "outputs": []
    },
    {
      "cell_type": "markdown",
      "source": [
        "To make visual interpretation easier, we will use resampling to convert the timeseries to an average monthly format."
      ],
      "metadata": {
        "id": "S22JXa61wxch"
      }
    },
    {
      "cell_type": "code",
      "source": [
        "df = df.resample('M', on='Datetime').mean().rename(columns={'COMED_MW':'MONTHLY_AVG'})\n",
        "df['QUARTER'] = df['QUARTER'].astype(int)\n",
        "df.head()"
      ],
      "metadata": {
        "execution": {
          "iopub.status.busy": "2022-05-02T14:40:00.909318Z",
          "iopub.execute_input": "2022-05-02T14:40:00.909642Z",
          "iopub.status.idle": "2022-05-02T14:40:00.948484Z",
          "shell.execute_reply.started": "2022-05-02T14:40:00.909607Z",
          "shell.execute_reply": "2022-05-02T14:40:00.947533Z"
        },
        "trusted": true,
        "id": "_DzS9Be-wxch"
      },
      "execution_count": null,
      "outputs": []
    },
    {
      "cell_type": "code",
      "source": [
        "ax = sns.lineplot(data=df, x='Datetime', y='MONTHLY_AVG')\n",
        "ax.yaxis.set_major_formatter(ticker.StrMethodFormatter('{x:,.0f}'))\n",
        "plt.xlabel('Datetime')\n",
        "plt.ylabel('Avg. Energy Consumption (MW)')\n",
        "plt.title('ComEd Monthly Average Energy Consumption', fontsize=16)\n",
        "plt.show()"
      ],
      "metadata": {
        "execution": {
          "iopub.status.busy": "2022-05-02T14:40:00.950327Z",
          "iopub.execute_input": "2022-05-02T14:40:00.950911Z",
          "iopub.status.idle": "2022-05-02T14:40:01.425664Z",
          "shell.execute_reply.started": "2022-05-02T14:40:00.950844Z",
          "shell.execute_reply": "2022-05-02T14:40:01.424711Z"
        },
        "trusted": true,
        "id": "YiqRsfu2wxch"
      },
      "execution_count": null,
      "outputs": []
    },
    {
      "cell_type": "markdown",
      "source": [
        "The above is an easier to understand time plot."
      ],
      "metadata": {
        "id": "C3sg_698wxci"
      }
    },
    {
      "cell_type": "markdown",
      "source": [
        "## 4. Lag plot\n",
        "\n",
        "A lag plot is used to observe the underlying properties of a timeseries. It's a type of scatter plot where a set of data from time step y(t+i) , with time t and lag i, is plotted against data from a later time step y(t). The pattern in a lag plot will show if the timeseries data is random, sinusoidal, autocorrelates, or contains outliers. These patterns also provide information on suitable models for the data.\n",
        "\n"
      ],
      "metadata": {
        "id": "aueYF0pqwxci"
      }
    },
    {
      "cell_type": "code",
      "source": [
        "plt.figure(figsize=(12,12))\n",
        "\n",
        "for i in range(1, 10):\n",
        "    ax=plt.subplot(3, 3, i)\n",
        "    # Create a lag plot for each quarter\n",
        "    pd.plotting.lag_plot(df.loc[df['QUARTER'] == 1, 'MONTHLY_AVG'], lag=i, c='red', label='Q1')    \n",
        "    pd.plotting.lag_plot(df.loc[df['QUARTER'] == 2, 'MONTHLY_AVG'], lag=i, c='green', label='Q2')\n",
        "    pd.plotting.lag_plot(df.loc[df['QUARTER'] == 3, 'MONTHLY_AVG'], lag=i, c='navy', label='Q3')\n",
        "    pd.plotting.lag_plot(df.loc[df['QUARTER'] == 4, 'MONTHLY_AVG'], lag=i, c='orange', label='Q4')\n",
        "    ax.yaxis.set_major_formatter(ticker.StrMethodFormatter('{x:,.0f}'))\n",
        "    ax.xaxis.set_major_formatter(ticker.StrMethodFormatter('{x:,.0f}'))\n",
        "    plt.legend()\n",
        "    plt.title(f'Lag {i}')\n",
        "\n",
        "plt.tight_layout()\n",
        "plt.show()"
      ],
      "metadata": {
        "execution": {
          "iopub.status.busy": "2022-05-02T14:40:01.426833Z",
          "iopub.execute_input": "2022-05-02T14:40:01.427166Z",
          "iopub.status.idle": "2022-05-02T14:40:03.86505Z",
          "shell.execute_reply.started": "2022-05-02T14:40:01.427117Z",
          "shell.execute_reply": "2022-05-02T14:40:03.863978Z"
        },
        "trusted": true,
        "id": "0mTtT03Pwxci"
      },
      "execution_count": null,
      "outputs": []
    },
    {
      "cell_type": "markdown",
      "source": [
        "The positive linear relationship in lags 3, 6, and 9 demonstrates autocorrelation at regular intervals. This suggests that the data has seasonality (non-stationary) and rules out randomness. We can further verify this with an autocorrelation plot."
      ],
      "metadata": {
        "id": "TtVLexGuwxci"
      }
    },
    {
      "cell_type": "markdown",
      "source": [
        "## 5. Autocorrelation Plot\n",
        "\n",
        "The autocorrelation plot is similar to the lag plot in that it also checks for randomness in the timeseries. Autocorrelations are calculated for the data at different lags. A completely random timeseries will show autocorrelations near zero for all lags."
      ],
      "metadata": {
        "id": "y554dSBowxci"
      }
    },
    {
      "cell_type": "code",
      "source": [
        "plot_acf(df['MONTHLY_AVG'], color='red')\n",
        "plt.xlabel('Lags')\n",
        "plt.tight_layout()\n",
        "plt.show()"
      ],
      "metadata": {
        "execution": {
          "iopub.status.busy": "2022-05-02T14:40:03.866514Z",
          "iopub.execute_input": "2022-05-02T14:40:03.866783Z",
          "iopub.status.idle": "2022-05-02T14:40:04.118783Z",
          "shell.execute_reply.started": "2022-05-02T14:40:03.866752Z",
          "shell.execute_reply": "2022-05-02T14:40:04.117661Z"
        },
        "trusted": true,
        "id": "k4yUZOnVwxcj"
      },
      "execution_count": null,
      "outputs": []
    },
    {
      "cell_type": "markdown",
      "source": [
        "The plot shows some significant non-zero autocorrelations. We see an oscillation of negative and positive correlation values. A closer look reveals large autocorrelations at multiples of the seasonal frequency (3). This is another indicator of seasonality.\n",
        "\n",
        "## 6. Partial Autocorrelation Plot\n",
        "\n",
        "Partial autocorrelation is also a calculation for data at different lags, but with indirect correlations removed. This plot can be used to specify a regression model for the timeseries. The first autocorrelations are typically the most significant for analysis."
      ],
      "metadata": {
        "id": "PoeDCWYiwxcj"
      }
    },
    {
      "cell_type": "code",
      "source": [
        "plot_pacf(df['MONTHLY_AVG'], color='red')\n",
        "plt.xlabel('Lags')\n",
        "plt.tight_layout()\n",
        "plt.show()"
      ],
      "metadata": {
        "execution": {
          "iopub.status.busy": "2022-05-02T14:40:04.120182Z",
          "iopub.execute_input": "2022-05-02T14:40:04.120511Z",
          "iopub.status.idle": "2022-05-02T14:40:04.477741Z",
          "shell.execute_reply.started": "2022-05-02T14:40:04.120455Z",
          "shell.execute_reply": "2022-05-02T14:40:04.476775Z"
        },
        "trusted": true,
        "id": "EyOE0BMLwxcj"
      },
      "execution_count": null,
      "outputs": []
    },
    {
      "cell_type": "markdown",
      "source": [
        "Partial autocorrelation shows only the direct relationship between a time step and its lag. The indirect relations are less significant and fall closer to zero.\n",
        "\n",
        "When deciding on a regression model, the timeseries will need to undergo a transformation known as differencing to remove any seasonality or trend. This will make the data stationary (no trend or seasonality) and better suited for modeling.\n",
        "\n",
        "## 7. Timeseries Differencing\n",
        "\n",
        "The mean of a timeseries is stabilized when the difference is calculated between consecutive steps. This reduces trend and seasonality. The data becomes stationary which means its statistical properties don't change over time. The mean, variance, and covariance remain static."
      ],
      "metadata": {
        "id": "pMO8KHNrwxcj"
      }
    },
    {
      "cell_type": "code",
      "source": [
        "diff = df['MONTHLY_AVG'].diff(1).dropna()\n",
        "diff.head()"
      ],
      "metadata": {
        "execution": {
          "iopub.status.busy": "2022-05-02T14:43:30.210155Z",
          "iopub.execute_input": "2022-05-02T14:43:30.210501Z",
          "iopub.status.idle": "2022-05-02T14:43:30.224059Z",
          "shell.execute_reply.started": "2022-05-02T14:43:30.21047Z",
          "shell.execute_reply": "2022-05-02T14:43:30.22338Z"
        },
        "trusted": true,
        "id": "Oc0VXlBNwxck"
      },
      "execution_count": null,
      "outputs": []
    },
    {
      "cell_type": "code",
      "source": [
        "ax = sns.lineplot(data=diff)\n",
        "ax.yaxis.set_major_formatter(ticker.StrMethodFormatter('{x:,.0f}'))\n",
        "plt.xlabel('Datetime')\n",
        "plt.ylabel('Difference')\n",
        "plt.title('ComEd Monthly Average Energy Consumption', fontsize=16)\n",
        "plt.show()"
      ],
      "metadata": {
        "execution": {
          "iopub.status.busy": "2022-05-02T14:43:58.727022Z",
          "iopub.execute_input": "2022-05-02T14:43:58.727314Z",
          "iopub.status.idle": "2022-05-02T14:43:59.175633Z",
          "shell.execute_reply.started": "2022-05-02T14:43:58.727285Z",
          "shell.execute_reply": "2022-05-02T14:43:59.174757Z"
        },
        "trusted": true,
        "id": "ScEWjSVewxck"
      },
      "execution_count": null,
      "outputs": []
    },
    {
      "cell_type": "markdown",
      "source": [
        "As shown above the changed data is more stable about the mean. To confirm stationarity we'll utilize the following two tests.\n",
        "\n",
        "Kwiatkowski-Phillips-Schmidt-Shin Test\n",
        "\n",
        "The Kwiatkowski-Phillips-Schmidt-Shin Test (KPSS) checks for the stationarity of a timeseries by testing the null hypothesis that the data is stationary about a trend. A p-value above 0.05 indicates the data is trend-stationary. We'll set up metric tables for our differenced data and view the results."
      ],
      "metadata": {
        "id": "afVSYeUHwxck"
      }
    },
    {
      "cell_type": "code",
      "source": [
        "def kpss_test(timeseries):\n",
        "    # Create a metrics table for kpss test\n",
        "    print('KPSS Metrics:')    \n",
        "    kpsstest = kpss(timeseries, regression='c', nlags='auto')\n",
        "    kpss_output = pd.Series(\n",
        "        kpsstest[0:3], \n",
        "        index = ['Test Statistic', \n",
        "               'p-Value', \n",
        "               'Number of Lags'\n",
        "        ]\n",
        "    )\n",
        "    \n",
        "    for key, value in kpsstest[3].items():\n",
        "        kpss_output[f'Critical Value ({key})'] = value\n",
        "    \n",
        "    return kpss_output\n",
        "\n",
        "kpss_test(diff)"
      ],
      "metadata": {
        "execution": {
          "iopub.status.busy": "2022-05-02T14:47:11.808724Z",
          "iopub.execute_input": "2022-05-02T14:47:11.809285Z",
          "iopub.status.idle": "2022-05-02T14:47:11.827506Z",
          "shell.execute_reply.started": "2022-05-02T14:47:11.809217Z",
          "shell.execute_reply": "2022-05-02T14:47:11.82663Z"
        },
        "trusted": true,
        "id": "r0YZ3GiTwxck"
      },
      "execution_count": null,
      "outputs": []
    },
    {
      "cell_type": "markdown",
      "source": [
        "The p-value is above 0.05, which means our differenced data is trend-stationary. The null hypothesis is accepted.\n",
        "\n",
        "Augmented Dickey-Fuller Test\n",
        "\n",
        "The second of our stationarity tests is the Augmented Dickey-Fuller (ADF) Test. This test assumes the data is non-stationary as the null hypothesis. A p-value below 0.05 indicates a stationary timeseries. This is opposite the KPSS test so care must be taken when making conclusions."
      ],
      "metadata": {
        "id": "VJJexDc3wxck"
      }
    },
    {
      "cell_type": "code",
      "source": [
        "def adf_test(timeseries):\n",
        "    # Create a metrics table for adf test\n",
        "    print('Dickey-Fuller Metrics:')    \n",
        "    adftest = adfuller(timeseries, autolag='AIC')\n",
        "    adfoutput = pd.Series(\n",
        "        adftest[0:4],\n",
        "        index = [\n",
        "            'Test Statistic',\n",
        "            'p-Value',\n",
        "            'Number of Lags',\n",
        "            'Number of Observations'\n",
        "        ]\n",
        "    )\n",
        "    \n",
        "    for key, value in adftest[4].items():\n",
        "        adfoutput[f'Critical Value ({key})'] = value\n",
        "    \n",
        "    return adfoutput\n",
        "\n",
        "adf_test(diff)"
      ],
      "metadata": {
        "execution": {
          "iopub.status.busy": "2022-05-02T14:50:42.866211Z",
          "iopub.execute_input": "2022-05-02T14:50:42.866564Z",
          "iopub.status.idle": "2022-05-02T14:50:42.894564Z",
          "shell.execute_reply.started": "2022-05-02T14:50:42.86652Z",
          "shell.execute_reply": "2022-05-02T14:50:42.893844Z"
        },
        "trusted": true,
        "id": "9rahE7hWwxck"
      },
      "execution_count": null,
      "outputs": []
    },
    {
      "cell_type": "markdown",
      "source": [
        "The small p-value is below 0.05, the null hypothesis is rejected. Both ADF and KPSS tests verify that the data is stationary.\n",
        "\n",
        "## 8. Seasonal Plots\n",
        "\n",
        "Seasonal plots are similar to time plots but with data plotted against a seasonal period. The period can be daily, monthly, or specific to a particular use case. We will plot energy data from all years against the quarterly periods."
      ],
      "metadata": {
        "id": "earlHTPzwxcl"
      }
    },
    {
      "cell_type": "markdown",
      "source": [
        "Quarter Plot"
      ],
      "metadata": {
        "id": "ZWtkK0Rrwxcl"
      }
    },
    {
      "cell_type": "code",
      "source": [
        "fig, ax = plt.subplots()\n",
        "sns.lineplot(ax=ax, data=df, x='QUARTER', y='MONTHLY_AVG', ci=95)\n",
        "ax.yaxis.set_major_formatter(ticker.StrMethodFormatter('{x:,.0f}'))\n",
        "ax.set_xticks([1,2,3,4])\n",
        "ax.set_xticklabels(['Q1', 'Q2', 'Q3', 'Q4'])\n",
        "ax.set_ylabel('Avg. Energy Consumption (MW)')\n",
        "ax.set_xlabel('Seasonal Quarter')\n",
        "ax.set_title('ComEd Monthly Average Energy Consumption (2011 - 2018)')\n",
        "plt.show()"
      ],
      "metadata": {
        "execution": {
          "iopub.status.busy": "2022-05-02T15:06:46.734228Z",
          "iopub.execute_input": "2022-05-02T15:06:46.735311Z",
          "iopub.status.idle": "2022-05-02T15:06:47.136396Z",
          "shell.execute_reply.started": "2022-05-02T15:06:46.735259Z",
          "shell.execute_reply": "2022-05-02T15:06:47.135076Z"
        },
        "trusted": true,
        "id": "kGmnik87wxcl"
      },
      "execution_count": null,
      "outputs": []
    },
    {
      "cell_type": "markdown",
      "source": [
        "The plot shows the third quarter sees the most monthly average energy usage each year. We can plot the data against each month to investigate further.\n",
        "\n",
        "Month Plot"
      ],
      "metadata": {
        "id": "ZawluOCrwxcl"
      }
    },
    {
      "cell_type": "code",
      "source": [
        "fig, ax = plt.subplots()\n",
        "month_plot(df['MONTHLY_AVG'], ax=ax)\n",
        "ax.yaxis.set_major_formatter(ticker.StrMethodFormatter('{x:,.0f}'))\n",
        "plt.title('ComEd Monthly Average Energy Consumption',fontsize=16)\n",
        "ax.set_xlabel('Monthly')\n",
        "plt.ylabel('Avg. Energy Consumption (MW)')\n",
        "plt.show()"
      ],
      "metadata": {
        "execution": {
          "iopub.status.busy": "2022-05-02T15:07:23.310305Z",
          "iopub.execute_input": "2022-05-02T15:07:23.310628Z",
          "iopub.status.idle": "2022-05-02T15:07:23.616239Z",
          "shell.execute_reply.started": "2022-05-02T15:07:23.310594Z",
          "shell.execute_reply": "2022-05-02T15:07:23.615406Z"
        },
        "trusted": true,
        "id": "-ld2ncBKwxcl"
      },
      "execution_count": null,
      "outputs": []
    },
    {
      "cell_type": "markdown",
      "source": [
        "We can see that July is the month where peak average energy usage occurs. January sees the highest usage out of the winter months, and the lowest points are in April and October. Overall, this is a close reflection of the pattern observed in the quarter plot.\n",
        "\n",
        "## 9. Seasonal Moving Average\n",
        "\n",
        "A moving average is created by calculating the mean of timeseries values over a specified set of past timesteps. This has the effect of smoothing out the time plot. We'll plot a 3 month moving average that corresponds to each seasonal quarter."
      ],
      "metadata": {
        "id": "2-ey6ta-wxcl"
      }
    },
    {
      "cell_type": "code",
      "source": [
        "df['MOVING_AVG'] = df['MONTHLY_AVG'].rolling(3, min_periods=3).mean()\n",
        "df.head(12)"
      ],
      "metadata": {
        "execution": {
          "iopub.status.busy": "2022-05-02T15:08:00.274398Z",
          "iopub.execute_input": "2022-05-02T15:08:00.274734Z",
          "iopub.status.idle": "2022-05-02T15:08:00.291208Z",
          "shell.execute_reply.started": "2022-05-02T15:08:00.274696Z",
          "shell.execute_reply": "2022-05-02T15:08:00.290206Z"
        },
        "trusted": true,
        "id": "J9Y2GVrWwxcm"
      },
      "execution_count": null,
      "outputs": []
    },
    {
      "cell_type": "markdown",
      "source": [
        "In the MOVING_AVG column you can observe the consecutive means for each of the previous three monthly averages. This is called a moving average of the third order. The higher the order, the smoother the plot."
      ],
      "metadata": {
        "id": "ZOP9dUXTwxcm"
      }
    },
    {
      "cell_type": "code",
      "source": [
        "fig, ax = plt.subplots()\n",
        "sns.lineplot(data=df[['MONTHLY_AVG', 'MOVING_AVG']])\n",
        "ax.yaxis.set_major_formatter(ticker.StrMethodFormatter('{x:,.0f}'))\n",
        "plt.xlabel('Datetime')\n",
        "plt.ylabel('Avg. Energy Consumption (MW)')\n",
        "plt.legend(labels=['Energy Consumption', '3-Month Moving Average'])\n",
        "plt.title('ComEd Monthly Average Energy Consumption', fontsize=16)\n",
        "plt.show()"
      ],
      "metadata": {
        "execution": {
          "iopub.status.busy": "2022-05-02T15:09:59.940029Z",
          "iopub.execute_input": "2022-05-02T15:09:59.940342Z",
          "iopub.status.idle": "2022-05-02T15:10:00.465417Z",
          "shell.execute_reply.started": "2022-05-02T15:09:59.940313Z",
          "shell.execute_reply": "2022-05-02T15:10:00.464501Z"
        },
        "trusted": true,
        "id": "EGqKhvdBwxcm"
      },
      "execution_count": null,
      "outputs": []
    },
    {
      "cell_type": "markdown",
      "source": [
        "A plot of the 3-month moving average shows a smoother timeseries with less fluctuations. This is a method typically used to estimate the trend of a dataset when performing decomposition.\n",
        "\n",
        "## 10. Seasonal Trend Decomposition using Loess\n",
        "\n",
        "Timeseries decomposition is a process that extracts the features for analysis. Seasonal Trend Decomposition using Loess (STL) is a specific type of decomposition that can estimate non-linear relationships. This method is robust to outliers and can handle any kind of seasonality within the data. The function will return three components of the timeseries:\n",
        "\n",
        "* Season\n",
        "* Trend\n",
        "* Residual\n",
        "\n",
        "A residual or remainder component is what is left over after extracting the season and the trend. A residual that shows strong elements of the trend or season reflects an incomplete decomposition. Residual points that deviate significantly can be classified as outliers."
      ],
      "metadata": {
        "id": "QVUWVQ6Gwxcm"
      }
    },
    {
      "cell_type": "code",
      "source": [
        "res = STL(df['MONTHLY_AVG'], period=12).fit()\n",
        "\n",
        "# Create plots for each STL component\n",
        "fig, (ax1, ax2, ax3, ax4) = plt.subplots(4, 1)\n",
        "\n",
        "plt.suptitle('STL Decomposition')\n",
        "\n",
        "sns.lineplot(data=df['MONTHLY_AVG'], ax=ax1, color='green')\n",
        "ax1.set_title('ComEd Monthly Average Energy Consumption')\n",
        "ax1.set_ylabel('')\n",
        "ax1.yaxis.set_major_formatter(ticker.StrMethodFormatter('{x:,.0f}'))\n",
        "\n",
        "sns.lineplot(data=res.trend, ax=ax2, color='navy')\n",
        "ax2.yaxis.set_major_formatter(ticker.StrMethodFormatter('{x:,.0f}'))\n",
        "\n",
        "sns.lineplot(data=res.seasonal, ax=ax3, color='red')\n",
        "ax3.yaxis.set_major_formatter(ticker.StrMethodFormatter('{x:,.0f}'))\n",
        "\n",
        "sns.lineplot(data=res.resid, ax=ax4, color='orange')\n",
        "ax4.yaxis.set_major_formatter(ticker.StrMethodFormatter('{x:,.0f}'))\n",
        "\n",
        "plt.tight_layout()\n",
        "plt.show()"
      ],
      "metadata": {
        "execution": {
          "iopub.status.busy": "2022-05-02T15:14:01.281849Z",
          "iopub.execute_input": "2022-05-02T15:14:01.28225Z",
          "iopub.status.idle": "2022-05-02T15:14:03.028576Z",
          "shell.execute_reply.started": "2022-05-02T15:14:01.282216Z",
          "shell.execute_reply": "2022-05-02T15:14:03.02765Z"
        },
        "trusted": true,
        "id": "0odX8f0Swxcn"
      },
      "execution_count": null,
      "outputs": []
    },
    {
      "cell_type": "markdown",
      "source": [
        "Here we see a seasonal component similar in pattern to our quarter and month plots. The smoothed trend displays a gradual drop in average energy usage from 2011 to 2016. The residual component is random and doesn't show significant signal from the trend or season.\n",
        "\n",
        "## 11. Conclusion\n",
        "\n",
        "We've employed various timeseries visualizations for analysis of our ComEd energy use case. Beginning with a standard time plot, we worked through lag plots and autocorrelations to differencing, seasonal plots, a moving average, and STL decomposition. The next phase in this timeseries exercise will be to explore forecasting methods."
      ],
      "metadata": {
        "id": "r82NXRYJwxcn"
      }
    }
  ]
}

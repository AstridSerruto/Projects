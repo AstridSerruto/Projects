{
  "nbformat": 4,
  "nbformat_minor": 0,
  "metadata": {
    "colab": {
      "name": "Data Analysis in SQL",
      "provenance": [],
      "collapsed_sections": [],
      "authorship_tag": "ABX9TyOKRvGpDjN/LyvAhUAr9DrJ",
      "include_colab_link": true
    },
    "kernelspec": {
      "name": "python3",
      "display_name": "Python 3"
    }
  },
  "cells": [
    {
      "cell_type": "markdown",
      "metadata": {
        "id": "view-in-github",
        "colab_type": "text"
      },
      "source": [
        "<a href=\"https://colab.research.google.com/github/Abkhenaten/Projects/blob/master/Data_Analysis_in_SQL.ipynb\" target=\"_parent\"><img src=\"https://colab.research.google.com/assets/colab-badge.svg\" alt=\"Open In Colab\"/></a>"
      ]
    },
    {
      "cell_type": "markdown",
      "metadata": {
        "id": "b6SWOvwZIzgR"
      },
      "source": [
        "The Dataset\n",
        "\n",
        "Using two tables. The first, user_sessions, stores data user session data on a social media website. The table's schema is as follows:\n",
        "\n",
        "session_date: The date on which the user accessed the site\n",
        "\n",
        "user_id: The user's unique identifier\n",
        "time_spent_in_mins: How much time the user spent on the site\n",
        "\n",
        "The second, user_data, stores the users' metadata. The table's schema is as follows:\n",
        "\n",
        "user_id: The user's unique identifier\n",
        "\n",
        "country: The user's country\n",
        "age: The user's age"
      ]
    },
    {
      "cell_type": "markdown",
      "metadata": {
        "id": "WiVIV51wHnXB"
      },
      "source": [
        "Install PosgreSQL"
      ]
    },
    {
      "cell_type": "code",
      "metadata": {
        "id": "xsJOyLAVHduO"
      },
      "source": [
        "#This block of code will install PosgreSQL\n",
        "%%capture\n",
        "!wget -qO- https://www.postgresql.org/media/keys/ACCC4CF8.asc | apt-key add -\n",
        "!echo \"deb http://apt.postgresql.org/pub/repos/apt/ bionic-pgdg main\" >/etc/apt/sources.list.d/pgdg.list\n",
        "!apt -qq update\n",
        "!apt -yq install postgresql-12 postgresql-client-12\n",
        "!service postgresql start\n",
        "# make calling psql shorter\n",
        "!sudo -u postgres psql -c \"CREATE USER root WITH SUPERUSER\"  \n",
        "!psql postgres -c \"CREATE DATABASE root\"  # now just !psql -c \"...\"\n",
        "# load SQL extensions\n",
        "%load_ext sql\n",
        "%config SqlMagic.feedback=False \n",
        "%config SqlMagic.autopandas=True\n",
        "%sql postgresql+psycopg2://@/postgres"
      ],
      "execution_count": 1,
      "outputs": []
    },
    {
      "cell_type": "markdown",
      "metadata": {
        "id": "wAM87Gc1H6QC"
      },
      "source": [
        "Download data to local environment"
      ]
    },
    {
      "cell_type": "code",
      "metadata": {
        "id": "lZ0L2LcxH-lG"
      },
      "source": [
        "#This will download your data to local environment\n",
        "!wget -q https://github.com/datacamp/data-analysis-in-sql-live-training/raw/master/data/user_data.csv\n",
        "!wget -q https://github.com/datacamp/data-analysis-in-sql-live-training/raw/master/data/user_metadata.csv"
      ],
      "execution_count": 2,
      "outputs": []
    },
    {
      "cell_type": "markdown",
      "metadata": {
        "id": "tJUlWwHdIKo-"
      },
      "source": [
        "Create table"
      ]
    },
    {
      "cell_type": "code",
      "metadata": {
        "id": "2GGwkggeIM6L",
        "outputId": "31ebc9b3-50c6-48bf-e990-d051d7ae4333",
        "colab": {
          "base_uri": "https://localhost:8080/",
          "height": 49
        }
      },
      "source": [
        "%%sql\n",
        "-- Make sure to amend you table name, column names and types\n",
        "DROP TABLE IF EXISTS user_sessions;\n",
        "CREATE TABLE user_sessions(\n",
        " session_date date,\n",
        " user_id int,\n",
        " time_spent_in_mins int\n",
        ");\n",
        "\n",
        "COPY user_sessions\n",
        "-- Make sure to point to correct file and delimiter \n",
        "FROM '/content/user_data.csv' DELIMITER ',' CSV HEADER;\n",
        "\n",
        "DROP TABLE IF EXISTS user_data;\n",
        "CREATE TABLE user_data(\n",
        " user_id int,\n",
        " country char(3),\n",
        " age int\n",
        ");\n",
        "\n",
        "COPY user_data\n",
        "-- Make sure to point to correct file and delimiter \n",
        "FROM '/content/user_metadata.csv' DELIMITER ',' CSV HEADER;"
      ],
      "execution_count": 3,
      "outputs": [
        {
          "output_type": "stream",
          "text": [
            " * postgresql+psycopg2://@/postgres\n"
          ],
          "name": "stdout"
        },
        {
          "output_type": "execute_result",
          "data": {
            "text/html": [
              "<div>\n",
              "<style scoped>\n",
              "    .dataframe tbody tr th:only-of-type {\n",
              "        vertical-align: middle;\n",
              "    }\n",
              "\n",
              "    .dataframe tbody tr th {\n",
              "        vertical-align: top;\n",
              "    }\n",
              "\n",
              "    .dataframe thead th {\n",
              "        text-align: right;\n",
              "    }\n",
              "</style>\n",
              "<table border=\"1\" class=\"dataframe\">\n",
              "  <thead>\n",
              "    <tr style=\"text-align: right;\">\n",
              "      <th></th>\n",
              "    </tr>\n",
              "  </thead>\n",
              "  <tbody>\n",
              "  </tbody>\n",
              "</table>\n",
              "</div>"
            ],
            "text/plain": [
              "Empty DataFrame\n",
              "Columns: []\n",
              "Index: []"
            ]
          },
          "metadata": {
            "tags": []
          },
          "execution_count": 3
        }
      ]
    },
    {
      "cell_type": "markdown",
      "metadata": {
        "id": "5BUQLSXbIWFw"
      },
      "source": [
        "Let's explore the tables"
      ]
    },
    {
      "cell_type": "code",
      "metadata": {
        "id": "qOBvx3uwIZNd",
        "outputId": "7a5323bd-219d-4b48-edaf-7446b4496ce9",
        "colab": {
          "base_uri": "https://localhost:8080/",
          "height": 221
        }
      },
      "source": [
        "%%sql\n",
        "\n",
        "-- SELECT first 5 rows from user_sessions\n",
        "\n",
        "SELECT *\n",
        "FROM user_sessions \n",
        "LIMIT 5;"
      ],
      "execution_count": 4,
      "outputs": [
        {
          "output_type": "stream",
          "text": [
            " * postgresql+psycopg2://@/postgres\n"
          ],
          "name": "stdout"
        },
        {
          "output_type": "execute_result",
          "data": {
            "text/html": [
              "<div>\n",
              "<style scoped>\n",
              "    .dataframe tbody tr th:only-of-type {\n",
              "        vertical-align: middle;\n",
              "    }\n",
              "\n",
              "    .dataframe tbody tr th {\n",
              "        vertical-align: top;\n",
              "    }\n",
              "\n",
              "    .dataframe thead th {\n",
              "        text-align: right;\n",
              "    }\n",
              "</style>\n",
              "<table border=\"1\" class=\"dataframe\">\n",
              "  <thead>\n",
              "    <tr style=\"text-align: right;\">\n",
              "      <th></th>\n",
              "      <th>session_date</th>\n",
              "      <th>user_id</th>\n",
              "      <th>time_spent_in_mins</th>\n",
              "    </tr>\n",
              "  </thead>\n",
              "  <tbody>\n",
              "    <tr>\n",
              "      <th>0</th>\n",
              "      <td>2020-01-01</td>\n",
              "      <td>1</td>\n",
              "      <td>127</td>\n",
              "    </tr>\n",
              "    <tr>\n",
              "      <th>1</th>\n",
              "      <td>2020-01-01</td>\n",
              "      <td>2</td>\n",
              "      <td>147</td>\n",
              "    </tr>\n",
              "    <tr>\n",
              "      <th>2</th>\n",
              "      <td>2020-01-01</td>\n",
              "      <td>5</td>\n",
              "      <td>106</td>\n",
              "    </tr>\n",
              "    <tr>\n",
              "      <th>3</th>\n",
              "      <td>2020-01-01</td>\n",
              "      <td>6</td>\n",
              "      <td>179</td>\n",
              "    </tr>\n",
              "    <tr>\n",
              "      <th>4</th>\n",
              "      <td>2020-01-01</td>\n",
              "      <td>7</td>\n",
              "      <td>143</td>\n",
              "    </tr>\n",
              "  </tbody>\n",
              "</table>\n",
              "</div>"
            ],
            "text/plain": [
              "  session_date  user_id  time_spent_in_mins\n",
              "0   2020-01-01        1                 127\n",
              "1   2020-01-01        2                 147\n",
              "2   2020-01-01        5                 106\n",
              "3   2020-01-01        6                 179\n",
              "4   2020-01-01        7                 143"
            ]
          },
          "metadata": {
            "tags": []
          },
          "execution_count": 4
        }
      ]
    },
    {
      "cell_type": "code",
      "metadata": {
        "id": "AANVJzq4IgdZ",
        "outputId": "cb576f31-4801-4ac9-e2b8-2cdb5d00121d",
        "colab": {
          "base_uri": "https://localhost:8080/",
          "height": 221
        }
      },
      "source": [
        "%%sql\n",
        "\n",
        "-- SELECT first 5 rows from user_data\n",
        "\n",
        "SELECT *\n",
        "FROM user_data \n",
        "LIMIT 5;"
      ],
      "execution_count": 5,
      "outputs": [
        {
          "output_type": "stream",
          "text": [
            " * postgresql+psycopg2://@/postgres\n"
          ],
          "name": "stdout"
        },
        {
          "output_type": "execute_result",
          "data": {
            "text/html": [
              "<div>\n",
              "<style scoped>\n",
              "    .dataframe tbody tr th:only-of-type {\n",
              "        vertical-align: middle;\n",
              "    }\n",
              "\n",
              "    .dataframe tbody tr th {\n",
              "        vertical-align: top;\n",
              "    }\n",
              "\n",
              "    .dataframe thead th {\n",
              "        text-align: right;\n",
              "    }\n",
              "</style>\n",
              "<table border=\"1\" class=\"dataframe\">\n",
              "  <thead>\n",
              "    <tr style=\"text-align: right;\">\n",
              "      <th></th>\n",
              "      <th>user_id</th>\n",
              "      <th>country</th>\n",
              "      <th>age</th>\n",
              "    </tr>\n",
              "  </thead>\n",
              "  <tbody>\n",
              "    <tr>\n",
              "      <th>0</th>\n",
              "      <td>0</td>\n",
              "      <td>GER</td>\n",
              "      <td>23</td>\n",
              "    </tr>\n",
              "    <tr>\n",
              "      <th>1</th>\n",
              "      <td>1</td>\n",
              "      <td>IND</td>\n",
              "      <td>23</td>\n",
              "    </tr>\n",
              "    <tr>\n",
              "      <th>2</th>\n",
              "      <td>2</td>\n",
              "      <td>IND</td>\n",
              "      <td>43</td>\n",
              "    </tr>\n",
              "    <tr>\n",
              "      <th>3</th>\n",
              "      <td>3</td>\n",
              "      <td>GER</td>\n",
              "      <td>22</td>\n",
              "    </tr>\n",
              "    <tr>\n",
              "      <th>4</th>\n",
              "      <td>4</td>\n",
              "      <td>JPN</td>\n",
              "      <td>47</td>\n",
              "    </tr>\n",
              "  </tbody>\n",
              "</table>\n",
              "</div>"
            ],
            "text/plain": [
              "   user_id country  age\n",
              "0        0     GER   23\n",
              "1        1     IND   23\n",
              "2        2     IND   43\n",
              "3        3     GER   22\n",
              "4        4     JPN   47"
            ]
          },
          "metadata": {
            "tags": []
          },
          "execution_count": 5
        }
      ]
    },
    {
      "cell_type": "code",
      "metadata": {
        "id": "Z9M_f4C9IlUG",
        "outputId": "3f7348eb-387d-4c94-ddae-c6034b33dbce",
        "colab": {
          "base_uri": "https://localhost:8080/",
          "height": 221
        }
      },
      "source": [
        "%%sql\n",
        "\n",
        "-- Join the two tables together\n",
        "\n",
        "SELECT *\n",
        "FROM user_sessions\n",
        "JOIN user_data ON user_sessions.user_id = user_data.user_id\n",
        "LIMIT 5;"
      ],
      "execution_count": 6,
      "outputs": [
        {
          "output_type": "stream",
          "text": [
            " * postgresql+psycopg2://@/postgres\n"
          ],
          "name": "stdout"
        },
        {
          "output_type": "execute_result",
          "data": {
            "text/html": [
              "<div>\n",
              "<style scoped>\n",
              "    .dataframe tbody tr th:only-of-type {\n",
              "        vertical-align: middle;\n",
              "    }\n",
              "\n",
              "    .dataframe tbody tr th {\n",
              "        vertical-align: top;\n",
              "    }\n",
              "\n",
              "    .dataframe thead th {\n",
              "        text-align: right;\n",
              "    }\n",
              "</style>\n",
              "<table border=\"1\" class=\"dataframe\">\n",
              "  <thead>\n",
              "    <tr style=\"text-align: right;\">\n",
              "      <th></th>\n",
              "      <th>session_date</th>\n",
              "      <th>user_id</th>\n",
              "      <th>time_spent_in_mins</th>\n",
              "      <th>user_id</th>\n",
              "      <th>country</th>\n",
              "      <th>age</th>\n",
              "    </tr>\n",
              "  </thead>\n",
              "  <tbody>\n",
              "    <tr>\n",
              "      <th>0</th>\n",
              "      <td>2020-01-01</td>\n",
              "      <td>1</td>\n",
              "      <td>127</td>\n",
              "      <td>1</td>\n",
              "      <td>IND</td>\n",
              "      <td>23</td>\n",
              "    </tr>\n",
              "    <tr>\n",
              "      <th>1</th>\n",
              "      <td>2020-01-01</td>\n",
              "      <td>2</td>\n",
              "      <td>147</td>\n",
              "      <td>2</td>\n",
              "      <td>IND</td>\n",
              "      <td>43</td>\n",
              "    </tr>\n",
              "    <tr>\n",
              "      <th>2</th>\n",
              "      <td>2020-01-01</td>\n",
              "      <td>5</td>\n",
              "      <td>106</td>\n",
              "      <td>5</td>\n",
              "      <td>GER</td>\n",
              "      <td>52</td>\n",
              "    </tr>\n",
              "    <tr>\n",
              "      <th>3</th>\n",
              "      <td>2020-01-01</td>\n",
              "      <td>6</td>\n",
              "      <td>179</td>\n",
              "      <td>6</td>\n",
              "      <td>GER</td>\n",
              "      <td>46</td>\n",
              "    </tr>\n",
              "    <tr>\n",
              "      <th>4</th>\n",
              "      <td>2020-01-01</td>\n",
              "      <td>7</td>\n",
              "      <td>143</td>\n",
              "      <td>7</td>\n",
              "      <td>GBR</td>\n",
              "      <td>59</td>\n",
              "    </tr>\n",
              "  </tbody>\n",
              "</table>\n",
              "</div>"
            ],
            "text/plain": [
              "  session_date  user_id  time_spent_in_mins  user_id country  age\n",
              "0   2020-01-01        1                 127        1     IND   23\n",
              "1   2020-01-01        2                 147        2     IND   43\n",
              "2   2020-01-01        5                 106        5     GER   52\n",
              "3   2020-01-01        6                 179        6     GER   46\n",
              "4   2020-01-01        7                 143        7     GBR   59"
            ]
          },
          "metadata": {
            "tags": []
          },
          "execution_count": 6
        }
      ]
    },
    {
      "cell_type": "markdown",
      "metadata": {
        "id": "8LtiwZbwJZt2"
      },
      "source": [
        "Active users\n",
        "\n",
        "The active users KPI counts the active users of a company's app over a certain time period:\n",
        "\n",
        "by day (daily active users, or DAU)\n",
        "by month (monthly active users, or MAU)\n",
        "For example, Facebook had 1.76B DAU and 2.6 MAU in March.\n",
        "\n",
        "Stickiness (DAU / MAU) measures how often users engage with an app on average. Facebook's stickiness for March was 1.76B / 2.6B ~= 0.677, meaning that, on average, users used Facebook for 67.7% x 30 days ~= 20 days each month.\n",
        "\n",
        "To get the daily active users, we count the number of unique user_ids for each session_date"
      ]
    },
    {
      "cell_type": "code",
      "metadata": {
        "id": "OdGIvEESJc4n",
        "outputId": "b5f64f42-c7f8-4f9a-e01a-595e792b51d9",
        "colab": {
          "base_uri": "https://localhost:8080/",
          "height": 436
        }
      },
      "source": [
        "%%sql\n",
        "\n",
        "-- Calculate the Daily Active Users (DAU)\n",
        "\n",
        "SELECT DISTINCT\n",
        "  session_date,\n",
        "  COUNT(DISTINCT user_id) AS users\n",
        "FROM user_sessions\n",
        "GROUP BY session_date\n",
        "ORDER BY session_date ASC;"
      ],
      "execution_count": 7,
      "outputs": [
        {
          "output_type": "stream",
          "text": [
            " * postgresql+psycopg2://@/postgres\n"
          ],
          "name": "stdout"
        },
        {
          "output_type": "execute_result",
          "data": {
            "text/html": [
              "<div>\n",
              "<style scoped>\n",
              "    .dataframe tbody tr th:only-of-type {\n",
              "        vertical-align: middle;\n",
              "    }\n",
              "\n",
              "    .dataframe tbody tr th {\n",
              "        vertical-align: top;\n",
              "    }\n",
              "\n",
              "    .dataframe thead th {\n",
              "        text-align: right;\n",
              "    }\n",
              "</style>\n",
              "<table border=\"1\" class=\"dataframe\">\n",
              "  <thead>\n",
              "    <tr style=\"text-align: right;\">\n",
              "      <th></th>\n",
              "      <th>session_date</th>\n",
              "      <th>users</th>\n",
              "    </tr>\n",
              "  </thead>\n",
              "  <tbody>\n",
              "    <tr>\n",
              "      <th>0</th>\n",
              "      <td>2020-01-01</td>\n",
              "      <td>777</td>\n",
              "    </tr>\n",
              "    <tr>\n",
              "      <th>1</th>\n",
              "      <td>2020-01-02</td>\n",
              "      <td>755</td>\n",
              "    </tr>\n",
              "    <tr>\n",
              "      <th>2</th>\n",
              "      <td>2020-01-03</td>\n",
              "      <td>786</td>\n",
              "    </tr>\n",
              "    <tr>\n",
              "      <th>3</th>\n",
              "      <td>2020-01-04</td>\n",
              "      <td>760</td>\n",
              "    </tr>\n",
              "    <tr>\n",
              "      <th>4</th>\n",
              "      <td>2020-01-05</td>\n",
              "      <td>749</td>\n",
              "    </tr>\n",
              "    <tr>\n",
              "      <th>...</th>\n",
              "      <td>...</td>\n",
              "      <td>...</td>\n",
              "    </tr>\n",
              "    <tr>\n",
              "      <th>147</th>\n",
              "      <td>2020-05-27</td>\n",
              "      <td>1034</td>\n",
              "    </tr>\n",
              "    <tr>\n",
              "      <th>148</th>\n",
              "      <td>2020-05-28</td>\n",
              "      <td>1066</td>\n",
              "    </tr>\n",
              "    <tr>\n",
              "      <th>149</th>\n",
              "      <td>2020-05-29</td>\n",
              "      <td>1023</td>\n",
              "    </tr>\n",
              "    <tr>\n",
              "      <th>150</th>\n",
              "      <td>2020-05-30</td>\n",
              "      <td>1050</td>\n",
              "    </tr>\n",
              "    <tr>\n",
              "      <th>151</th>\n",
              "      <td>2020-05-31</td>\n",
              "      <td>1038</td>\n",
              "    </tr>\n",
              "  </tbody>\n",
              "</table>\n",
              "<p>152 rows × 2 columns</p>\n",
              "</div>"
            ],
            "text/plain": [
              "    session_date  users\n",
              "0     2020-01-01    777\n",
              "1     2020-01-02    755\n",
              "2     2020-01-03    786\n",
              "3     2020-01-04    760\n",
              "4     2020-01-05    749\n",
              "..           ...    ...\n",
              "147   2020-05-27   1034\n",
              "148   2020-05-28   1066\n",
              "149   2020-05-29   1023\n",
              "150   2020-05-30   1050\n",
              "151   2020-05-31   1038\n",
              "\n",
              "[152 rows x 2 columns]"
            ]
          },
          "metadata": {
            "tags": []
          },
          "execution_count": 7
        }
      ]
    },
    {
      "cell_type": "markdown",
      "metadata": {
        "id": "lBXoGL_LJxL-"
      },
      "source": [
        "Monthly active users\n",
        "\n",
        "Usually, reports include MAU, not DAU. \n",
        "\n",
        "Enter DATE_TRUNC\n",
        "\n",
        "DATE_TRUNC(date_part, date) → DATE: Truncates date to the nearest date_part.\n",
        "\n",
        "Examples\n",
        "\n",
        "DATE_TRUNC('week', '2018-06-12') :: DATE → '2018-06-11'\n",
        "DATE_TRUNC('month', '2018-06-12') :: DATE → '2018-06-01'\n",
        "DATE_TRUNC('quarter', '2018-06-12') :: DATE → '2018-04-01'\n",
        "DATE_TRUNC('year', '2018-06-12') :: DATE → '2018-01-01'\n",
        "Note: :: DATE is just to remove the hours, minutes, and seconds."
      ]
    },
    {
      "cell_type": "code",
      "metadata": {
        "id": "xnXEYTKJJzle",
        "outputId": "1e76ec90-640f-4391-9b26-afce73b71666",
        "colab": {
          "base_uri": "https://localhost:8080/",
          "height": 221
        }
      },
      "source": [
        "%%sql\n",
        "\n",
        "-- Calculate the Monthly Active Users (DAU)\n",
        "\n",
        "SELECT\n",
        "  DATE_TRUNC('month', session_date) :: DATE AS session_month,\n",
        "  COUNT(DISTINCT user_id) AS active_users\n",
        "FROM user_sessions\n",
        "GROUP BY session_month\n",
        "ORDER BY session_month ASC;"
      ],
      "execution_count": 8,
      "outputs": [
        {
          "output_type": "stream",
          "text": [
            " * postgresql+psycopg2://@/postgres\n"
          ],
          "name": "stdout"
        },
        {
          "output_type": "execute_result",
          "data": {
            "text/html": [
              "<div>\n",
              "<style scoped>\n",
              "    .dataframe tbody tr th:only-of-type {\n",
              "        vertical-align: middle;\n",
              "    }\n",
              "\n",
              "    .dataframe tbody tr th {\n",
              "        vertical-align: top;\n",
              "    }\n",
              "\n",
              "    .dataframe thead th {\n",
              "        text-align: right;\n",
              "    }\n",
              "</style>\n",
              "<table border=\"1\" class=\"dataframe\">\n",
              "  <thead>\n",
              "    <tr style=\"text-align: right;\">\n",
              "      <th></th>\n",
              "      <th>session_month</th>\n",
              "      <th>active_users</th>\n",
              "    </tr>\n",
              "  </thead>\n",
              "  <tbody>\n",
              "    <tr>\n",
              "      <th>0</th>\n",
              "      <td>2020-01-01</td>\n",
              "      <td>1472</td>\n",
              "    </tr>\n",
              "    <tr>\n",
              "      <th>1</th>\n",
              "      <td>2020-02-01</td>\n",
              "      <td>1621</td>\n",
              "    </tr>\n",
              "    <tr>\n",
              "      <th>2</th>\n",
              "      <td>2020-03-01</td>\n",
              "      <td>1723</td>\n",
              "    </tr>\n",
              "    <tr>\n",
              "      <th>3</th>\n",
              "      <td>2020-04-01</td>\n",
              "      <td>1879</td>\n",
              "    </tr>\n",
              "    <tr>\n",
              "      <th>4</th>\n",
              "      <td>2020-05-01</td>\n",
              "      <td>1995</td>\n",
              "    </tr>\n",
              "  </tbody>\n",
              "</table>\n",
              "</div>"
            ],
            "text/plain": [
              "  session_month  active_users\n",
              "0    2020-01-01          1472\n",
              "1    2020-02-01          1621\n",
              "2    2020-03-01          1723\n",
              "3    2020-04-01          1879\n",
              "4    2020-05-01          1995"
            ]
          },
          "metadata": {
            "tags": []
          },
          "execution_count": 8
        }
      ]
    },
    {
      "cell_type": "markdown",
      "metadata": {
        "id": "5zieVFQ-KD9Y"
      },
      "source": [
        "Registration dates\n",
        "\n",
        "Define the user's registration date as the date of that user's first session.\n",
        "\n",
        "Each user's registration date is the minimum session date for that user in the user_sessions table.\n",
        "\n",
        "Use these results later on to calculate the growth in registrations.\n",
        "\n"
      ]
    },
    {
      "cell_type": "code",
      "metadata": {
        "id": "yJo1GbWLKBaB",
        "outputId": "ae06fc4a-ae1c-4b2e-91dd-6cccce3f5be0",
        "colab": {
          "base_uri": "https://localhost:8080/",
          "height": 436
        }
      },
      "source": [
        "%%sql\n",
        "\n",
        "-- Get each user's registration date\n",
        "\n",
        "SELECT\n",
        "  user_id,\n",
        "  MIN(session_date) AS reg_date\n",
        "FROM user_sessions\n",
        "GROUP BY user_id\n",
        "ORDER BY reg_date ASC, user_id ASC;"
      ],
      "execution_count": 9,
      "outputs": [
        {
          "output_type": "stream",
          "text": [
            " * postgresql+psycopg2://@/postgres\n"
          ],
          "name": "stdout"
        },
        {
          "output_type": "execute_result",
          "data": {
            "text/html": [
              "<div>\n",
              "<style scoped>\n",
              "    .dataframe tbody tr th:only-of-type {\n",
              "        vertical-align: middle;\n",
              "    }\n",
              "\n",
              "    .dataframe tbody tr th {\n",
              "        vertical-align: top;\n",
              "    }\n",
              "\n",
              "    .dataframe thead th {\n",
              "        text-align: right;\n",
              "    }\n",
              "</style>\n",
              "<table border=\"1\" class=\"dataframe\">\n",
              "  <thead>\n",
              "    <tr style=\"text-align: right;\">\n",
              "      <th></th>\n",
              "      <th>user_id</th>\n",
              "      <th>reg_date</th>\n",
              "    </tr>\n",
              "  </thead>\n",
              "  <tbody>\n",
              "    <tr>\n",
              "      <th>0</th>\n",
              "      <td>1</td>\n",
              "      <td>2020-01-01</td>\n",
              "    </tr>\n",
              "    <tr>\n",
              "      <th>1</th>\n",
              "      <td>2</td>\n",
              "      <td>2020-01-01</td>\n",
              "    </tr>\n",
              "    <tr>\n",
              "      <th>2</th>\n",
              "      <td>5</td>\n",
              "      <td>2020-01-01</td>\n",
              "    </tr>\n",
              "    <tr>\n",
              "      <th>3</th>\n",
              "      <td>6</td>\n",
              "      <td>2020-01-01</td>\n",
              "    </tr>\n",
              "    <tr>\n",
              "      <th>4</th>\n",
              "      <td>7</td>\n",
              "      <td>2020-01-01</td>\n",
              "    </tr>\n",
              "    <tr>\n",
              "      <th>...</th>\n",
              "      <td>...</td>\n",
              "      <td>...</td>\n",
              "    </tr>\n",
              "    <tr>\n",
              "      <th>2056</th>\n",
              "      <td>1953</td>\n",
              "      <td>2020-05-11</td>\n",
              "    </tr>\n",
              "    <tr>\n",
              "      <th>2057</th>\n",
              "      <td>2051</td>\n",
              "      <td>2020-05-11</td>\n",
              "    </tr>\n",
              "    <tr>\n",
              "      <th>2058</th>\n",
              "      <td>1969</td>\n",
              "      <td>2020-05-13</td>\n",
              "    </tr>\n",
              "    <tr>\n",
              "      <th>2059</th>\n",
              "      <td>2040</td>\n",
              "      <td>2020-05-15</td>\n",
              "    </tr>\n",
              "    <tr>\n",
              "      <th>2060</th>\n",
              "      <td>1946</td>\n",
              "      <td>2020-05-16</td>\n",
              "    </tr>\n",
              "  </tbody>\n",
              "</table>\n",
              "<p>2061 rows × 2 columns</p>\n",
              "</div>"
            ],
            "text/plain": [
              "      user_id    reg_date\n",
              "0           1  2020-01-01\n",
              "1           2  2020-01-01\n",
              "2           5  2020-01-01\n",
              "3           6  2020-01-01\n",
              "4           7  2020-01-01\n",
              "...       ...         ...\n",
              "2056     1953  2020-05-11\n",
              "2057     2051  2020-05-11\n",
              "2058     1969  2020-05-13\n",
              "2059     2040  2020-05-15\n",
              "2060     1946  2020-05-16\n",
              "\n",
              "[2061 rows x 2 columns]"
            ]
          },
          "metadata": {
            "tags": []
          },
          "execution_count": 9
        }
      ]
    },
    {
      "cell_type": "markdown",
      "metadata": {
        "id": "YVH-pSduKU-4"
      },
      "source": [
        "Registrations and Common Table Expressions (CTEs)\n",
        "\n",
        " We have each user's registration date, we will store the results to use them in a different query. \n",
        "\n",
        "Enter Common Table Expressions (CTEs)\n",
        "\n",
        "WITH cte_name AS (\n",
        "  ...\n",
        ")\n",
        " \n",
        "SELECT *\n",
        "FROM cte_name;\n",
        "\n",
        "A CTE stores the results of a query temporarily in the specificed cte_name so it can be used in the outer query later on."
      ]
    },
    {
      "cell_type": "code",
      "metadata": {
        "id": "nWmwayDNKV0M",
        "outputId": "850c6cc4-b581-480d-c2cc-1775be1c4ffa",
        "colab": {
          "base_uri": "https://localhost:8080/",
          "height": 221
        }
      },
      "source": [
        "%%sql\n",
        "\n",
        "-- Store each user's registration date in the regs CTE\n",
        "-- Calculate the number of registrations per month\n",
        "\n",
        "WITH regs AS (\n",
        "  SELECT\n",
        "    user_id,\n",
        "    MIN(session_date) AS reg_date\n",
        "  FROM user_sessions\n",
        "  GROUP BY user_id)\n",
        "\n",
        "SELECT\n",
        "  DATE_TRUNC('month', reg_date) :: DATE AS reg_month,\n",
        "  COUNT(DISTINCT user_id) AS users\n",
        "FROM regs\n",
        "GROUP BY reg_month\n",
        "ORDER BY reg_month ASC;"
      ],
      "execution_count": 11,
      "outputs": [
        {
          "output_type": "stream",
          "text": [
            " * postgresql+psycopg2://@/postgres\n"
          ],
          "name": "stdout"
        },
        {
          "output_type": "execute_result",
          "data": {
            "text/html": [
              "<div>\n",
              "<style scoped>\n",
              "    .dataframe tbody tr th:only-of-type {\n",
              "        vertical-align: middle;\n",
              "    }\n",
              "\n",
              "    .dataframe tbody tr th {\n",
              "        vertical-align: top;\n",
              "    }\n",
              "\n",
              "    .dataframe thead th {\n",
              "        text-align: right;\n",
              "    }\n",
              "</style>\n",
              "<table border=\"1\" class=\"dataframe\">\n",
              "  <thead>\n",
              "    <tr style=\"text-align: right;\">\n",
              "      <th></th>\n",
              "      <th>reg_month</th>\n",
              "      <th>users</th>\n",
              "    </tr>\n",
              "  </thead>\n",
              "  <tbody>\n",
              "    <tr>\n",
              "      <th>0</th>\n",
              "      <td>2020-01-01</td>\n",
              "      <td>1472</td>\n",
              "    </tr>\n",
              "    <tr>\n",
              "      <th>1</th>\n",
              "      <td>2020-02-01</td>\n",
              "      <td>166</td>\n",
              "    </tr>\n",
              "    <tr>\n",
              "      <th>2</th>\n",
              "      <td>2020-03-01</td>\n",
              "      <td>147</td>\n",
              "    </tr>\n",
              "    <tr>\n",
              "      <th>3</th>\n",
              "      <td>2020-04-01</td>\n",
              "      <td>152</td>\n",
              "    </tr>\n",
              "    <tr>\n",
              "      <th>4</th>\n",
              "      <td>2020-05-01</td>\n",
              "      <td>124</td>\n",
              "    </tr>\n",
              "  </tbody>\n",
              "</table>\n",
              "</div>"
            ],
            "text/plain": [
              "    reg_month  users\n",
              "0  2020-01-01   1472\n",
              "1  2020-02-01    166\n",
              "2  2020-03-01    147\n",
              "3  2020-04-01    152\n",
              "4  2020-05-01    124"
            ]
          },
          "metadata": {
            "tags": []
          },
          "execution_count": 11
        }
      ]
    },
    {
      "cell_type": "markdown",
      "metadata": {
        "id": "G-GIfc4wMBoD"
      },
      "source": [
        "Growth and window functions\n",
        "\n",
        "Growth = (Current month - previous month) / previous month\n",
        "\n",
        "We need both the previous and the current months' registrations in the same row. \n",
        "\n",
        "Window functions\n",
        "\n",
        "A window function performs some operation across a set of table rows that are somehow related to the current row.\n",
        "\n",
        "LAG(column_a, 1) OVER (ORDER BY column_b ASC) Gets the previous row's value in column_a if you sort by column_b."
      ]
    },
    {
      "cell_type": "code",
      "metadata": {
        "id": "r7jnifiuMWpq",
        "outputId": "b0cd0ad1-1a29-4215-8dd6-df4957fe5f63",
        "colab": {
          "base_uri": "https://localhost:8080/",
          "height": 221
        }
      },
      "source": [
        "%%sql\n",
        "-- Fetch the previous and current months' MAUs\n",
        "\n",
        "\n",
        "WITH regs AS (\n",
        "  SELECT\n",
        "    user_id,\n",
        "    MIN(session_date) AS reg_date\n",
        "  FROM user_sessions\n",
        "  GROUP BY user_id),\n",
        "\n",
        "  regs_per_month AS (\n",
        "    SELECT\n",
        "      DATE_TRUNC('month', reg_date) :: DATE AS reg_month,\n",
        "      COUNT(DISTINCT user_id) AS users\n",
        "    FROM regs\n",
        "    GROUP BY reg_month\n",
        "  )\n",
        "\n",
        "SELECT\n",
        "  reg_month,\n",
        "  users,\n",
        "  LAG(users, 1) OVER (ORDER BY regs_per_month ASC) AS previous_users\n",
        "FROM regs_per_month\n",
        "ORDER BY reg_month ASC;"
      ],
      "execution_count": 12,
      "outputs": [
        {
          "output_type": "stream",
          "text": [
            " * postgresql+psycopg2://@/postgres\n"
          ],
          "name": "stdout"
        },
        {
          "output_type": "execute_result",
          "data": {
            "text/html": [
              "<div>\n",
              "<style scoped>\n",
              "    .dataframe tbody tr th:only-of-type {\n",
              "        vertical-align: middle;\n",
              "    }\n",
              "\n",
              "    .dataframe tbody tr th {\n",
              "        vertical-align: top;\n",
              "    }\n",
              "\n",
              "    .dataframe thead th {\n",
              "        text-align: right;\n",
              "    }\n",
              "</style>\n",
              "<table border=\"1\" class=\"dataframe\">\n",
              "  <thead>\n",
              "    <tr style=\"text-align: right;\">\n",
              "      <th></th>\n",
              "      <th>reg_month</th>\n",
              "      <th>users</th>\n",
              "      <th>previous_users</th>\n",
              "    </tr>\n",
              "  </thead>\n",
              "  <tbody>\n",
              "    <tr>\n",
              "      <th>0</th>\n",
              "      <td>2020-01-01</td>\n",
              "      <td>1472</td>\n",
              "      <td>NaN</td>\n",
              "    </tr>\n",
              "    <tr>\n",
              "      <th>1</th>\n",
              "      <td>2020-02-01</td>\n",
              "      <td>166</td>\n",
              "      <td>1472.0</td>\n",
              "    </tr>\n",
              "    <tr>\n",
              "      <th>2</th>\n",
              "      <td>2020-03-01</td>\n",
              "      <td>147</td>\n",
              "      <td>166.0</td>\n",
              "    </tr>\n",
              "    <tr>\n",
              "      <th>3</th>\n",
              "      <td>2020-04-01</td>\n",
              "      <td>152</td>\n",
              "      <td>147.0</td>\n",
              "    </tr>\n",
              "    <tr>\n",
              "      <th>4</th>\n",
              "      <td>2020-05-01</td>\n",
              "      <td>124</td>\n",
              "      <td>152.0</td>\n",
              "    </tr>\n",
              "  </tbody>\n",
              "</table>\n",
              "</div>"
            ],
            "text/plain": [
              "    reg_month  users  previous_users\n",
              "0  2020-01-01   1472             NaN\n",
              "1  2020-02-01    166          1472.0\n",
              "2  2020-03-01    147           166.0\n",
              "3  2020-04-01    152           147.0\n",
              "4  2020-05-01    124           152.0"
            ]
          },
          "metadata": {
            "tags": []
          },
          "execution_count": 12
        }
      ]
    },
    {
      "cell_type": "markdown",
      "metadata": {
        "id": "UTtaAC7lMYu5"
      },
      "source": [
        "Store the results in a CTE and apply the formula to get the monthly registrations growth rates. "
      ]
    },
    {
      "cell_type": "code",
      "metadata": {
        "id": "93JwnIQjMiHm",
        "outputId": "daeba918-34ed-481a-fa32-4c9049a68e08",
        "colab": {
          "base_uri": "https://localhost:8080/",
          "height": 221
        }
      },
      "source": [
        "%%sql\n",
        "\n",
        "-- Calculate the monthly growth in registrations\n",
        "\n",
        "WITH regs AS (\n",
        "  SELECT\n",
        "    user_id,\n",
        "    MIN(session_date) AS reg_date\n",
        "  FROM user_sessions\n",
        "  GROUP BY user_id),\n",
        "\n",
        "  regs_per_month AS (\n",
        "    SELECT\n",
        "      DATE_TRUNC('month', reg_date) :: DATE AS reg_month,\n",
        "      COUNT(DISTINCT user_id) AS users\n",
        "    FROM regs\n",
        "    GROUP BY reg_month\n",
        "  ),\n",
        "\n",
        "  lag_regs AS (\n",
        "    SELECT\n",
        "      reg_month,\n",
        "      users,\n",
        "      COALESCE(\n",
        "        LAG(users, 1) OVER (ORDER BY regs_per_month ASC), 1\n",
        "      ) AS previous_users\n",
        "    FROM regs_per_month)\n",
        "\n",
        "SELECT\n",
        "  reg_month,\n",
        "  users,\n",
        "  ROUND(\n",
        "      (users - previous_users) :: NUMERIC / previous_users, 3\n",
        "  ) AS growth_rate\n",
        "FROM lag_regs\n",
        "ORDER BY reg_month ASC;"
      ],
      "execution_count": 13,
      "outputs": [
        {
          "output_type": "stream",
          "text": [
            " * postgresql+psycopg2://@/postgres\n"
          ],
          "name": "stdout"
        },
        {
          "output_type": "execute_result",
          "data": {
            "text/html": [
              "<div>\n",
              "<style scoped>\n",
              "    .dataframe tbody tr th:only-of-type {\n",
              "        vertical-align: middle;\n",
              "    }\n",
              "\n",
              "    .dataframe tbody tr th {\n",
              "        vertical-align: top;\n",
              "    }\n",
              "\n",
              "    .dataframe thead th {\n",
              "        text-align: right;\n",
              "    }\n",
              "</style>\n",
              "<table border=\"1\" class=\"dataframe\">\n",
              "  <thead>\n",
              "    <tr style=\"text-align: right;\">\n",
              "      <th></th>\n",
              "      <th>reg_month</th>\n",
              "      <th>users</th>\n",
              "      <th>growth_rate</th>\n",
              "    </tr>\n",
              "  </thead>\n",
              "  <tbody>\n",
              "    <tr>\n",
              "      <th>0</th>\n",
              "      <td>2020-01-01</td>\n",
              "      <td>1472</td>\n",
              "      <td>1471.000</td>\n",
              "    </tr>\n",
              "    <tr>\n",
              "      <th>1</th>\n",
              "      <td>2020-02-01</td>\n",
              "      <td>166</td>\n",
              "      <td>-0.887</td>\n",
              "    </tr>\n",
              "    <tr>\n",
              "      <th>2</th>\n",
              "      <td>2020-03-01</td>\n",
              "      <td>147</td>\n",
              "      <td>-0.114</td>\n",
              "    </tr>\n",
              "    <tr>\n",
              "      <th>3</th>\n",
              "      <td>2020-04-01</td>\n",
              "      <td>152</td>\n",
              "      <td>0.034</td>\n",
              "    </tr>\n",
              "    <tr>\n",
              "      <th>4</th>\n",
              "      <td>2020-05-01</td>\n",
              "      <td>124</td>\n",
              "      <td>-0.184</td>\n",
              "    </tr>\n",
              "  </tbody>\n",
              "</table>\n",
              "</div>"
            ],
            "text/plain": [
              "    reg_month  users growth_rate\n",
              "0  2020-01-01   1472    1471.000\n",
              "1  2020-02-01    166      -0.887\n",
              "2  2020-03-01    147      -0.114\n",
              "3  2020-04-01    152       0.034\n",
              "4  2020-05-01    124      -0.184"
            ]
          },
          "metadata": {
            "tags": []
          },
          "execution_count": 13
        }
      ]
    },
    {
      "cell_type": "markdown",
      "metadata": {
        "id": "cV_kw7V5MsdQ"
      },
      "source": [
        "Retained and resurrected users\n",
        "\n",
        "Users can be split into four groups:\n",
        "\n",
        "New/registered users are ones that just signed up for the platform\n",
        "Retained users used to use the app, and still do.\n",
        "Churned users used to use the app, and no longer do.\n",
        "Resurrected users were churned users who returned to using the app.\n",
        "\n",
        "Retention is another core KPI that platforms use to measure how well they are at keeping their users.\n",
        "\n",
        "The first step to calculating retention is getting each of the months in which each user is active."
      ]
    },
    {
      "cell_type": "code",
      "metadata": {
        "id": "1Mig3qA_NETx",
        "outputId": "63e78a72-49fb-438a-90d1-bbaccf9bc7b4",
        "colab": {
          "base_uri": "https://localhost:8080/",
          "height": 436
        }
      },
      "source": [
        "%%sql\n",
        "\n",
        "-- Get the months in which each user is active\n",
        "\n",
        "SELECT DISTINCT\n",
        "  DATE_TRUNC('month', session_date) :: DATE AS act_month,\n",
        "  user_id\n",
        "FROM user_sessions\n",
        "ORDER BY act_month ASC, user_id ASC;"
      ],
      "execution_count": 14,
      "outputs": [
        {
          "output_type": "stream",
          "text": [
            " * postgresql+psycopg2://@/postgres\n"
          ],
          "name": "stdout"
        },
        {
          "output_type": "execute_result",
          "data": {
            "text/html": [
              "<div>\n",
              "<style scoped>\n",
              "    .dataframe tbody tr th:only-of-type {\n",
              "        vertical-align: middle;\n",
              "    }\n",
              "\n",
              "    .dataframe tbody tr th {\n",
              "        vertical-align: top;\n",
              "    }\n",
              "\n",
              "    .dataframe thead th {\n",
              "        text-align: right;\n",
              "    }\n",
              "</style>\n",
              "<table border=\"1\" class=\"dataframe\">\n",
              "  <thead>\n",
              "    <tr style=\"text-align: right;\">\n",
              "      <th></th>\n",
              "      <th>act_month</th>\n",
              "      <th>user_id</th>\n",
              "    </tr>\n",
              "  </thead>\n",
              "  <tbody>\n",
              "    <tr>\n",
              "      <th>0</th>\n",
              "      <td>2020-01-01</td>\n",
              "      <td>0</td>\n",
              "    </tr>\n",
              "    <tr>\n",
              "      <th>1</th>\n",
              "      <td>2020-01-01</td>\n",
              "      <td>1</td>\n",
              "    </tr>\n",
              "    <tr>\n",
              "      <th>2</th>\n",
              "      <td>2020-01-01</td>\n",
              "      <td>2</td>\n",
              "    </tr>\n",
              "    <tr>\n",
              "      <th>3</th>\n",
              "      <td>2020-01-01</td>\n",
              "      <td>3</td>\n",
              "    </tr>\n",
              "    <tr>\n",
              "      <th>4</th>\n",
              "      <td>2020-01-01</td>\n",
              "      <td>4</td>\n",
              "    </tr>\n",
              "    <tr>\n",
              "      <th>...</th>\n",
              "      <td>...</td>\n",
              "      <td>...</td>\n",
              "    </tr>\n",
              "    <tr>\n",
              "      <th>8685</th>\n",
              "      <td>2020-05-01</td>\n",
              "      <td>2056</td>\n",
              "    </tr>\n",
              "    <tr>\n",
              "      <th>8686</th>\n",
              "      <td>2020-05-01</td>\n",
              "      <td>2057</td>\n",
              "    </tr>\n",
              "    <tr>\n",
              "      <th>8687</th>\n",
              "      <td>2020-05-01</td>\n",
              "      <td>2058</td>\n",
              "    </tr>\n",
              "    <tr>\n",
              "      <th>8688</th>\n",
              "      <td>2020-05-01</td>\n",
              "      <td>2059</td>\n",
              "    </tr>\n",
              "    <tr>\n",
              "      <th>8689</th>\n",
              "      <td>2020-05-01</td>\n",
              "      <td>2060</td>\n",
              "    </tr>\n",
              "  </tbody>\n",
              "</table>\n",
              "<p>8690 rows × 2 columns</p>\n",
              "</div>"
            ],
            "text/plain": [
              "       act_month  user_id\n",
              "0     2020-01-01        0\n",
              "1     2020-01-01        1\n",
              "2     2020-01-01        2\n",
              "3     2020-01-01        3\n",
              "4     2020-01-01        4\n",
              "...          ...      ...\n",
              "8685  2020-05-01     2056\n",
              "8686  2020-05-01     2057\n",
              "8687  2020-05-01     2058\n",
              "8688  2020-05-01     2059\n",
              "8689  2020-05-01     2060\n",
              "\n",
              "[8690 rows x 2 columns]"
            ]
          },
          "metadata": {
            "tags": []
          },
          "execution_count": 14
        }
      ]
    },
    {
      "cell_type": "markdown",
      "metadata": {
        "id": "ySnLOdAhNXDC"
      },
      "source": [
        "If we left-join this table on itself on the same user ID and having a one-month difference in users, we'll see whether a user is still active in the next month or not. If the user isn't active, then the user is churned. The count of non-NULLs is the count of retained users."
      ]
    },
    {
      "cell_type": "code",
      "metadata": {
        "id": "3EZLnjVKNkF_",
        "outputId": "7eeac72b-279d-41b0-f4f1-573c4508c500",
        "colab": {
          "base_uri": "https://localhost:8080/",
          "height": 436
        }
      },
      "source": [
        "%%sql\n",
        "\n",
        "-- Get whether each user churned in a given month\n",
        "\n",
        "WITH act_months AS (\n",
        "  SELECT DISTINCT\n",
        "    DATE_TRUNC('month', session_date) :: DATE AS act_month,\n",
        "    user_id\n",
        "  FROM user_sessions)\n",
        "\n",
        "SELECT\n",
        "  prev.act_month,\n",
        "  prev.user_id,\n",
        "  curr.user_id IS NULL AS churned_next_month\n",
        "FROM act_months AS prev\n",
        "LEFT JOIN act_months AS curr\n",
        "  ON prev.user_id = curr.user_id\n",
        " AND prev.act_month = (curr.act_month - INTERVAL '1 MONTH')\n",
        "ORDER BY prev.act_month ASC, prev.user_id ASC;"
      ],
      "execution_count": 15,
      "outputs": [
        {
          "output_type": "stream",
          "text": [
            " * postgresql+psycopg2://@/postgres\n"
          ],
          "name": "stdout"
        },
        {
          "output_type": "execute_result",
          "data": {
            "text/html": [
              "<div>\n",
              "<style scoped>\n",
              "    .dataframe tbody tr th:only-of-type {\n",
              "        vertical-align: middle;\n",
              "    }\n",
              "\n",
              "    .dataframe tbody tr th {\n",
              "        vertical-align: top;\n",
              "    }\n",
              "\n",
              "    .dataframe thead th {\n",
              "        text-align: right;\n",
              "    }\n",
              "</style>\n",
              "<table border=\"1\" class=\"dataframe\">\n",
              "  <thead>\n",
              "    <tr style=\"text-align: right;\">\n",
              "      <th></th>\n",
              "      <th>act_month</th>\n",
              "      <th>user_id</th>\n",
              "      <th>churned_next_month</th>\n",
              "    </tr>\n",
              "  </thead>\n",
              "  <tbody>\n",
              "    <tr>\n",
              "      <th>0</th>\n",
              "      <td>2020-01-01</td>\n",
              "      <td>0</td>\n",
              "      <td>False</td>\n",
              "    </tr>\n",
              "    <tr>\n",
              "      <th>1</th>\n",
              "      <td>2020-01-01</td>\n",
              "      <td>1</td>\n",
              "      <td>False</td>\n",
              "    </tr>\n",
              "    <tr>\n",
              "      <th>2</th>\n",
              "      <td>2020-01-01</td>\n",
              "      <td>2</td>\n",
              "      <td>False</td>\n",
              "    </tr>\n",
              "    <tr>\n",
              "      <th>3</th>\n",
              "      <td>2020-01-01</td>\n",
              "      <td>3</td>\n",
              "      <td>False</td>\n",
              "    </tr>\n",
              "    <tr>\n",
              "      <th>4</th>\n",
              "      <td>2020-01-01</td>\n",
              "      <td>4</td>\n",
              "      <td>False</td>\n",
              "    </tr>\n",
              "    <tr>\n",
              "      <th>...</th>\n",
              "      <td>...</td>\n",
              "      <td>...</td>\n",
              "      <td>...</td>\n",
              "    </tr>\n",
              "    <tr>\n",
              "      <th>8685</th>\n",
              "      <td>2020-05-01</td>\n",
              "      <td>2056</td>\n",
              "      <td>True</td>\n",
              "    </tr>\n",
              "    <tr>\n",
              "      <th>8686</th>\n",
              "      <td>2020-05-01</td>\n",
              "      <td>2057</td>\n",
              "      <td>True</td>\n",
              "    </tr>\n",
              "    <tr>\n",
              "      <th>8687</th>\n",
              "      <td>2020-05-01</td>\n",
              "      <td>2058</td>\n",
              "      <td>True</td>\n",
              "    </tr>\n",
              "    <tr>\n",
              "      <th>8688</th>\n",
              "      <td>2020-05-01</td>\n",
              "      <td>2059</td>\n",
              "      <td>True</td>\n",
              "    </tr>\n",
              "    <tr>\n",
              "      <th>8689</th>\n",
              "      <td>2020-05-01</td>\n",
              "      <td>2060</td>\n",
              "      <td>True</td>\n",
              "    </tr>\n",
              "  </tbody>\n",
              "</table>\n",
              "<p>8690 rows × 3 columns</p>\n",
              "</div>"
            ],
            "text/plain": [
              "       act_month  user_id  churned_next_month\n",
              "0     2020-01-01        0               False\n",
              "1     2020-01-01        1               False\n",
              "2     2020-01-01        2               False\n",
              "3     2020-01-01        3               False\n",
              "4     2020-01-01        4               False\n",
              "...          ...      ...                 ...\n",
              "8685  2020-05-01     2056                True\n",
              "8686  2020-05-01     2057                True\n",
              "8687  2020-05-01     2058                True\n",
              "8688  2020-05-01     2059                True\n",
              "8689  2020-05-01     2060                True\n",
              "\n",
              "[8690 rows x 3 columns]"
            ]
          },
          "metadata": {
            "tags": []
          },
          "execution_count": 15
        }
      ]
    },
    {
      "cell_type": "markdown",
      "metadata": {
        "id": "p8afXeNkN3Vb"
      },
      "source": [
        "Store the results in a CTE and count the number of FALSE in the churned_next_month to get the retention rate."
      ]
    },
    {
      "cell_type": "code",
      "metadata": {
        "id": "Wmh7aW0VN4iT",
        "outputId": "207a8284-6497-4beb-ee0e-bf481f240b92",
        "colab": {
          "base_uri": "https://localhost:8080/",
          "height": 221
        }
      },
      "source": [
        "%%sql\n",
        "\n",
        "-- Calculate the retention rate\n",
        "\n",
        "WITH act_months AS (\n",
        "    SELECT DISTINCT\n",
        "      DATE_TRUNC('month', session_date) :: DATE AS act_month,\n",
        "      user_id\n",
        "    FROM user_sessions),\n",
        "\n",
        "  churned AS (\n",
        "    SELECT\n",
        "      prev.act_month,\n",
        "      prev.user_id,\n",
        "      curr.user_id IS NULL AS churned_next_month\n",
        "    FROM act_months AS prev\n",
        "    LEFT JOIN act_months AS curr\n",
        "      ON prev.user_id = curr.user_id\n",
        "    AND prev.act_month = (curr.act_month - INTERVAL '1 MONTH'))\n",
        "  \n",
        "SELECT\n",
        "  act_month,\n",
        "  COUNT(DISTINCT user_id) AS users,\n",
        "  SUM(CASE WHEN NOT churned_next_month THEN 1 ELSE 0 END) AS retained_next_month,\n",
        "  ROUND(\n",
        "      SUM(CASE WHEN NOT churned_next_month THEN 1 ELSE 0 END) :: NUMERIC /\n",
        "      COUNT(DISTINCT user_id), 3\n",
        "  ) AS retention_rate\n",
        "FROM churned\n",
        "GROUP BY act_month\n",
        "ORDER BY act_month ASC;"
      ],
      "execution_count": 16,
      "outputs": [
        {
          "output_type": "stream",
          "text": [
            " * postgresql+psycopg2://@/postgres\n"
          ],
          "name": "stdout"
        },
        {
          "output_type": "execute_result",
          "data": {
            "text/html": [
              "<div>\n",
              "<style scoped>\n",
              "    .dataframe tbody tr th:only-of-type {\n",
              "        vertical-align: middle;\n",
              "    }\n",
              "\n",
              "    .dataframe tbody tr th {\n",
              "        vertical-align: top;\n",
              "    }\n",
              "\n",
              "    .dataframe thead th {\n",
              "        text-align: right;\n",
              "    }\n",
              "</style>\n",
              "<table border=\"1\" class=\"dataframe\">\n",
              "  <thead>\n",
              "    <tr style=\"text-align: right;\">\n",
              "      <th></th>\n",
              "      <th>act_month</th>\n",
              "      <th>users</th>\n",
              "      <th>retained_next_month</th>\n",
              "      <th>retention_rate</th>\n",
              "    </tr>\n",
              "  </thead>\n",
              "  <tbody>\n",
              "    <tr>\n",
              "      <th>0</th>\n",
              "      <td>2020-01-01</td>\n",
              "      <td>1472</td>\n",
              "      <td>1455</td>\n",
              "      <td>0.988</td>\n",
              "    </tr>\n",
              "    <tr>\n",
              "      <th>1</th>\n",
              "      <td>2020-02-01</td>\n",
              "      <td>1621</td>\n",
              "      <td>1559</td>\n",
              "      <td>0.962</td>\n",
              "    </tr>\n",
              "    <tr>\n",
              "      <th>2</th>\n",
              "      <td>2020-03-01</td>\n",
              "      <td>1723</td>\n",
              "      <td>1667</td>\n",
              "      <td>0.967</td>\n",
              "    </tr>\n",
              "    <tr>\n",
              "      <th>3</th>\n",
              "      <td>2020-04-01</td>\n",
              "      <td>1879</td>\n",
              "      <td>1816</td>\n",
              "      <td>0.966</td>\n",
              "    </tr>\n",
              "    <tr>\n",
              "      <th>4</th>\n",
              "      <td>2020-05-01</td>\n",
              "      <td>1995</td>\n",
              "      <td>0</td>\n",
              "      <td>0.000</td>\n",
              "    </tr>\n",
              "  </tbody>\n",
              "</table>\n",
              "</div>"
            ],
            "text/plain": [
              "    act_month  users  retained_next_month retention_rate\n",
              "0  2020-01-01   1472                 1455          0.988\n",
              "1  2020-02-01   1621                 1559          0.962\n",
              "2  2020-03-01   1723                 1667          0.967\n",
              "3  2020-04-01   1879                 1816          0.966\n",
              "4  2020-05-01   1995                    0          0.000"
            ]
          },
          "metadata": {
            "tags": []
          },
          "execution_count": 16
        }
      ]
    },
    {
      "cell_type": "markdown",
      "metadata": {
        "id": "M1FWfkfiODiZ"
      },
      "source": [
        "Average age of churners\n",
        "\n",
        "We have the retention status of each user, we can see whether there are any trends in churns, such as older people churning more."
      ]
    },
    {
      "cell_type": "code",
      "metadata": {
        "id": "1XwIeFqEOOtN",
        "outputId": "1427a026-2f7a-431d-ae2a-cf7530226f7f",
        "colab": {
          "base_uri": "https://localhost:8080/",
          "height": 128
        }
      },
      "source": [
        "%%sql\n",
        "\n",
        "-- Get the average age of churners versus retained users in April\n",
        "\n",
        "WITH act_months AS (\n",
        "    SELECT DISTINCT\n",
        "      DATE_TRUNC('month', session_date) :: DATE AS act_month,\n",
        "      user_id\n",
        "    FROM user_sessions),\n",
        "\n",
        "  churned AS (\n",
        "    SELECT\n",
        "      prev.act_month,\n",
        "      prev.user_id,\n",
        "      curr.user_id IS NULL AS churned_next_month\n",
        "    FROM act_months AS prev\n",
        "    LEFT JOIN act_months AS curr\n",
        "      ON prev.user_id = curr.user_id\n",
        "    AND prev.act_month = (curr.act_month - INTERVAL '1 MONTH'))\n",
        "  \n",
        "SELECT\n",
        "  churned_next_month,\n",
        "  ROUND(AVG(age), 2) AS avg_age\n",
        "FROM churned\n",
        "JOIN user_data ON churned.user_id = user_data.user_id\n",
        "WHERE act_month = '2020-04-01'\n",
        "GROUP BY churned_next_month;"
      ],
      "execution_count": 17,
      "outputs": [
        {
          "output_type": "stream",
          "text": [
            " * postgresql+psycopg2://@/postgres\n"
          ],
          "name": "stdout"
        },
        {
          "output_type": "execute_result",
          "data": {
            "text/html": [
              "<div>\n",
              "<style scoped>\n",
              "    .dataframe tbody tr th:only-of-type {\n",
              "        vertical-align: middle;\n",
              "    }\n",
              "\n",
              "    .dataframe tbody tr th {\n",
              "        vertical-align: top;\n",
              "    }\n",
              "\n",
              "    .dataframe thead th {\n",
              "        text-align: right;\n",
              "    }\n",
              "</style>\n",
              "<table border=\"1\" class=\"dataframe\">\n",
              "  <thead>\n",
              "    <tr style=\"text-align: right;\">\n",
              "      <th></th>\n",
              "      <th>churned_next_month</th>\n",
              "      <th>avg_age</th>\n",
              "    </tr>\n",
              "  </thead>\n",
              "  <tbody>\n",
              "    <tr>\n",
              "      <th>0</th>\n",
              "      <td>False</td>\n",
              "      <td>41.52</td>\n",
              "    </tr>\n",
              "    <tr>\n",
              "      <th>1</th>\n",
              "      <td>True</td>\n",
              "      <td>40.30</td>\n",
              "    </tr>\n",
              "  </tbody>\n",
              "</table>\n",
              "</div>"
            ],
            "text/plain": [
              "   churned_next_month avg_age\n",
              "0               False   41.52\n",
              "1                True   40.30"
            ]
          },
          "metadata": {
            "tags": []
          },
          "execution_count": 17
        }
      ]
    }
  ]
}

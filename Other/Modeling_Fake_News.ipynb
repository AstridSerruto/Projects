{
  "nbformat": 4,
  "nbformat_minor": 0,
  "metadata": {
    "colab": {
      "name": "Modeling - Fake News",
      "provenance": [],
      "authorship_tag": "ABX9TyNTW6LjRyV5tNhSfcImVle3",
      "include_colab_link": true
    },
    "kernelspec": {
      "name": "python3",
      "display_name": "Python 3"
    },
    "widgets": {
      "application/vnd.jupyter.widget-state+json": {
        "10c581c09c244f73a8eb72cc3e7e2278": {
          "model_module": "@jupyter-widgets/controls",
          "model_name": "HBoxModel",
          "state": {
            "_view_name": "HBoxView",
            "_dom_classes": [],
            "_model_name": "HBoxModel",
            "_view_module": "@jupyter-widgets/controls",
            "_model_module_version": "1.5.0",
            "_view_count": null,
            "_view_module_version": "1.5.0",
            "box_style": "",
            "layout": "IPY_MODEL_677cad81a3124388a770eebd941d4a55",
            "_model_module": "@jupyter-widgets/controls",
            "children": [
              "IPY_MODEL_4a428b8c598d41ecbdd0ee5ee82df1a0",
              "IPY_MODEL_3717b551723e4bbc95e042d40ef4acc4"
            ]
          },
          "model_module_version": "1.5.0"
        },
        "677cad81a3124388a770eebd941d4a55": {
          "model_module": "@jupyter-widgets/base",
          "model_name": "LayoutModel",
          "state": {
            "_view_name": "LayoutView",
            "grid_template_rows": null,
            "right": null,
            "justify_content": null,
            "_view_module": "@jupyter-widgets/base",
            "overflow": null,
            "_model_module_version": "1.2.0",
            "_view_count": null,
            "flex_flow": null,
            "width": null,
            "min_width": null,
            "border": null,
            "align_items": null,
            "bottom": null,
            "_model_module": "@jupyter-widgets/base",
            "top": null,
            "grid_column": null,
            "overflow_y": null,
            "overflow_x": null,
            "grid_auto_flow": null,
            "grid_area": null,
            "grid_template_columns": null,
            "flex": null,
            "_model_name": "LayoutModel",
            "justify_items": null,
            "grid_row": null,
            "max_height": null,
            "align_content": null,
            "visibility": null,
            "align_self": null,
            "height": null,
            "min_height": null,
            "padding": null,
            "grid_auto_rows": null,
            "grid_gap": null,
            "max_width": null,
            "order": null,
            "_view_module_version": "1.2.0",
            "grid_template_areas": null,
            "object_position": null,
            "object_fit": null,
            "grid_auto_columns": null,
            "margin": null,
            "display": null,
            "left": null
          },
          "model_module_version": "1.2.0"
        },
        "4a428b8c598d41ecbdd0ee5ee82df1a0": {
          "model_module": "@jupyter-widgets/controls",
          "model_name": "FloatProgressModel",
          "state": {
            "_view_name": "ProgressView",
            "style": "IPY_MODEL_c51b86cc64cc4b8cac7f2ff56382b5ff",
            "_dom_classes": [],
            "description": "Downloading: 100%",
            "_model_name": "FloatProgressModel",
            "bar_style": "success",
            "max": 231508,
            "_view_module": "@jupyter-widgets/controls",
            "_model_module_version": "1.5.0",
            "value": 231508,
            "_view_count": null,
            "_view_module_version": "1.5.0",
            "orientation": "horizontal",
            "min": 0,
            "description_tooltip": null,
            "_model_module": "@jupyter-widgets/controls",
            "layout": "IPY_MODEL_76b7726fdfe34a59a99c406d632e463d"
          },
          "model_module_version": "1.5.0"
        },
        "3717b551723e4bbc95e042d40ef4acc4": {
          "model_module": "@jupyter-widgets/controls",
          "model_name": "HTMLModel",
          "state": {
            "_view_name": "HTMLView",
            "style": "IPY_MODEL_734266955f584dccaaaa49f28866ee35",
            "_dom_classes": [],
            "description": "",
            "_model_name": "HTMLModel",
            "placeholder": "​",
            "_view_module": "@jupyter-widgets/controls",
            "_model_module_version": "1.5.0",
            "value": " 232k/232k [00:01&lt;00:00, 124kB/s]",
            "_view_count": null,
            "_view_module_version": "1.5.0",
            "description_tooltip": null,
            "_model_module": "@jupyter-widgets/controls",
            "layout": "IPY_MODEL_753d3e2fb4a145708a92d9a073f54665"
          },
          "model_module_version": "1.5.0"
        },
        "c51b86cc64cc4b8cac7f2ff56382b5ff": {
          "model_module": "@jupyter-widgets/controls",
          "model_name": "ProgressStyleModel",
          "state": {
            "_view_name": "StyleView",
            "_model_name": "ProgressStyleModel",
            "description_width": "initial",
            "_view_module": "@jupyter-widgets/base",
            "_model_module_version": "1.5.0",
            "_view_count": null,
            "_view_module_version": "1.2.0",
            "bar_color": null,
            "_model_module": "@jupyter-widgets/controls"
          },
          "model_module_version": "1.5.0"
        },
        "76b7726fdfe34a59a99c406d632e463d": {
          "model_module": "@jupyter-widgets/base",
          "model_name": "LayoutModel",
          "state": {
            "_view_name": "LayoutView",
            "grid_template_rows": null,
            "right": null,
            "justify_content": null,
            "_view_module": "@jupyter-widgets/base",
            "overflow": null,
            "_model_module_version": "1.2.0",
            "_view_count": null,
            "flex_flow": null,
            "width": null,
            "min_width": null,
            "border": null,
            "align_items": null,
            "bottom": null,
            "_model_module": "@jupyter-widgets/base",
            "top": null,
            "grid_column": null,
            "overflow_y": null,
            "overflow_x": null,
            "grid_auto_flow": null,
            "grid_area": null,
            "grid_template_columns": null,
            "flex": null,
            "_model_name": "LayoutModel",
            "justify_items": null,
            "grid_row": null,
            "max_height": null,
            "align_content": null,
            "visibility": null,
            "align_self": null,
            "height": null,
            "min_height": null,
            "padding": null,
            "grid_auto_rows": null,
            "grid_gap": null,
            "max_width": null,
            "order": null,
            "_view_module_version": "1.2.0",
            "grid_template_areas": null,
            "object_position": null,
            "object_fit": null,
            "grid_auto_columns": null,
            "margin": null,
            "display": null,
            "left": null
          },
          "model_module_version": "1.2.0"
        },
        "734266955f584dccaaaa49f28866ee35": {
          "model_module": "@jupyter-widgets/controls",
          "model_name": "DescriptionStyleModel",
          "state": {
            "_view_name": "StyleView",
            "_model_name": "DescriptionStyleModel",
            "description_width": "",
            "_view_module": "@jupyter-widgets/base",
            "_model_module_version": "1.5.0",
            "_view_count": null,
            "_view_module_version": "1.2.0",
            "_model_module": "@jupyter-widgets/controls"
          },
          "model_module_version": "1.5.0"
        },
        "753d3e2fb4a145708a92d9a073f54665": {
          "model_module": "@jupyter-widgets/base",
          "model_name": "LayoutModel",
          "state": {
            "_view_name": "LayoutView",
            "grid_template_rows": null,
            "right": null,
            "justify_content": null,
            "_view_module": "@jupyter-widgets/base",
            "overflow": null,
            "_model_module_version": "1.2.0",
            "_view_count": null,
            "flex_flow": null,
            "width": null,
            "min_width": null,
            "border": null,
            "align_items": null,
            "bottom": null,
            "_model_module": "@jupyter-widgets/base",
            "top": null,
            "grid_column": null,
            "overflow_y": null,
            "overflow_x": null,
            "grid_auto_flow": null,
            "grid_area": null,
            "grid_template_columns": null,
            "flex": null,
            "_model_name": "LayoutModel",
            "justify_items": null,
            "grid_row": null,
            "max_height": null,
            "align_content": null,
            "visibility": null,
            "align_self": null,
            "height": null,
            "min_height": null,
            "padding": null,
            "grid_auto_rows": null,
            "grid_gap": null,
            "max_width": null,
            "order": null,
            "_view_module_version": "1.2.0",
            "grid_template_areas": null,
            "object_position": null,
            "object_fit": null,
            "grid_auto_columns": null,
            "margin": null,
            "display": null,
            "left": null
          },
          "model_module_version": "1.2.0"
        },
        "e4568784982847d097941f9d3f21cefc": {
          "model_module": "@jupyter-widgets/controls",
          "model_name": "HBoxModel",
          "state": {
            "_view_name": "HBoxView",
            "_dom_classes": [],
            "_model_name": "HBoxModel",
            "_view_module": "@jupyter-widgets/controls",
            "_model_module_version": "1.5.0",
            "_view_count": null,
            "_view_module_version": "1.5.0",
            "box_style": "",
            "layout": "IPY_MODEL_9ec62bb3e5114376b88a65824a088b23",
            "_model_module": "@jupyter-widgets/controls",
            "children": [
              "IPY_MODEL_b2829f8816e64d2a8174967e2dd2aa48",
              "IPY_MODEL_08f007600d584baf8050c0394b575f51"
            ]
          },
          "model_module_version": "1.5.0"
        },
        "9ec62bb3e5114376b88a65824a088b23": {
          "model_module": "@jupyter-widgets/base",
          "model_name": "LayoutModel",
          "state": {
            "_view_name": "LayoutView",
            "grid_template_rows": null,
            "right": null,
            "justify_content": null,
            "_view_module": "@jupyter-widgets/base",
            "overflow": null,
            "_model_module_version": "1.2.0",
            "_view_count": null,
            "flex_flow": null,
            "width": null,
            "min_width": null,
            "border": null,
            "align_items": null,
            "bottom": null,
            "_model_module": "@jupyter-widgets/base",
            "top": null,
            "grid_column": null,
            "overflow_y": null,
            "overflow_x": null,
            "grid_auto_flow": null,
            "grid_area": null,
            "grid_template_columns": null,
            "flex": null,
            "_model_name": "LayoutModel",
            "justify_items": null,
            "grid_row": null,
            "max_height": null,
            "align_content": null,
            "visibility": null,
            "align_self": null,
            "height": null,
            "min_height": null,
            "padding": null,
            "grid_auto_rows": null,
            "grid_gap": null,
            "max_width": null,
            "order": null,
            "_view_module_version": "1.2.0",
            "grid_template_areas": null,
            "object_position": null,
            "object_fit": null,
            "grid_auto_columns": null,
            "margin": null,
            "display": null,
            "left": null
          },
          "model_module_version": "1.2.0"
        },
        "b2829f8816e64d2a8174967e2dd2aa48": {
          "model_module": "@jupyter-widgets/controls",
          "model_name": "FloatProgressModel",
          "state": {
            "_view_name": "ProgressView",
            "style": "IPY_MODEL_d7e0fa5d92b14c4fb66e2fd8c5a53ca0",
            "_dom_classes": [],
            "description": "Downloading: 100%",
            "_model_name": "FloatProgressModel",
            "bar_style": "success",
            "max": 28,
            "_view_module": "@jupyter-widgets/controls",
            "_model_module_version": "1.5.0",
            "value": 28,
            "_view_count": null,
            "_view_module_version": "1.5.0",
            "orientation": "horizontal",
            "min": 0,
            "description_tooltip": null,
            "_model_module": "@jupyter-widgets/controls",
            "layout": "IPY_MODEL_4b997e25eccf4338971ccc2a70c008da"
          },
          "model_module_version": "1.5.0"
        },
        "08f007600d584baf8050c0394b575f51": {
          "model_module": "@jupyter-widgets/controls",
          "model_name": "HTMLModel",
          "state": {
            "_view_name": "HTMLView",
            "style": "IPY_MODEL_f712676cc6fb42408cfe09eb8acd9157",
            "_dom_classes": [],
            "description": "",
            "_model_name": "HTMLModel",
            "placeholder": "​",
            "_view_module": "@jupyter-widgets/controls",
            "_model_module_version": "1.5.0",
            "value": " 28.0/28.0 [00:00&lt;00:00, 35.0B/s]",
            "_view_count": null,
            "_view_module_version": "1.5.0",
            "description_tooltip": null,
            "_model_module": "@jupyter-widgets/controls",
            "layout": "IPY_MODEL_1f670e574bc24f9f9a10dbb60ef018d8"
          },
          "model_module_version": "1.5.0"
        },
        "d7e0fa5d92b14c4fb66e2fd8c5a53ca0": {
          "model_module": "@jupyter-widgets/controls",
          "model_name": "ProgressStyleModel",
          "state": {
            "_view_name": "StyleView",
            "_model_name": "ProgressStyleModel",
            "description_width": "initial",
            "_view_module": "@jupyter-widgets/base",
            "_model_module_version": "1.5.0",
            "_view_count": null,
            "_view_module_version": "1.2.0",
            "bar_color": null,
            "_model_module": "@jupyter-widgets/controls"
          },
          "model_module_version": "1.5.0"
        },
        "4b997e25eccf4338971ccc2a70c008da": {
          "model_module": "@jupyter-widgets/base",
          "model_name": "LayoutModel",
          "state": {
            "_view_name": "LayoutView",
            "grid_template_rows": null,
            "right": null,
            "justify_content": null,
            "_view_module": "@jupyter-widgets/base",
            "overflow": null,
            "_model_module_version": "1.2.0",
            "_view_count": null,
            "flex_flow": null,
            "width": null,
            "min_width": null,
            "border": null,
            "align_items": null,
            "bottom": null,
            "_model_module": "@jupyter-widgets/base",
            "top": null,
            "grid_column": null,
            "overflow_y": null,
            "overflow_x": null,
            "grid_auto_flow": null,
            "grid_area": null,
            "grid_template_columns": null,
            "flex": null,
            "_model_name": "LayoutModel",
            "justify_items": null,
            "grid_row": null,
            "max_height": null,
            "align_content": null,
            "visibility": null,
            "align_self": null,
            "height": null,
            "min_height": null,
            "padding": null,
            "grid_auto_rows": null,
            "grid_gap": null,
            "max_width": null,
            "order": null,
            "_view_module_version": "1.2.0",
            "grid_template_areas": null,
            "object_position": null,
            "object_fit": null,
            "grid_auto_columns": null,
            "margin": null,
            "display": null,
            "left": null
          },
          "model_module_version": "1.2.0"
        },
        "f712676cc6fb42408cfe09eb8acd9157": {
          "model_module": "@jupyter-widgets/controls",
          "model_name": "DescriptionStyleModel",
          "state": {
            "_view_name": "StyleView",
            "_model_name": "DescriptionStyleModel",
            "description_width": "",
            "_view_module": "@jupyter-widgets/base",
            "_model_module_version": "1.5.0",
            "_view_count": null,
            "_view_module_version": "1.2.0",
            "_model_module": "@jupyter-widgets/controls"
          },
          "model_module_version": "1.5.0"
        },
        "1f670e574bc24f9f9a10dbb60ef018d8": {
          "model_module": "@jupyter-widgets/base",
          "model_name": "LayoutModel",
          "state": {
            "_view_name": "LayoutView",
            "grid_template_rows": null,
            "right": null,
            "justify_content": null,
            "_view_module": "@jupyter-widgets/base",
            "overflow": null,
            "_model_module_version": "1.2.0",
            "_view_count": null,
            "flex_flow": null,
            "width": null,
            "min_width": null,
            "border": null,
            "align_items": null,
            "bottom": null,
            "_model_module": "@jupyter-widgets/base",
            "top": null,
            "grid_column": null,
            "overflow_y": null,
            "overflow_x": null,
            "grid_auto_flow": null,
            "grid_area": null,
            "grid_template_columns": null,
            "flex": null,
            "_model_name": "LayoutModel",
            "justify_items": null,
            "grid_row": null,
            "max_height": null,
            "align_content": null,
            "visibility": null,
            "align_self": null,
            "height": null,
            "min_height": null,
            "padding": null,
            "grid_auto_rows": null,
            "grid_gap": null,
            "max_width": null,
            "order": null,
            "_view_module_version": "1.2.0",
            "grid_template_areas": null,
            "object_position": null,
            "object_fit": null,
            "grid_auto_columns": null,
            "margin": null,
            "display": null,
            "left": null
          },
          "model_module_version": "1.2.0"
        },
        "4376e441829f4f379693e309130a3530": {
          "model_module": "@jupyter-widgets/controls",
          "model_name": "HBoxModel",
          "state": {
            "_view_name": "HBoxView",
            "_dom_classes": [],
            "_model_name": "HBoxModel",
            "_view_module": "@jupyter-widgets/controls",
            "_model_module_version": "1.5.0",
            "_view_count": null,
            "_view_module_version": "1.5.0",
            "box_style": "",
            "layout": "IPY_MODEL_f8aa0344dfaf427a8f16aa93b44e8a38",
            "_model_module": "@jupyter-widgets/controls",
            "children": [
              "IPY_MODEL_96d6f5259d2a471aaba3d82b241311dc",
              "IPY_MODEL_aa5ba614e6d74cc48927108af78a9ba8"
            ]
          },
          "model_module_version": "1.5.0"
        },
        "f8aa0344dfaf427a8f16aa93b44e8a38": {
          "model_module": "@jupyter-widgets/base",
          "model_name": "LayoutModel",
          "state": {
            "_view_name": "LayoutView",
            "grid_template_rows": null,
            "right": null,
            "justify_content": null,
            "_view_module": "@jupyter-widgets/base",
            "overflow": null,
            "_model_module_version": "1.2.0",
            "_view_count": null,
            "flex_flow": null,
            "width": null,
            "min_width": null,
            "border": null,
            "align_items": null,
            "bottom": null,
            "_model_module": "@jupyter-widgets/base",
            "top": null,
            "grid_column": null,
            "overflow_y": null,
            "overflow_x": null,
            "grid_auto_flow": null,
            "grid_area": null,
            "grid_template_columns": null,
            "flex": null,
            "_model_name": "LayoutModel",
            "justify_items": null,
            "grid_row": null,
            "max_height": null,
            "align_content": null,
            "visibility": null,
            "align_self": null,
            "height": null,
            "min_height": null,
            "padding": null,
            "grid_auto_rows": null,
            "grid_gap": null,
            "max_width": null,
            "order": null,
            "_view_module_version": "1.2.0",
            "grid_template_areas": null,
            "object_position": null,
            "object_fit": null,
            "grid_auto_columns": null,
            "margin": null,
            "display": null,
            "left": null
          },
          "model_module_version": "1.2.0"
        },
        "96d6f5259d2a471aaba3d82b241311dc": {
          "model_module": "@jupyter-widgets/controls",
          "model_name": "FloatProgressModel",
          "state": {
            "_view_name": "ProgressView",
            "style": "IPY_MODEL_d42b415fd19849329f0f7abecc92abe4",
            "_dom_classes": [],
            "description": "Downloading: 100%",
            "_model_name": "FloatProgressModel",
            "bar_style": "success",
            "max": 466062,
            "_view_module": "@jupyter-widgets/controls",
            "_model_module_version": "1.5.0",
            "value": 466062,
            "_view_count": null,
            "_view_module_version": "1.5.0",
            "orientation": "horizontal",
            "min": 0,
            "description_tooltip": null,
            "_model_module": "@jupyter-widgets/controls",
            "layout": "IPY_MODEL_5aac8eb50c39483397ec45cca3d48545"
          },
          "model_module_version": "1.5.0"
        },
        "aa5ba614e6d74cc48927108af78a9ba8": {
          "model_module": "@jupyter-widgets/controls",
          "model_name": "HTMLModel",
          "state": {
            "_view_name": "HTMLView",
            "style": "IPY_MODEL_4721c9e5b41b45a08499b96b31e29365",
            "_dom_classes": [],
            "description": "",
            "_model_name": "HTMLModel",
            "placeholder": "​",
            "_view_module": "@jupyter-widgets/controls",
            "_model_module_version": "1.5.0",
            "value": " 466k/466k [00:00&lt;00:00, 1.39MB/s]",
            "_view_count": null,
            "_view_module_version": "1.5.0",
            "description_tooltip": null,
            "_model_module": "@jupyter-widgets/controls",
            "layout": "IPY_MODEL_51fa1f0df77744e4aa55c45e6c04b284"
          },
          "model_module_version": "1.5.0"
        },
        "d42b415fd19849329f0f7abecc92abe4": {
          "model_module": "@jupyter-widgets/controls",
          "model_name": "ProgressStyleModel",
          "state": {
            "_view_name": "StyleView",
            "_model_name": "ProgressStyleModel",
            "description_width": "initial",
            "_view_module": "@jupyter-widgets/base",
            "_model_module_version": "1.5.0",
            "_view_count": null,
            "_view_module_version": "1.2.0",
            "bar_color": null,
            "_model_module": "@jupyter-widgets/controls"
          },
          "model_module_version": "1.5.0"
        },
        "5aac8eb50c39483397ec45cca3d48545": {
          "model_module": "@jupyter-widgets/base",
          "model_name": "LayoutModel",
          "state": {
            "_view_name": "LayoutView",
            "grid_template_rows": null,
            "right": null,
            "justify_content": null,
            "_view_module": "@jupyter-widgets/base",
            "overflow": null,
            "_model_module_version": "1.2.0",
            "_view_count": null,
            "flex_flow": null,
            "width": null,
            "min_width": null,
            "border": null,
            "align_items": null,
            "bottom": null,
            "_model_module": "@jupyter-widgets/base",
            "top": null,
            "grid_column": null,
            "overflow_y": null,
            "overflow_x": null,
            "grid_auto_flow": null,
            "grid_area": null,
            "grid_template_columns": null,
            "flex": null,
            "_model_name": "LayoutModel",
            "justify_items": null,
            "grid_row": null,
            "max_height": null,
            "align_content": null,
            "visibility": null,
            "align_self": null,
            "height": null,
            "min_height": null,
            "padding": null,
            "grid_auto_rows": null,
            "grid_gap": null,
            "max_width": null,
            "order": null,
            "_view_module_version": "1.2.0",
            "grid_template_areas": null,
            "object_position": null,
            "object_fit": null,
            "grid_auto_columns": null,
            "margin": null,
            "display": null,
            "left": null
          },
          "model_module_version": "1.2.0"
        },
        "4721c9e5b41b45a08499b96b31e29365": {
          "model_module": "@jupyter-widgets/controls",
          "model_name": "DescriptionStyleModel",
          "state": {
            "_view_name": "StyleView",
            "_model_name": "DescriptionStyleModel",
            "description_width": "",
            "_view_module": "@jupyter-widgets/base",
            "_model_module_version": "1.5.0",
            "_view_count": null,
            "_view_module_version": "1.2.0",
            "_model_module": "@jupyter-widgets/controls"
          },
          "model_module_version": "1.5.0"
        },
        "51fa1f0df77744e4aa55c45e6c04b284": {
          "model_module": "@jupyter-widgets/base",
          "model_name": "LayoutModel",
          "state": {
            "_view_name": "LayoutView",
            "grid_template_rows": null,
            "right": null,
            "justify_content": null,
            "_view_module": "@jupyter-widgets/base",
            "overflow": null,
            "_model_module_version": "1.2.0",
            "_view_count": null,
            "flex_flow": null,
            "width": null,
            "min_width": null,
            "border": null,
            "align_items": null,
            "bottom": null,
            "_model_module": "@jupyter-widgets/base",
            "top": null,
            "grid_column": null,
            "overflow_y": null,
            "overflow_x": null,
            "grid_auto_flow": null,
            "grid_area": null,
            "grid_template_columns": null,
            "flex": null,
            "_model_name": "LayoutModel",
            "justify_items": null,
            "grid_row": null,
            "max_height": null,
            "align_content": null,
            "visibility": null,
            "align_self": null,
            "height": null,
            "min_height": null,
            "padding": null,
            "grid_auto_rows": null,
            "grid_gap": null,
            "max_width": null,
            "order": null,
            "_view_module_version": "1.2.0",
            "grid_template_areas": null,
            "object_position": null,
            "object_fit": null,
            "grid_auto_columns": null,
            "margin": null,
            "display": null,
            "left": null
          },
          "model_module_version": "1.2.0"
        }
      }
    }
  },
  "cells": [
    {
      "cell_type": "markdown",
      "metadata": {
        "id": "view-in-github",
        "colab_type": "text"
      },
      "source": [
        "<a href=\"https://colab.research.google.com/github/AstridSerruto/Projects/blob/master/Other/Modeling_Fake_News.ipynb\" target=\"_parent\"><img src=\"https://colab.research.google.com/assets/colab-badge.svg\" alt=\"Open In Colab\"/></a>"
      ]
    },
    {
      "cell_type": "code",
      "metadata": {
        "id": "oYkAq0wPuvT6",
        "colab": {
          "base_uri": "https://localhost:8080/"
        },
        "outputId": "1ee380f3-831d-4ee7-9232-d4c88c3c000a"
      },
      "source": [
        "!pip install transformers\n",
        "!pip install mmcv-full===1.8\n",
        "import datetime\n",
        "import nltk\n",
        "import numpy as np\n",
        "import matplotlib.pyplot as plt\n",
        "import os\n",
        "import pandas as pd\n",
        "import random\n",
        "import seaborn as sns\n",
        "import sklearn\n",
        "import sklearn.model_selection as ms\n",
        "import transformers\n",
        "import time\n",
        "import torch\n",
        "\n",
        "from google.colab import drive\n",
        "from nltk import classify\n",
        "from nltk import NaiveBayesClassifier\n",
        "from sklearn import metrics\n",
        "from sklearn.ensemble import RandomForestClassifier\n",
        "from sklearn.linear_model import LogisticRegression\n",
        "from sklearn.metrics import mean_squared_error\n",
        "from sklearn.model_selection import GridSearchCV\n",
        "from sklearn.naive_bayes import MultinomialNB\n",
        "from sklearn.svm import SVC\n",
        "from torch.utils.data import DataLoader, RandomSampler, SequentialSampler\n",
        "from torch.utils.data import TensorDataset, random_split\n",
        "from transformers import BertTokenizer\n",
        "from transformers import BertForSequenceClassification, AdamW, BertConfig\n",
        "from transformers import get_linear_schedule_with_warmup\n",
        "\n",
        "%matplotlib inline\n",
        "\n",
        "import warnings\n",
        "warnings.filterwarnings('ignore')"
      ],
      "execution_count": null,
      "outputs": [
        {
          "output_type": "stream",
          "text": [
            "Collecting transformers\n",
            "\u001b[?25l  Downloading https://files.pythonhosted.org/packages/ed/d5/f4157a376b8a79489a76ce6cfe147f4f3be1e029b7144fa7b8432e8acb26/transformers-4.4.2-py3-none-any.whl (2.0MB)\n",
            "\u001b[K     |████████████████████████████████| 2.0MB 8.8MB/s \n",
            "\u001b[?25hRequirement already satisfied: numpy>=1.17 in /usr/local/lib/python3.7/dist-packages (from transformers) (1.19.5)\n",
            "Requirement already satisfied: tqdm>=4.27 in /usr/local/lib/python3.7/dist-packages (from transformers) (4.41.1)\n",
            "Requirement already satisfied: filelock in /usr/local/lib/python3.7/dist-packages (from transformers) (3.0.12)\n",
            "Requirement already satisfied: packaging in /usr/local/lib/python3.7/dist-packages (from transformers) (20.9)\n",
            "Requirement already satisfied: importlib-metadata; python_version < \"3.8\" in /usr/local/lib/python3.7/dist-packages (from transformers) (3.7.2)\n",
            "Requirement already satisfied: requests in /usr/local/lib/python3.7/dist-packages (from transformers) (2.23.0)\n",
            "Collecting tokenizers<0.11,>=0.10.1\n",
            "\u001b[?25l  Downloading https://files.pythonhosted.org/packages/71/23/2ddc317b2121117bf34dd00f5b0de194158f2a44ee2bf5e47c7166878a97/tokenizers-0.10.1-cp37-cp37m-manylinux2010_x86_64.whl (3.2MB)\n",
            "\u001b[K     |████████████████████████████████| 3.2MB 44.7MB/s \n",
            "\u001b[?25hRequirement already satisfied: regex!=2019.12.17 in /usr/local/lib/python3.7/dist-packages (from transformers) (2019.12.20)\n",
            "Collecting sacremoses\n",
            "\u001b[?25l  Downloading https://files.pythonhosted.org/packages/7d/34/09d19aff26edcc8eb2a01bed8e98f13a1537005d31e95233fd48216eed10/sacremoses-0.0.43.tar.gz (883kB)\n",
            "\u001b[K     |████████████████████████████████| 890kB 29.6MB/s \n",
            "\u001b[?25hRequirement already satisfied: pyparsing>=2.0.2 in /usr/local/lib/python3.7/dist-packages (from packaging->transformers) (2.4.7)\n",
            "Requirement already satisfied: typing-extensions>=3.6.4; python_version < \"3.8\" in /usr/local/lib/python3.7/dist-packages (from importlib-metadata; python_version < \"3.8\"->transformers) (3.7.4.3)\n",
            "Requirement already satisfied: zipp>=0.5 in /usr/local/lib/python3.7/dist-packages (from importlib-metadata; python_version < \"3.8\"->transformers) (3.4.1)\n",
            "Requirement already satisfied: chardet<4,>=3.0.2 in /usr/local/lib/python3.7/dist-packages (from requests->transformers) (3.0.4)\n",
            "Requirement already satisfied: certifi>=2017.4.17 in /usr/local/lib/python3.7/dist-packages (from requests->transformers) (2020.12.5)\n",
            "Requirement already satisfied: idna<3,>=2.5 in /usr/local/lib/python3.7/dist-packages (from requests->transformers) (2.10)\n",
            "Requirement already satisfied: urllib3!=1.25.0,!=1.25.1,<1.26,>=1.21.1 in /usr/local/lib/python3.7/dist-packages (from requests->transformers) (1.24.3)\n",
            "Requirement already satisfied: six in /usr/local/lib/python3.7/dist-packages (from sacremoses->transformers) (1.15.0)\n",
            "Requirement already satisfied: click in /usr/local/lib/python3.7/dist-packages (from sacremoses->transformers) (7.1.2)\n",
            "Requirement already satisfied: joblib in /usr/local/lib/python3.7/dist-packages (from sacremoses->transformers) (1.0.1)\n",
            "Building wheels for collected packages: sacremoses\n",
            "  Building wheel for sacremoses (setup.py) ... \u001b[?25l\u001b[?25hdone\n",
            "  Created wheel for sacremoses: filename=sacremoses-0.0.43-cp37-none-any.whl size=893262 sha256=1b99ee9b2bcaebb9dd4eeff8d8719625ba1bdff6afa36861729e626d122d798d\n",
            "  Stored in directory: /root/.cache/pip/wheels/29/3c/fd/7ce5c3f0666dab31a50123635e6fb5e19ceb42ce38d4e58f45\n",
            "Successfully built sacremoses\n",
            "Installing collected packages: tokenizers, sacremoses, transformers\n",
            "Successfully installed sacremoses-0.0.43 tokenizers-0.10.1 transformers-4.4.2\n",
            "\u001b[31mERROR: Could not find a version that satisfies the requirement mmcv-full===1.8 (from versions: 1.0rc0, 1.0rc2, 1.0.0, 1.0.1, 1.0.2, 1.0.3, 1.0.4, 1.0.5, 1.1.0, 1.1.1, 1.1.2, 1.1.3, 1.1.4, 1.1.5, 1.1.6, 1.2.0, 1.2.1, 1.2.2, 1.2.3, 1.2.4, 1.2.5, 1.2.6, 1.2.7)\u001b[0m\n",
            "\u001b[31mERROR: No matching distribution found for mmcv-full===1.8\u001b[0m\n"
          ],
          "name": "stdout"
        }
      ]
    },
    {
      "cell_type": "code",
      "metadata": {
        "id": "wT8afehOvkRJ"
      },
      "source": [
        "#Set pytorch to be used on GPU\n",
        "device = torch.device(\"cuda\") "
      ],
      "execution_count": null,
      "outputs": []
    },
    {
      "cell_type": "code",
      "metadata": {
        "colab": {
          "base_uri": "https://localhost:8080/"
        },
        "id": "vbgStk8OvyvI",
        "outputId": "39cc99ae-a9ef-4771-8e5a-27979fa7a771"
      },
      "source": [
        "# Mount google drive\n",
        "DRIVE_MOUNT='/content/gdrive'\n",
        "drive.mount(DRIVE_MOUNT)\n",
        "\n",
        "# create folder to write data to\n",
        "FakeNews_FOLDER=os.path.join(DRIVE_MOUNT, 'My Drive', 'FN_Project')\n",
        "HOMEWORK_FOLDER=os.path.join(FakeNews_FOLDER, 'FN_Project')\n",
        "os.makedirs(HOMEWORK_FOLDER, exist_ok=True)"
      ],
      "execution_count": null,
      "outputs": [
        {
          "output_type": "stream",
          "text": [
            "Mounted at /content/gdrive\n"
          ],
          "name": "stdout"
        }
      ]
    },
    {
      "cell_type": "code",
      "metadata": {
        "id": "FeR_G-LUwcXS"
      },
      "source": [
        "x_train = pd.read_csv('/content/gdrive/My Drive/Datasets/training_data.csv')\n",
        "x_test = pd.read_csv('/content/gdrive/My Drive/Datasets/testing_data.csv')\n",
        "y_train = pd.read_csv('/content/gdrive/My Drive/Datasets/train_labels.csv')\n",
        "y_test = pd.read_csv('/content/gdrive/My Drive/Datasets/test_labels.csv')"
      ],
      "execution_count": null,
      "outputs": []
    },
    {
      "cell_type": "code",
      "metadata": {
        "id": "wM6qFEFXwqQ-"
      },
      "source": [
        "x_train.drop(columns=['Unnamed: 0'], inplace = True)\n",
        "x_test.drop(columns=['Unnamed: 0'], inplace = True)\n",
        "y_train.drop(columns=['Unnamed: 0'], inplace = True)\n",
        "y_test.drop(columns=['Unnamed: 0'], inplace = True)"
      ],
      "execution_count": null,
      "outputs": []
    },
    {
      "cell_type": "code",
      "metadata": {
        "id": "fpzm7U8twthw"
      },
      "source": [
        "fake = pd.read_csv('/content/gdrive/My Drive/Datasets/fakeForModeling.csv')\n",
        "true = pd.read_csv('/content/gdrive/My Drive/Datasets/trueForModeling.csv')"
      ],
      "execution_count": null,
      "outputs": []
    },
    {
      "cell_type": "code",
      "metadata": {
        "id": "H0I2_vk8w4ki"
      },
      "source": [
        "fake.drop(columns=['Unnamed: 0'], inplace = True)\n",
        "true.drop(columns=['Unnamed: 0'], inplace = True)"
      ],
      "execution_count": null,
      "outputs": []
    },
    {
      "cell_type": "markdown",
      "metadata": {
        "id": "Mt3Z7Oa9xFv_"
      },
      "source": [
        "Binomial Logistic Regression"
      ]
    },
    {
      "cell_type": "code",
      "metadata": {
        "colab": {
          "base_uri": "https://localhost:8080/"
        },
        "id": "m2Ke6DJPxMoe",
        "outputId": "11ec1d15-f745-4fcc-f211-f7fb4fa5fd4e"
      },
      "source": [
        "# Instantiate a logistic regression model\n",
        "lr = LogisticRegression()\n",
        "\n",
        "lr.fit(x_train, np.ravel(y_train))"
      ],
      "execution_count": null,
      "outputs": [
        {
          "output_type": "execute_result",
          "data": {
            "text/plain": [
              "LogisticRegression(C=1.0, class_weight=None, dual=False, fit_intercept=True,\n",
              "                   intercept_scaling=1, l1_ratio=None, max_iter=100,\n",
              "                   multi_class='auto', n_jobs=None, penalty='l2',\n",
              "                   random_state=None, solver='lbfgs', tol=0.0001, verbose=0,\n",
              "                   warm_start=False)"
            ]
          },
          "metadata": {
            "tags": []
          },
          "execution_count": 8
        }
      ]
    },
    {
      "cell_type": "code",
      "metadata": {
        "id": "6j6HR-krxX3k"
      },
      "source": [
        "y_pred_lr = lr.predict(x_test)"
      ],
      "execution_count": null,
      "outputs": []
    },
    {
      "cell_type": "code",
      "metadata": {
        "colab": {
          "base_uri": "https://localhost:8080/"
        },
        "id": "FVkuOhF2xfoe",
        "outputId": "ee49d521-b7e9-4d6a-d175-51ab2a2bc802"
      },
      "source": [
        "lr_cm = metrics.confusion_matrix(y_test, y_pred_lr)\n",
        "print (lr_cm)"
      ],
      "execution_count": null,
      "outputs": [
        {
          "output_type": "stream",
          "text": [
            "[[4002  501]\n",
            " [ 452 4311]]\n"
          ],
          "name": "stdout"
        }
      ]
    },
    {
      "cell_type": "code",
      "metadata": {
        "colab": {
          "base_uri": "https://localhost:8080/",
          "height": 265
        },
        "id": "B-DrVFtjxlqW",
        "outputId": "7e70e1b6-ff4d-4683-f533-9c0f79a1bce5"
      },
      "source": [
        "labels = np.array([['4002','501'],['452','4311']])\n",
        "sns.heatmap(lr_cm, annot=labels, fmt = '')\n",
        "plt.show()"
      ],
      "execution_count": null,
      "outputs": [
        {
          "output_type": "display_data",
          "data": {
            "image/png": "[encoded data removed]",
            "text/plain": [
              "<Figure size 432x288 with 2 Axes>"
            ]
          },
          "metadata": {
            "tags": [],
            "needs_background": "light"
          }
        }
      ]
    },
    {
      "cell_type": "code",
      "metadata": {
        "colab": {
          "base_uri": "https://localhost:8080/"
        },
        "id": "o7JiEo4Exz1m",
        "outputId": "a7ceb612-b5d3-47fd-f387-5701bf6a72b1"
      },
      "source": [
        "print(\"Accuracy is: \", metrics.accuracy_score(y_test, y_pred_lr))\n",
        "print(\"Mean Squared Error is:\", np.sqrt(mean_squared_error(y_test, y_pred_lr)))\n",
        "print(metrics.classification_report(y_test, y_pred_lr))"
      ],
      "execution_count": null,
      "outputs": [
        {
          "output_type": "stream",
          "text": [
            "Accuracy is:  0.897150874163609\n",
            "Mean Squared Error is: 0.3207009913243037\n",
            "              precision    recall  f1-score   support\n",
            "\n",
            "           0       0.90      0.89      0.89      4503\n",
            "           1       0.90      0.91      0.90      4763\n",
            "\n",
            "    accuracy                           0.90      9266\n",
            "   macro avg       0.90      0.90      0.90      9266\n",
            "weighted avg       0.90      0.90      0.90      9266\n",
            "\n"
          ],
          "name": "stdout"
        }
      ]
    },
    {
      "cell_type": "code",
      "metadata": {
        "id": "JS-CwNcRx4Kd"
      },
      "source": [
        "# Calculate predicted probabilities for test data \n",
        "y_pred_prob_lr = lr.predict_proba(x_test)[:, 1]"
      ],
      "execution_count": null,
      "outputs": []
    },
    {
      "cell_type": "code",
      "metadata": {
        "colab": {
          "base_uri": "https://localhost:8080/"
        },
        "id": "CO5EoXvkx7wi",
        "outputId": "05ee0182-0728-49d4-8446-db05b2fb3d8f"
      },
      "source": [
        "metrics.roc_auc_score(y_test, y_pred_prob_lr)"
      ],
      "execution_count": null,
      "outputs": [
        {
          "output_type": "execute_result",
          "data": {
            "text/plain": [
              "0.9568492351356124"
            ]
          },
          "metadata": {
            "tags": []
          },
          "execution_count": 14
        }
      ]
    },
    {
      "cell_type": "markdown",
      "metadata": {
        "id": "9dGlyUivyBSA"
      },
      "source": [
        "Naive Bayes"
      ]
    },
    {
      "cell_type": "code",
      "metadata": {
        "colab": {
          "base_uri": "https://localhost:8080/"
        },
        "id": "NFUQiPmEyb3v",
        "outputId": "e16e3e62-ac1a-422e-e981-92df7acf6996"
      },
      "source": [
        "# Naive Bayes variant used in text classification\n",
        "nb = MultinomialNB()\n",
        "%time nb.fit(x_train, np.ravel(y_train))"
      ],
      "execution_count": null,
      "outputs": [
        {
          "output_type": "stream",
          "text": [
            "CPU times: user 47.2 ms, sys: 34.3 ms, total: 81.4 ms\n",
            "Wall time: 54.8 ms\n"
          ],
          "name": "stdout"
        },
        {
          "output_type": "execute_result",
          "data": {
            "text/plain": [
              "MultinomialNB(alpha=1.0, class_prior=None, fit_prior=True)"
            ]
          },
          "metadata": {
            "tags": []
          },
          "execution_count": 15
        }
      ]
    },
    {
      "cell_type": "code",
      "metadata": {
        "id": "_GQVAERtywu0"
      },
      "source": [
        "y_pred_class = nb.predict(x_test)"
      ],
      "execution_count": null,
      "outputs": []
    },
    {
      "cell_type": "code",
      "metadata": {
        "colab": {
          "base_uri": "https://localhost:8080/"
        },
        "id": "rtN_cjNXy36A",
        "outputId": "e0e076b0-0948-464e-fff5-d7c0c3126c57"
      },
      "source": [
        "nb_cm = metrics.confusion_matrix(y_test, y_pred_class)\n",
        "print(nb_cm)"
      ],
      "execution_count": null,
      "outputs": [
        {
          "output_type": "stream",
          "text": [
            "[[3867  636]\n",
            " [ 600 4163]]\n"
          ],
          "name": "stdout"
        }
      ]
    },
    {
      "cell_type": "code",
      "metadata": {
        "colab": {
          "base_uri": "https://localhost:8080/",
          "height": 265
        },
        "id": "HCiAPxlHy9Xm",
        "outputId": "2fe7a733-d98c-4b5b-8263-ad2a25f2370e"
      },
      "source": [
        "labels =  np.array([['3867','636'],['600','4163']])\n",
        "sns.heatmap(nb_cm, annot=labels, fmt = '')\n",
        "plt.show()"
      ],
      "execution_count": null,
      "outputs": [
        {
          "output_type": "display_data",
          "data": {
            "image/png": "[encoded data removed]",
            "text/plain": [
              "<Figure size 432x288 with 2 Axes>"
            ]
          },
          "metadata": {
            "tags": [],
            "needs_background": "light"
          }
        }
      ]
    },
    {
      "cell_type": "code",
      "metadata": {
        "colab": {
          "base_uri": "https://localhost:8080/"
        },
        "id": "4tjl8juAzJqP",
        "outputId": "eb19539d-1e36-4286-e5dd-56223efaf984"
      },
      "source": [
        "print(\"Accuracy is:\", metrics.accuracy_score(y_test, y_pred_class))\n",
        "print(\"Mean Squared Error is:\", np.sqrt(mean_squared_error(y_test, y_pred_class)))\n",
        "print(metrics.classification_report(y_test, y_pred_class))"
      ],
      "execution_count": null,
      "outputs": [
        {
          "output_type": "stream",
          "text": [
            "Accuracy is: 0.8666091085689618\n",
            "Mean Squared Error is: 0.36522717783735403\n",
            "              precision    recall  f1-score   support\n",
            "\n",
            "           0       0.87      0.86      0.86      4503\n",
            "           1       0.87      0.87      0.87      4763\n",
            "\n",
            "    accuracy                           0.87      9266\n",
            "   macro avg       0.87      0.87      0.87      9266\n",
            "weighted avg       0.87      0.87      0.87      9266\n",
            "\n"
          ],
          "name": "stdout"
        }
      ]
    },
    {
      "cell_type": "code",
      "metadata": {
        "id": "z6WqLGEAzOD0"
      },
      "source": [
        "# Calculate predicted probabilities for test data \n",
        "y_pred_prob_nb = nb.predict_proba(x_test)[:, 1]"
      ],
      "execution_count": null,
      "outputs": []
    },
    {
      "cell_type": "code",
      "metadata": {
        "colab": {
          "base_uri": "https://localhost:8080/"
        },
        "id": "CmATg3IizPNX",
        "outputId": "7ebff7c9-8f97-43f4-b8db-29977c0cb3e5"
      },
      "source": [
        "metrics.roc_auc_score(y_test, y_pred_prob_nb)"
      ],
      "execution_count": null,
      "outputs": [
        {
          "output_type": "execute_result",
          "data": {
            "text/plain": [
              "0.9338083986186174"
            ]
          },
          "metadata": {
            "tags": []
          },
          "execution_count": 21
        }
      ]
    },
    {
      "cell_type": "code",
      "metadata": {
        "id": "dHjX-WcszdaM"
      },
      "source": [
        "#Number of times token appears in each True article\n",
        "true_token = nb.feature_count_[0, :]\n",
        "\n",
        "#Number of times token appears in each Fake article\n",
        "fake_token = nb.feature_count_[1, :]"
      ],
      "execution_count": null,
      "outputs": []
    },
    {
      "cell_type": "code",
      "metadata": {
        "colab": {
          "base_uri": "https://localhost:8080/",
          "height": 235
        },
        "id": "bzRkfTeIzg77",
        "outputId": "0452e19e-05c3-4750-99f7-9d8bc5eab506"
      },
      "source": [
        "tokens = pd.DataFrame({'token':x_train.columns, 'true':true_token, 'fake':fake_token}).set_index('token')\n",
        "tokens.head()"
      ],
      "execution_count": null,
      "outputs": [
        {
          "output_type": "execute_result",
          "data": {
            "text/html": [
              "<div>\n",
              "<style scoped>\n",
              "    .dataframe tbody tr th:only-of-type {\n",
              "        vertical-align: middle;\n",
              "    }\n",
              "\n",
              "    .dataframe tbody tr th {\n",
              "        vertical-align: top;\n",
              "    }\n",
              "\n",
              "    .dataframe thead th {\n",
              "        text-align: right;\n",
              "    }\n",
              "</style>\n",
              "<table border=\"1\" class=\"dataframe\">\n",
              "  <thead>\n",
              "    <tr style=\"text-align: right;\">\n",
              "      <th></th>\n",
              "      <th>true</th>\n",
              "      <th>fake</th>\n",
              "    </tr>\n",
              "    <tr>\n",
              "      <th>token</th>\n",
              "      <th></th>\n",
              "      <th></th>\n",
              "    </tr>\n",
              "  </thead>\n",
              "  <tbody>\n",
              "    <tr>\n",
              "      <th>according</th>\n",
              "      <td>377.235192</td>\n",
              "      <td>400.582444</td>\n",
              "    </tr>\n",
              "    <tr>\n",
              "      <th>act</th>\n",
              "      <td>218.442881</td>\n",
              "      <td>279.650057</td>\n",
              "    </tr>\n",
              "    <tr>\n",
              "      <th>action</th>\n",
              "      <td>283.719241</td>\n",
              "      <td>278.586737</td>\n",
              "    </tr>\n",
              "    <tr>\n",
              "      <th>added</th>\n",
              "      <td>318.226860</td>\n",
              "      <td>158.187281</td>\n",
              "    </tr>\n",
              "    <tr>\n",
              "      <th>administration</th>\n",
              "      <td>496.370815</td>\n",
              "      <td>357.358514</td>\n",
              "    </tr>\n",
              "  </tbody>\n",
              "</table>\n",
              "</div>"
            ],
            "text/plain": [
              "                      true        fake\n",
              "token                                 \n",
              "according       377.235192  400.582444\n",
              "act             218.442881  279.650057\n",
              "action          283.719241  278.586737\n",
              "added           318.226860  158.187281\n",
              "administration  496.370815  357.358514"
            ]
          },
          "metadata": {
            "tags": []
          },
          "execution_count": 23
        }
      ]
    },
    {
      "cell_type": "code",
      "metadata": {
        "id": "daZfDENNzvbF"
      },
      "source": [
        "# Add 1 to true and fake counts to avoid dividing by 0\n",
        "tokens['true'] = tokens.true + 1\n",
        "tokens['fake'] = tokens.fake + 1"
      ],
      "execution_count": null,
      "outputs": []
    },
    {
      "cell_type": "code",
      "metadata": {
        "id": "-XLIUfQOzz8Y"
      },
      "source": [
        "# Convert true and fake counts into frequencies\n",
        "tokens['true'] = tokens.true / nb.class_count_[0]\n",
        "tokens['fake'] = tokens.fake / nb.class_count_[1]"
      ],
      "execution_count": null,
      "outputs": []
    },
    {
      "cell_type": "code",
      "metadata": {
        "colab": {
          "base_uri": "https://localhost:8080/",
          "height": 390
        },
        "id": "r-XcolNnz7B5",
        "outputId": "64aa5ae9-e3bd-40c7-9857-cc0c9ab0f2a6"
      },
      "source": [
        "# Calculate the ratio of fake to true for each token\n",
        "tokens['fake/true ratio'] = tokens.fake / tokens.true\n",
        "tokens.sort_values('fake/true ratio', ascending=False).head(10)"
      ],
      "execution_count": null,
      "outputs": [
        {
          "output_type": "execute_result",
          "data": {
            "text/html": [
              "<div>\n",
              "<style scoped>\n",
              "    .dataframe tbody tr th:only-of-type {\n",
              "        vertical-align: middle;\n",
              "    }\n",
              "\n",
              "    .dataframe tbody tr th {\n",
              "        vertical-align: top;\n",
              "    }\n",
              "\n",
              "    .dataframe thead th {\n",
              "        text-align: right;\n",
              "    }\n",
              "</style>\n",
              "<table border=\"1\" class=\"dataframe\">\n",
              "  <thead>\n",
              "    <tr style=\"text-align: right;\">\n",
              "      <th></th>\n",
              "      <th>true</th>\n",
              "      <th>fake</th>\n",
              "      <th>fake/true ratio</th>\n",
              "    </tr>\n",
              "    <tr>\n",
              "      <th>token</th>\n",
              "      <th></th>\n",
              "      <th></th>\n",
              "      <th></th>\n",
              "    </tr>\n",
              "  </thead>\n",
              "  <tbody>\n",
              "    <tr>\n",
              "      <th>video</th>\n",
              "      <td>0.005444</td>\n",
              "      <td>0.039334</td>\n",
              "      <td>7.224719</td>\n",
              "    </tr>\n",
              "    <tr>\n",
              "      <th>fact</th>\n",
              "      <td>0.004140</td>\n",
              "      <td>0.025755</td>\n",
              "      <td>6.221561</td>\n",
              "    </tr>\n",
              "    <tr>\n",
              "      <th>hillary</th>\n",
              "      <td>0.008886</td>\n",
              "      <td>0.048162</td>\n",
              "      <td>5.420019</td>\n",
              "    </tr>\n",
              "    <tr>\n",
              "      <th>really</th>\n",
              "      <td>0.005028</td>\n",
              "      <td>0.025013</td>\n",
              "      <td>4.975049</td>\n",
              "    </tr>\n",
              "    <tr>\n",
              "      <th>know</th>\n",
              "      <td>0.008408</td>\n",
              "      <td>0.039078</td>\n",
              "      <td>4.647589</td>\n",
              "    </tr>\n",
              "    <tr>\n",
              "      <th>got</th>\n",
              "      <td>0.004580</td>\n",
              "      <td>0.021211</td>\n",
              "      <td>4.630964</td>\n",
              "    </tr>\n",
              "    <tr>\n",
              "      <th>america</th>\n",
              "      <td>0.008262</td>\n",
              "      <td>0.036754</td>\n",
              "      <td>4.448529</td>\n",
              "    </tr>\n",
              "    <tr>\n",
              "      <th>went</th>\n",
              "      <td>0.004647</td>\n",
              "      <td>0.019069</td>\n",
              "      <td>4.103528</td>\n",
              "    </tr>\n",
              "    <tr>\n",
              "      <th>story</th>\n",
              "      <td>0.005630</td>\n",
              "      <td>0.022906</td>\n",
              "      <td>4.068241</td>\n",
              "    </tr>\n",
              "    <tr>\n",
              "      <th>thing</th>\n",
              "      <td>0.007838</td>\n",
              "      <td>0.031133</td>\n",
              "      <td>3.972314</td>\n",
              "    </tr>\n",
              "  </tbody>\n",
              "</table>\n",
              "</div>"
            ],
            "text/plain": [
              "             true      fake  fake/true ratio\n",
              "token                                       \n",
              "video    0.005444  0.039334         7.224719\n",
              "fact     0.004140  0.025755         6.221561\n",
              "hillary  0.008886  0.048162         5.420019\n",
              "really   0.005028  0.025013         4.975049\n",
              "know     0.008408  0.039078         4.647589\n",
              "got      0.004580  0.021211         4.630964\n",
              "america  0.008262  0.036754         4.448529\n",
              "went     0.004647  0.019069         4.103528\n",
              "story    0.005630  0.022906         4.068241\n",
              "thing    0.007838  0.031133         3.972314"
            ]
          },
          "metadata": {
            "tags": []
          },
          "execution_count": 26
        }
      ]
    },
    {
      "cell_type": "code",
      "metadata": {
        "colab": {
          "base_uri": "https://localhost:8080/",
          "height": 390
        },
        "id": "4vWXBvFu0Epq",
        "outputId": "f74787be-703b-4d64-e279-f7a585fe6fb2"
      },
      "source": [
        "tokens.sort_values('fake/true ratio', ascending=True).head(10)"
      ],
      "execution_count": null,
      "outputs": [
        {
          "output_type": "execute_result",
          "data": {
            "text/html": [
              "<div>\n",
              "<style scoped>\n",
              "    .dataframe tbody tr th:only-of-type {\n",
              "        vertical-align: middle;\n",
              "    }\n",
              "\n",
              "    .dataframe tbody tr th {\n",
              "        vertical-align: top;\n",
              "    }\n",
              "\n",
              "    .dataframe thead th {\n",
              "        text-align: right;\n",
              "    }\n",
              "</style>\n",
              "<table border=\"1\" class=\"dataframe\">\n",
              "  <thead>\n",
              "    <tr style=\"text-align: right;\">\n",
              "      <th></th>\n",
              "      <th>true</th>\n",
              "      <th>fake</th>\n",
              "      <th>fake/true ratio</th>\n",
              "    </tr>\n",
              "    <tr>\n",
              "      <th>token</th>\n",
              "      <th></th>\n",
              "      <th></th>\n",
              "      <th></th>\n",
              "    </tr>\n",
              "  </thead>\n",
              "  <tbody>\n",
              "    <tr>\n",
              "      <th>minister</th>\n",
              "      <td>0.049728</td>\n",
              "      <td>0.004145</td>\n",
              "      <td>0.083347</td>\n",
              "    </tr>\n",
              "    <tr>\n",
              "      <th>wednesday</th>\n",
              "      <td>0.039481</td>\n",
              "      <td>0.008533</td>\n",
              "      <td>0.216144</td>\n",
              "    </tr>\n",
              "    <tr>\n",
              "      <th>thursday</th>\n",
              "      <td>0.038052</td>\n",
              "      <td>0.008354</td>\n",
              "      <td>0.219547</td>\n",
              "    </tr>\n",
              "    <tr>\n",
              "      <th>tuesday</th>\n",
              "      <td>0.037339</td>\n",
              "      <td>0.009037</td>\n",
              "      <td>0.242038</td>\n",
              "    </tr>\n",
              "    <tr>\n",
              "      <th>monday</th>\n",
              "      <td>0.034889</td>\n",
              "      <td>0.008628</td>\n",
              "      <td>0.247286</td>\n",
              "    </tr>\n",
              "    <tr>\n",
              "      <th>friday</th>\n",
              "      <td>0.036617</td>\n",
              "      <td>0.009796</td>\n",
              "      <td>0.267516</td>\n",
              "    </tr>\n",
              "    <tr>\n",
              "      <th>foreign</th>\n",
              "      <td>0.034821</td>\n",
              "      <td>0.010403</td>\n",
              "      <td>0.298756</td>\n",
              "    </tr>\n",
              "    <tr>\n",
              "      <th>international</th>\n",
              "      <td>0.023276</td>\n",
              "      <td>0.007500</td>\n",
              "      <td>0.322212</td>\n",
              "    </tr>\n",
              "    <tr>\n",
              "      <th>military</th>\n",
              "      <td>0.036171</td>\n",
              "      <td>0.011904</td>\n",
              "      <td>0.329110</td>\n",
              "    </tr>\n",
              "    <tr>\n",
              "      <th>force</th>\n",
              "      <td>0.031820</td>\n",
              "      <td>0.010777</td>\n",
              "      <td>0.338682</td>\n",
              "    </tr>\n",
              "  </tbody>\n",
              "</table>\n",
              "</div>"
            ],
            "text/plain": [
              "                   true      fake  fake/true ratio\n",
              "token                                             \n",
              "minister       0.049728  0.004145         0.083347\n",
              "wednesday      0.039481  0.008533         0.216144\n",
              "thursday       0.038052  0.008354         0.219547\n",
              "tuesday        0.037339  0.009037         0.242038\n",
              "monday         0.034889  0.008628         0.247286\n",
              "friday         0.036617  0.009796         0.267516\n",
              "foreign        0.034821  0.010403         0.298756\n",
              "international  0.023276  0.007500         0.322212\n",
              "military       0.036171  0.011904         0.329110\n",
              "force          0.031820  0.010777         0.338682"
            ]
          },
          "metadata": {
            "tags": []
          },
          "execution_count": 27
        }
      ]
    },
    {
      "cell_type": "markdown",
      "metadata": {
        "id": "1zJnGH2r0Hq6"
      },
      "source": [
        "Support Vector Machines"
      ]
    },
    {
      "cell_type": "code",
      "metadata": {
        "colab": {
          "base_uri": "https://localhost:8080/"
        },
        "id": "tfA3v0BU0jKo",
        "outputId": "882327b9-29d9-4c9d-f2e6-6b21d51ecaca"
      },
      "source": [
        "#Linear kernel fits well, decided not to use another kernel because of economy \n",
        "#and because linear has the lowest risk of overfitting\n",
        "svc = SVC(kernel='linear', random_state=1) \n",
        "svc.fit(x_train, np.ravel(y_train))"
      ],
      "execution_count": null,
      "outputs": [
        {
          "output_type": "execute_result",
          "data": {
            "text/plain": [
              "SVC(C=1.0, break_ties=False, cache_size=200, class_weight=None, coef0=0.0,\n",
              "    decision_function_shape='ovr', degree=3, gamma='scale', kernel='linear',\n",
              "    max_iter=-1, probability=False, random_state=1, shrinking=True, tol=0.001,\n",
              "    verbose=False)"
            ]
          },
          "metadata": {
            "tags": []
          },
          "execution_count": 28
        }
      ]
    },
    {
      "cell_type": "code",
      "metadata": {
        "id": "MExPC2eb1BoO"
      },
      "source": [
        "y_pred_svm = svc.predict(x_test)"
      ],
      "execution_count": null,
      "outputs": []
    },
    {
      "cell_type": "code",
      "metadata": {
        "colab": {
          "base_uri": "https://localhost:8080/"
        },
        "id": "s1yC3VhZ1GFG",
        "outputId": "13a574c8-8f8b-41d9-8811-f07296cb01dd"
      },
      "source": [
        "print(\"Accuracy is:\", metrics.accuracy_score(y_test, y_pred_svm))\n",
        "print(\"Mean Squared Error is:\", np.sqrt(mean_squared_error(y_test, y_pred_svm)))\n",
        "print(metrics.classification_report(y_test, y_pred_svm))"
      ],
      "execution_count": null,
      "outputs": [
        {
          "output_type": "stream",
          "text": [
            "Accuracy is: 0.9002805957263113\n",
            "Mean Squared Error is: 0.3157837935576947\n",
            "              precision    recall  f1-score   support\n",
            "\n",
            "           0       0.90      0.89      0.90      4503\n",
            "           1       0.90      0.91      0.90      4763\n",
            "\n",
            "    accuracy                           0.90      9266\n",
            "   macro avg       0.90      0.90      0.90      9266\n",
            "weighted avg       0.90      0.90      0.90      9266\n",
            "\n"
          ],
          "name": "stdout"
        }
      ]
    },
    {
      "cell_type": "code",
      "metadata": {
        "colab": {
          "base_uri": "https://localhost:8080/"
        },
        "id": "ggSpCzoZ1Kik",
        "outputId": "1fdc2ad8-2165-4f4a-b4d5-2d27fc7fa5c8"
      },
      "source": [
        "svm_cm = metrics.confusion_matrix(y_test, y_pred_svm)\n",
        "print(svm_cm)"
      ],
      "execution_count": null,
      "outputs": [
        {
          "output_type": "stream",
          "text": [
            "[[4006  497]\n",
            " [ 427 4336]]\n"
          ],
          "name": "stdout"
        }
      ]
    },
    {
      "cell_type": "code",
      "metadata": {
        "colab": {
          "base_uri": "https://localhost:8080/",
          "height": 265
        },
        "id": "mh0chebU1NLq",
        "outputId": "fb87f830-8ef4-4886-99c1-1fda521d3f58"
      },
      "source": [
        "labels =  np.array([['4006','497'],['427','4336']])\n",
        "sns.heatmap(svm_cm, annot=labels, fmt = '')\n",
        "plt.show()"
      ],
      "execution_count": null,
      "outputs": [
        {
          "output_type": "display_data",
          "data": {
            "image/png": "[encoded data removed]",
            "text/plain": [
              "<Figure size 432x288 with 2 Axes>"
            ]
          },
          "metadata": {
            "tags": [],
            "needs_background": "light"
          }
        }
      ]
    },
    {
      "cell_type": "code",
      "metadata": {
        "colab": {
          "base_uri": "https://localhost:8080/"
        },
        "id": "zF_rjWm91P0X",
        "outputId": "27f213af-cb3b-44dd-ee8e-e5a8c14799bc"
      },
      "source": [
        "print (metrics.roc_auc_score(y_test, y_pred_svm))"
      ],
      "execution_count": null,
      "outputs": [
        {
          "output_type": "stream",
          "text": [
            "0.8999898777445078\n"
          ],
          "name": "stdout"
        }
      ]
    },
    {
      "cell_type": "markdown",
      "metadata": {
        "id": "S9iLmURZ2IlY"
      },
      "source": [
        "Random Forest"
      ]
    },
    {
      "cell_type": "code",
      "metadata": {
        "colab": {
          "base_uri": "https://localhost:8080/"
        },
        "id": "11KppyKX2L4w",
        "outputId": "c31a06fd-0379-49b9-82ba-b5a9ac59ce8e"
      },
      "source": [
        "#Tried different depths, 60 was the best\n",
        "#Tried estimators, 200 was the best\n",
        "rf = RandomForestClassifier(random_state = 1)\n",
        "\n",
        "param_grid = {\n",
        "    'n_estimators': [200],\n",
        "    'max_depth': [50, 60, 70]\n",
        "    }\n",
        "\n",
        "%time grid_search_rf = GridSearchCV(estimator = rf, param_grid = param_grid, cv = 5)\n",
        "grid_search_rf.fit(x_train, np.ravel(y_train))\n",
        "grid_search_rf.best_params_"
      ],
      "execution_count": null,
      "outputs": [
        {
          "output_type": "stream",
          "text": [
            "CPU times: user 81 µs, sys: 1 µs, total: 82 µs\n",
            "Wall time: 87.3 µs\n"
          ],
          "name": "stdout"
        },
        {
          "output_type": "execute_result",
          "data": {
            "text/plain": [
              "{'max_depth': 70, 'n_estimators': 200}"
            ]
          },
          "metadata": {
            "tags": []
          },
          "execution_count": 34
        }
      ]
    },
    {
      "cell_type": "code",
      "metadata": {
        "id": "LQx-IV_u2zph"
      },
      "source": [
        "y_pred_rf = grid_search_rf.predict(x_test)"
      ],
      "execution_count": null,
      "outputs": []
    },
    {
      "cell_type": "code",
      "metadata": {
        "colab": {
          "base_uri": "https://localhost:8080/"
        },
        "id": "zuH6FYpY27P0",
        "outputId": "d1e760b2-1a56-4825-c018-cf1ec492c01c"
      },
      "source": [
        "rf_cm = metrics.confusion_matrix(y_test, y_pred_rf)\n",
        "print(rf_cm)"
      ],
      "execution_count": null,
      "outputs": [
        {
          "output_type": "stream",
          "text": [
            "[[4088  415]\n",
            " [ 221 4542]]\n"
          ],
          "name": "stdout"
        }
      ]
    },
    {
      "cell_type": "code",
      "metadata": {
        "colab": {
          "base_uri": "https://localhost:8080/"
        },
        "id": "_vaw3KFm2_3b",
        "outputId": "d743259c-3798-4010-ec46-465e09ac0d9b"
      },
      "source": [
        "print(\"Accuracy is:\", metrics.accuracy_score(y_test, y_pred_rf))\n",
        "print(\"Mean Squared Error is:\", np.sqrt(mean_squared_error(y_test, y_pred_rf)))\n",
        "print(metrics.classification_report(y_test, y_pred_rf))"
      ],
      "execution_count": null,
      "outputs": [
        {
          "output_type": "stream",
          "text": [
            "Accuracy is: 0.9313619684869415\n",
            "Mean Squared Error is: 0.2619886095101436\n",
            "              precision    recall  f1-score   support\n",
            "\n",
            "           0       0.95      0.91      0.93      4503\n",
            "           1       0.92      0.95      0.93      4763\n",
            "\n",
            "    accuracy                           0.93      9266\n",
            "   macro avg       0.93      0.93      0.93      9266\n",
            "weighted avg       0.93      0.93      0.93      9266\n",
            "\n"
          ],
          "name": "stdout"
        }
      ]
    },
    {
      "cell_type": "code",
      "metadata": {
        "colab": {
          "base_uri": "https://localhost:8080/",
          "height": 267
        },
        "id": "FSlJDFxK3F5H",
        "outputId": "4ea2457c-f141-4904-bff2-e4e7e12d1b23"
      },
      "source": [
        "labels = np.array([['4088','415'],['221','4542']])\n",
        "sns.heatmap(rf_cm, annot=labels, fmt = '')\n",
        "plt.show()"
      ],
      "execution_count": null,
      "outputs": [
        {
          "output_type": "display_data",
          "data": {
            "image/png": "[encoded data removed]",
            "text/plain": [
              "<Figure size 432x288 with 2 Axes>"
            ]
          },
          "metadata": {
            "tags": [],
            "needs_background": "light"
          }
        }
      ]
    },
    {
      "cell_type": "code",
      "metadata": {
        "id": "QaSFxNm53Iw-"
      },
      "source": [
        "# Calculate predicted probabilities for test data \n",
        "y_pred_prob_rf = grid_search_rf.predict_proba(x_test)[:, 1]"
      ],
      "execution_count": null,
      "outputs": []
    },
    {
      "cell_type": "code",
      "metadata": {
        "colab": {
          "base_uri": "https://localhost:8080/"
        },
        "id": "R5fqN0_L3L1i",
        "outputId": "dae5f903-24b0-4ccc-9df7-ca1c36af2af7"
      },
      "source": [
        "metrics.roc_auc_score(y_test, y_pred_prob_rf)"
      ],
      "execution_count": null,
      "outputs": [
        {
          "output_type": "execute_result",
          "data": {
            "text/plain": [
              "0.9790150397320674"
            ]
          },
          "metadata": {
            "tags": []
          },
          "execution_count": 40
        }
      ]
    },
    {
      "cell_type": "code",
      "metadata": {
        "colab": {
          "base_uri": "https://localhost:8080/",
          "height": 282
        },
        "id": "-IecQhIa3O5_",
        "outputId": "b2634d98-2c22-49dd-e987-01955828a67a"
      },
      "source": [
        "feature_importances = pd.Series(grid_search_rf.best_estimator_.feature_importances_, index=x_train.columns)\n",
        "feature_importances.nlargest(10).plot(kind='barh', color='green')"
      ],
      "execution_count": null,
      "outputs": [
        {
          "output_type": "execute_result",
          "data": {
            "text/plain": [
              "<matplotlib.axes._subplots.AxesSubplot at 0x7f163afe7890>"
            ]
          },
          "metadata": {
            "tags": []
          },
          "execution_count": 41
        },
        {
          "output_type": "display_data",
          "data": {
            "image/png": "[encoded data removed]",
            "text/plain": [
              "<Figure size 432x288 with 1 Axes>"
            ]
          },
          "metadata": {
            "tags": [],
            "needs_background": "light"
          }
        }
      ]
    },
    {
      "cell_type": "markdown",
      "metadata": {
        "id": "eTSXPlbGK76j"
      },
      "source": [
        "Neural Network\n",
        "\n",
        "I use the basic bert-base-uncased model. The maximum number of tokens allowed for BERT is 512, so articles are truncated. This could pose a possible issue."
      ]
    },
    {
      "cell_type": "code",
      "metadata": {
        "id": "Xem7WbbhLqNo"
      },
      "source": [
        "#Create new train-test set\n",
        "X = pd.concat([true[\"text\"], fake[\"text\"]])\n",
        "true[\"label\"] = [0 for x in true[\"label\"]]\n",
        "fake[\"label\"] = [1 for x in fake[\"label\"]]\n",
        "y = pd.concat([true[\"label\"], fake[\"label\"]])\n",
        "\n",
        "X_train, X_test, y_train, y_test = ms.train_test_split(X, y, test_size = 0.2, random_state=1)\n",
        "train_data = pd.concat([X_train, y_train],axis = 1).reset_index(drop=True)\n",
        "test_data = pd.concat([X_test, y_test],axis = 1).reset_index(drop=True)"
      ],
      "execution_count": null,
      "outputs": []
    },
    {
      "cell_type": "code",
      "metadata": {
        "id": "P3rzB63_L2PM"
      },
      "source": [
        "X = pd.DataFrame(X)\n",
        "articles = X[\"text\"].tolist()\n",
        "y = pd.DataFrame(y)\n",
        "labels = y[\"label\"].tolist()"
      ],
      "execution_count": null,
      "outputs": []
    },
    {
      "cell_type": "code",
      "metadata": {
        "id": "HF9FqRxBL-E3",
        "colab": {
          "base_uri": "https://localhost:8080/",
          "height": 164,
          "referenced_widgets": [
            "10c581c09c244f73a8eb72cc3e7e2278",
            "677cad81a3124388a770eebd941d4a55",
            "4a428b8c598d41ecbdd0ee5ee82df1a0",
            "3717b551723e4bbc95e042d40ef4acc4",
            "c51b86cc64cc4b8cac7f2ff56382b5ff",
            "76b7726fdfe34a59a99c406d632e463d",
            "734266955f584dccaaaa49f28866ee35",
            "753d3e2fb4a145708a92d9a073f54665",
            "e4568784982847d097941f9d3f21cefc",
            "9ec62bb3e5114376b88a65824a088b23",
            "b2829f8816e64d2a8174967e2dd2aa48",
            "08f007600d584baf8050c0394b575f51",
            "d7e0fa5d92b14c4fb66e2fd8c5a53ca0",
            "4b997e25eccf4338971ccc2a70c008da",
            "f712676cc6fb42408cfe09eb8acd9157",
            "1f670e574bc24f9f9a10dbb60ef018d8",
            "4376e441829f4f379693e309130a3530",
            "f8aa0344dfaf427a8f16aa93b44e8a38",
            "96d6f5259d2a471aaba3d82b241311dc",
            "aa5ba614e6d74cc48927108af78a9ba8",
            "d42b415fd19849329f0f7abecc92abe4",
            "5aac8eb50c39483397ec45cca3d48545",
            "4721c9e5b41b45a08499b96b31e29365",
            "51fa1f0df77744e4aa55c45e6c04b284"
          ]
        },
        "outputId": "a673c5fb-3652-4763-88a4-cfab8302d673"
      },
      "source": [
        "#Create new tokenizer because it's best to tokenize with the same tokenizer \n",
        "#That BERT was trained on instead of self-defined one \n",
        "\n",
        "tokenizer = BertTokenizer.from_pretrained('bert-base-uncased', do_lower_case=True)"
      ],
      "execution_count": null,
      "outputs": [
        {
          "output_type": "display_data",
          "data": {
            "application/vnd.jupyter.widget-view+json": {
              "model_id": "10c581c09c244f73a8eb72cc3e7e2278",
              "version_minor": 0,
              "version_major": 2
            },
            "text/plain": [
              "HBox(children=(FloatProgress(value=0.0, description='Downloading', max=231508.0, style=ProgressStyle(descripti…"
            ]
          },
          "metadata": {
            "tags": []
          }
        },
        {
          "output_type": "stream",
          "text": [
            "\n"
          ],
          "name": "stdout"
        },
        {
          "output_type": "display_data",
          "data": {
            "application/vnd.jupyter.widget-view+json": {
              "model_id": "e4568784982847d097941f9d3f21cefc",
              "version_minor": 0,
              "version_major": 2
            },
            "text/plain": [
              "HBox(children=(FloatProgress(value=0.0, description='Downloading', max=28.0, style=ProgressStyle(description_w…"
            ]
          },
          "metadata": {
            "tags": []
          }
        },
        {
          "output_type": "stream",
          "text": [
            "\n"
          ],
          "name": "stdout"
        },
        {
          "output_type": "display_data",
          "data": {
            "application/vnd.jupyter.widget-view+json": {
              "model_id": "4376e441829f4f379693e309130a3530",
              "version_minor": 0,
              "version_major": 2
            },
            "text/plain": [
              "HBox(children=(FloatProgress(value=0.0, description='Downloading', max=466062.0, style=ProgressStyle(descripti…"
            ]
          },
          "metadata": {
            "tags": []
          }
        },
        {
          "output_type": "stream",
          "text": [
            "\n"
          ],
          "name": "stdout"
        }
      ]
    },
    {
      "cell_type": "code",
      "metadata": {
        "colab": {
          "base_uri": "https://localhost:8080/"
        },
        "id": "jrdk9hroMojE",
        "outputId": "7e409a88-0bb1-4bd2-e50c-b44bfbefbf41"
      },
      "source": [
        "# Tokenize all of the articles and map the tokens to thier word IDs.\n",
        "input_ids = []\n",
        "attention_masks = []\n",
        "\n",
        "for article in articles:\n",
        "    encoded_dict = tokenizer.encode_plus(\n",
        "                        article,                      #Article to encode\n",
        "                        add_special_tokens = True, #Add [CLS] to start, [SEP] to end\n",
        "                        max_length = 64,           #Pad & truncate all sentences\n",
        "                        pad_to_max_length = True,\n",
        "                        return_attention_mask = True,   #Create masks\n",
        "                        return_tensors = 'pt',     # Return pytorch tensors\n",
        "                   )\n",
        "    \n",
        "    #Add the encoded sentence to the list    \n",
        "    input_ids.append(encoded_dict['input_ids'])\n",
        "    \n",
        "    # Add attention mask (simply differentiates padding from non-padding)\n",
        "    attention_masks.append(encoded_dict['attention_mask'])\n",
        "\n",
        "# Convert the lists into tensors\n",
        "input_ids = torch.cat(input_ids, dim=0) #encoded sentence\n",
        "attention_masks = torch.cat(attention_masks, dim=0) #mask\n",
        "labels = torch.tensor(labels) #labels (fake/true)"
      ],
      "execution_count": null,
      "outputs": [
        {
          "output_type": "stream",
          "text": [
            "Truncation was not explicitly activated but `max_length` is provided a specific value, please use `truncation=True` to explicitly truncate examples to max length. Defaulting to 'longest_first' truncation strategy. If you encode pairs of sequences (GLUE-style) with the tokenizer you can select this strategy more precisely by providing a specific strategy to `truncation`.\n"
          ],
          "name": "stderr"
        }
      ]
    },
    {
      "cell_type": "code",
      "metadata": {
        "colab": {
          "base_uri": "https://localhost:8080/",
          "height": 351
        },
        "id": "Hkry_lKIMt7R",
        "outputId": "a5c1ab52-2d1e-4da3-9233-7d5188050b95"
      },
      "source": [
        "from torch.utils.data import TensorDataset, random_split\n",
        "# Combine the training inputs into a TensorDataset\n",
        "dataset = TensorDataset(input_ids, attention_masks, labels)\n",
        "\n",
        "# Create a 70-10-20 train-validation-test split\n",
        "\n",
        "# Calculate the number of samples to include in each set.\n",
        "train_size = int(0.7 * len(dataset))\n",
        "val_size = int(0.1 * len(dataset)) + 1 #add 1 because int() causes 1 row to be left out\n",
        "test_size = int(0.2 * len(dataset)) \n",
        "\n",
        "train_dataset, val_dataset, test_dataset = random_split(dataset, [train_size, val_size, test_size])\n",
        "\n",
        "print('{:>5,} training samples'.format(train_size))\n",
        "print('{:>5,} validation samples'.format(val_size))\n",
        "print('{:>5,} test samples'.format(test_size))\n"
      ],
      "execution_count": null,
      "outputs": [
        {
          "output_type": "error",
          "ename": "ValueError",
          "evalue": "ignored",
          "traceback": [
            "\u001b[0;31m---------------------------------------------------------------------------\u001b[0m",
            "\u001b[0;31mValueError\u001b[0m                                Traceback (most recent call last)",
            "\u001b[0;32m<ipython-input-46-6f4f13a0256b>\u001b[0m in \u001b[0;36m<module>\u001b[0;34m()\u001b[0m\n\u001b[1;32m     10\u001b[0m \u001b[0mtest_size\u001b[0m \u001b[0;34m=\u001b[0m \u001b[0mint\u001b[0m\u001b[0;34m(\u001b[0m\u001b[0;36m0.2\u001b[0m \u001b[0;34m*\u001b[0m \u001b[0mlen\u001b[0m\u001b[0;34m(\u001b[0m\u001b[0mdataset\u001b[0m\u001b[0;34m)\u001b[0m\u001b[0;34m)\u001b[0m\u001b[0;34m\u001b[0m\u001b[0;34m\u001b[0m\u001b[0m\n\u001b[1;32m     11\u001b[0m \u001b[0;34m\u001b[0m\u001b[0m\n\u001b[0;32m---> 12\u001b[0;31m \u001b[0mtrain_dataset\u001b[0m\u001b[0;34m,\u001b[0m \u001b[0mval_dataset\u001b[0m\u001b[0;34m,\u001b[0m \u001b[0mtest_dataset\u001b[0m \u001b[0;34m=\u001b[0m \u001b[0mrandom_split\u001b[0m\u001b[0;34m(\u001b[0m\u001b[0mdataset\u001b[0m\u001b[0;34m,\u001b[0m \u001b[0;34m[\u001b[0m\u001b[0mtrain_size\u001b[0m\u001b[0;34m,\u001b[0m \u001b[0mval_size\u001b[0m\u001b[0;34m,\u001b[0m \u001b[0mtest_size\u001b[0m\u001b[0;34m]\u001b[0m\u001b[0;34m)\u001b[0m\u001b[0;34m\u001b[0m\u001b[0;34m\u001b[0m\u001b[0m\n\u001b[0m\u001b[1;32m     13\u001b[0m \u001b[0;34m\u001b[0m\u001b[0m\n\u001b[1;32m     14\u001b[0m \u001b[0mprint\u001b[0m\u001b[0;34m(\u001b[0m\u001b[0;34m'{:>5,} training samples'\u001b[0m\u001b[0;34m.\u001b[0m\u001b[0mformat\u001b[0m\u001b[0;34m(\u001b[0m\u001b[0mtrain_size\u001b[0m\u001b[0;34m)\u001b[0m\u001b[0;34m)\u001b[0m\u001b[0;34m\u001b[0m\u001b[0;34m\u001b[0m\u001b[0m\n",
            "\u001b[0;32m/usr/local/lib/python3.7/dist-packages/torch/utils/data/dataset.py\u001b[0m in \u001b[0;36mrandom_split\u001b[0;34m(dataset, lengths, generator)\u001b[0m\n\u001b[1;32m    349\u001b[0m     \u001b[0;31m# Cannot verify that dataset is Sized\u001b[0m\u001b[0;34m\u001b[0m\u001b[0;34m\u001b[0m\u001b[0;34m\u001b[0m\u001b[0m\n\u001b[1;32m    350\u001b[0m     \u001b[0;32mif\u001b[0m \u001b[0msum\u001b[0m\u001b[0;34m(\u001b[0m\u001b[0mlengths\u001b[0m\u001b[0;34m)\u001b[0m \u001b[0;34m!=\u001b[0m \u001b[0mlen\u001b[0m\u001b[0;34m(\u001b[0m\u001b[0mdataset\u001b[0m\u001b[0;34m)\u001b[0m\u001b[0;34m:\u001b[0m  \u001b[0;31m# type: ignore\u001b[0m\u001b[0;34m\u001b[0m\u001b[0;34m\u001b[0m\u001b[0m\n\u001b[0;32m--> 351\u001b[0;31m         \u001b[0;32mraise\u001b[0m \u001b[0mValueError\u001b[0m\u001b[0;34m(\u001b[0m\u001b[0;34m\"Sum of input lengths does not equal the length of the input dataset!\"\u001b[0m\u001b[0;34m)\u001b[0m\u001b[0;34m\u001b[0m\u001b[0;34m\u001b[0m\u001b[0m\n\u001b[0m\u001b[1;32m    352\u001b[0m \u001b[0;34m\u001b[0m\u001b[0m\n\u001b[1;32m    353\u001b[0m     \u001b[0mindices\u001b[0m \u001b[0;34m=\u001b[0m \u001b[0mrandperm\u001b[0m\u001b[0;34m(\u001b[0m\u001b[0msum\u001b[0m\u001b[0;34m(\u001b[0m\u001b[0mlengths\u001b[0m\u001b[0;34m)\u001b[0m\u001b[0;34m,\u001b[0m \u001b[0mgenerator\u001b[0m\u001b[0;34m=\u001b[0m\u001b[0mgenerator\u001b[0m\u001b[0;34m)\u001b[0m\u001b[0;34m.\u001b[0m\u001b[0mtolist\u001b[0m\u001b[0;34m(\u001b[0m\u001b[0;34m)\u001b[0m\u001b[0;34m\u001b[0m\u001b[0;34m\u001b[0m\u001b[0m\n",
            "\u001b[0;31mValueError\u001b[0m: Sum of input lengths does not equal the length of the input dataset!"
          ]
        }
      ]
    },
    {
      "cell_type": "code",
      "metadata": {
        "id": "0kPqjxSWNtjD"
      },
      "source": [
        "#BERT developers recommend 16 or 32 batch_size\n",
        "batch_size = 16\n",
        "\n",
        "train_dataloader = DataLoader(\n",
        "            train_dataset,  \n",
        "            sampler = RandomSampler(train_dataset), # Select batches randomly\n",
        "            batch_size = batch_size)\n",
        "\n",
        "validation_dataloader = DataLoader(\n",
        "            val_dataset, \n",
        "            sampler = SequentialSampler(val_dataset), # Pull out batches sequentially, since order doesn't matter here\n",
        "            batch_size = batch_size)\n",
        "\n",
        "test_dataloader = DataLoader(\n",
        "            test_dataset, \n",
        "            sampler = SequentialSampler(test_dataset), # Pull out batches sequentially, since order doesn't matter here\n",
        "            batch_size = batch_size)\n"
      ],
      "execution_count": null,
      "outputs": []
    },
    {
      "cell_type": "code",
      "metadata": {
        "id": "ysFxXniLOBCg"
      },
      "source": [
        "# Load BertForSequenceClassification, the pretrained BERT model with a single linear classification layer  \n",
        "# Don't output all layers due to memory limits\n",
        "model = BertForSequenceClassification.from_pretrained(\n",
        "    \"bert-base-uncased\", # Use the 12-layer BERT model, with an uncased vocab\n",
        "    num_labels = 2, #binary classification  \n",
        "    output_attentions = False, \n",
        "    output_hidden_states = False)\n",
        "\n",
        "#run model on the GPU\n",
        "model.cuda()"
      ],
      "execution_count": null,
      "outputs": []
    },
    {
      "cell_type": "code",
      "metadata": {
        "id": "0w3BY4R6OETr"
      },
      "source": [
        "#Use Adam optimizer\n",
        "optimizer = AdamW(model.parameters(),\n",
        "                  lr = 0.00002,\n",
        "                  eps = 1e-8) # default is 1e-8"
      ],
      "execution_count": null,
      "outputs": []
    },
    {
      "cell_type": "code",
      "metadata": {
        "id": "Wq2X-MuhPJrZ"
      },
      "source": [
        "# BERT authors recommend between 2 and 4 epochs\n",
        "epochs = 4\n",
        "\n",
        "# number of batches x number of epochs\n",
        "total_steps = len(train_dataloader) * epochs\n",
        "\n",
        "# Create the learning rate scheduler to reduce the learning rate as training epochs increase\n",
        "scheduler = get_linear_schedule_with_warmup(optimizer, \n",
        "                                            num_warmup_steps = 0, #default\n",
        "                                            num_training_steps = total_steps)"
      ],
      "execution_count": null,
      "outputs": []
    },
    {
      "cell_type": "code",
      "metadata": {
        "id": "AoNpH6oNQwN6"
      },
      "source": [
        "def accuracy(preds, labels):\n",
        "    pred_flat = np.argmax(preds, axis=1).flatten()\n",
        "    labels_flat = labels.flatten()\n",
        "    return metrics.accuracy_score(pred_flat, labels_flat)"
      ],
      "execution_count": null,
      "outputs": []
    },
    {
      "cell_type": "code",
      "metadata": {
        "id": "a76WNIU1Q1cE"
      },
      "source": [
        "#Takes a time in seconds and returns a string hh:mm:ss\n",
        "def format_time(elapsed):\n",
        "    \n",
        "    # Round to the nearest second.\n",
        "    elapsed_rounded = int(round((elapsed)))\n",
        "    \n",
        "    # Format as hh:mm:ss\n",
        "    return str(datetime.timedelta(seconds=elapsed_rounded))"
      ],
      "execution_count": null,
      "outputs": []
    },
    {
      "cell_type": "code",
      "metadata": {
        "id": "_Uf5CgTjRB8p"
      },
      "source": [
        "#Use a seed to ensure reproductibility\n",
        "seed_val = 22\n",
        "\n",
        "random.seed(seed_val)\n",
        "np.random.seed(seed_val)\n",
        "torch.manual_seed(seed_val)\n",
        "torch.cuda.manual_seed_all(seed_val)\n",
        "\n",
        "training_stats = []\n",
        "\n",
        "# Measure the total training time for the whole run.\n",
        "total_t0 = time.time()\n",
        "\n",
        "\n",
        "for epoch_i in range(0, epochs):\n",
        "    \n",
        "    print(\"\")\n",
        "    print('======== Epoch {:} / {:} ========'.format(epoch_i + 1, epochs))\n",
        "\n",
        "    # Measure how long the training epoch takes\n",
        "    t0 = time.time()\n",
        "\n",
        "    # Reset the total loss for this epoch\n",
        "    total_train_loss = 0\n",
        "\n",
        "    model.train()\n",
        "\n",
        "    for step, batch in enumerate(train_dataloader):\n",
        "\n",
        "        # Progress update every 40 batches\n",
        "        if step % 40 == 0 and not step == 0:\n",
        "            # Calculate elapsed time in minutes\n",
        "            elapsed = format_time(time.time() - t0)\n",
        "            \n",
        "            # Report progress\n",
        "            print('  Batch {:>5,}  of  {:>5,}.    Elapsed: {:}.'.format(step, len(train_dataloader), elapsed))\n",
        "\n",
        "        b_input_ids = batch[0].to(device) #copy each tensor to the GPU\n",
        "        b_input_mask = batch[1].to(device) #copy each tensor to the GPU\n",
        "        b_labels = batch[2].to(device) #copy each tensor to the GPU\n",
        "\n",
        "        model.zero_grad()        \n",
        "\n",
        "        # Perform forward pass \n",
        "        # Returns the loss (because we provided labels) and the \"logits\" - the model\n",
        "        # outputs prior to activation\n",
        "        loss, logits = model(b_input_ids, \n",
        "                             token_type_ids=None, \n",
        "                             attention_mask=b_input_mask, \n",
        "                             labels=b_labels)\n",
        "\n",
        "        total_train_loss += loss.item()\n",
        "        loss.backward()\n",
        "\n",
        "        # Clip the norm of the gradients to 1.0\n",
        "        # This is to help prevent the \"exploding gradients\" problem\n",
        "        torch.nn.utils.clip_grad_norm_(model.parameters(), 1.0)\n",
        "        optimizer.step()\n",
        "        scheduler.step() # Update the learning rate\n",
        "\n",
        "    avg_train_loss = total_train_loss / len(train_dataloader)            \n",
        "    \n",
        "    # Measure how long this epoch took\n",
        "    training_time = format_time(time.time() - t0)\n",
        "\n",
        "    print(\"\")\n",
        "    print(\"  Average training loss: {0:.2f}\".format(avg_train_loss))\n",
        "    print(\"  Training epcoh took: {:}\".format(training_time))\n",
        "\n",
        "    print(\"\")\n",
        "    print(\"Running Validation...\")\n",
        "\n",
        "    t0 = time.time()\n",
        "\n",
        "    model.eval()\n",
        "\n",
        "    # Tracking variables \n",
        "    total_eval_accuracy = 0\n",
        "    total_eval_loss = 0\n",
        "    nb_eval_steps = 0\n",
        "\n",
        "    for batch in validation_dataloader:\n",
        "        \n",
        "        b_input_ids = batch[0].to(device) #copy each tensor to the GPU\n",
        "        b_input_mask = batch[1].to(device) #copy each tensor to the GPU\n",
        "        b_labels = batch[2].to(device) #copy each tensor to the GPU\n",
        "        \n",
        "        # Tell pytorch not to bother with constructing the compute graph during\n",
        "        # the forward pass, since this is only needed for backprop (training).\n",
        "        with torch.no_grad():        \n",
        "            (loss, logits) = model(b_input_ids, \n",
        "                                   token_type_ids=None, \n",
        "                                   attention_mask=b_input_mask,\n",
        "                                   labels=b_labels)         \n",
        "        total_eval_loss += loss.item()\n",
        "\n",
        "        # Move logits and labels to CPU\n",
        "        logits = logits.detach().cpu().numpy()\n",
        "        label_ids = b_labels.to('cpu').numpy()\n",
        "\n",
        "        # Calculate the accuracy for this batch of test sentences, and\n",
        "        # accumulate it over all batches.\n",
        "        total_eval_accuracy += accuracy(logits, label_ids)\n",
        "        \n",
        "    # Report the final accuracy for this validation run\n",
        "    avg_val_accuracy = total_eval_accuracy / len(validation_dataloader)\n",
        "    print(\"  Accuracy: {0:.2f}\".format(avg_val_accuracy))\n",
        "\n",
        "    # Calculate the average loss over all of the batches\n",
        "    avg_val_loss = total_eval_loss / len(validation_dataloader)\n",
        "    \n",
        "    # Measure how long the validation run took\n",
        "    validation_time = format_time(time.time() - t0)\n",
        "    \n",
        "    print(\"  Validation Loss: {0:.2f}\".format(avg_val_loss))\n",
        "    print(\"  Validation took: {:}\".format(validation_time))\n",
        "\n",
        "    # Record all statistics from this epoch.\n",
        "    training_stats.append(\n",
        "        {\n",
        "            'epoch': epoch_i + 1,\n",
        "            'Training Loss': avg_train_loss,\n",
        "            'Valid. Loss': avg_val_loss,\n",
        "            'Valid. Accur.': avg_val_accuracy,\n",
        "            'Training Time': training_time,\n",
        "            'Validation Time': validation_time\n",
        "        }\n",
        "    )\n",
        "\n",
        "print(\"\")\n",
        "print(\"Training complete!\")\n",
        "\n",
        "print(\"Total training took {:} (h:mm:ss)\".format(format_time(time.time()-total_t0)))"
      ],
      "execution_count": null,
      "outputs": []
    },
    {
      "cell_type": "code",
      "metadata": {
        "id": "SXT6uyF3RGlk"
      },
      "source": [
        "pd.set_option('precision', 2)\n",
        "\n",
        "df_stats = pd.DataFrame(data=training_stats)\n",
        "\n",
        "df_stats = df_stats.set_index('epoch')\n",
        "\n",
        "df_stats"
      ],
      "execution_count": null,
      "outputs": []
    },
    {
      "cell_type": "code",
      "metadata": {
        "id": "GrC54rQTRJnG"
      },
      "source": [
        "sns.set(style='darkgrid')\n",
        "\n",
        "sns.set(font_scale=0.5)\n",
        "plt.rcParams[\"figure.figsize\"] = (12,6)\n",
        "\n",
        "plt.plot(df_stats['Training Loss'], 'b-o', label=\"Training\")\n",
        "plt.plot(df_stats['Valid. Loss'], 'g-o', label=\"Validation\")\n",
        "\n",
        "plt.title(\"Training & Validation Loss\")\n",
        "plt.xlabel(\"Epoch\")\n",
        "plt.ylabel(\"Loss\")\n",
        "plt.legend()\n",
        "plt.xticks([1, 2, 3, 4])\n",
        "\n",
        "plt.show()"
      ],
      "execution_count": null,
      "outputs": []
    },
    {
      "cell_type": "code",
      "metadata": {
        "id": "RH2wXh0zRNQW"
      },
      "source": [
        "model.eval()\n",
        "\n",
        "predictions , true_labels = [], []\n",
        "\n",
        "for batch in test_dataloader:\n",
        "  batch = tuple(t.to(device) for t in batch)\n",
        "  \n",
        "  b_input_ids, b_input_mask, b_labels = batch\n",
        "  \n",
        "  # Telling the model not to compute or store gradients, saving memory and \n",
        "  # speeding up prediction\n",
        "  with torch.no_grad():\n",
        "      # Forward pass, calculate logit predictions\n",
        "      outputs = model(b_input_ids, token_type_ids=None, \n",
        "                      attention_mask=b_input_mask)\n",
        "\n",
        "  logits = outputs[0]\n",
        "\n",
        "  # Move logits and labels to CPU\n",
        "  logits = logits.detach().cpu().numpy()\n",
        "  label_ids = b_labels.to('cpu').numpy()\n",
        "  \n",
        "  # Store predictions and true labels\n",
        "  predictions.append(logits)\n",
        "  true_labels.append(label_ids)\n"
      ],
      "execution_count": null,
      "outputs": []
    },
    {
      "cell_type": "code",
      "metadata": {
        "id": "BBP1JBnPRSlu"
      },
      "source": [
        "flat_predictions = np.concatenate(predictions, axis=0)\n",
        "\n",
        "# For each sample, pick the label (0 or 1) with the higher score.\n",
        "flat_predictions = np.argmax(flat_predictions, axis=1).flatten()\n",
        "\n",
        "# Combine the correct labels for each batch into a single list.\n",
        "flat_true_labels = np.concatenate(true_labels, axis=0)\n",
        "\n",
        "print(\"Accuracy is:\", metrics.accuracy_score(flat_predictions,flat_true_labels))\n",
        "print(\"Mean Squared Error is:\", np.sqrt(mean_squared_error(flat_predictions, flat_true_labels)))\n",
        "b_cm = metrics.confusion_matrix(flat_predictions,flat_true_labels)\n",
        "print(b_cm)"
      ],
      "execution_count": null,
      "outputs": []
    },
    {
      "cell_type": "code",
      "metadata": {
        "id": "pU85GMxeRVoC"
      },
      "source": [
        "labels = np.array([['4519','12'],['7','4802']])\n",
        "sns.heatmap(b_cm, annot=labels, fmt = '')\n",
        "plt.show()"
      ],
      "execution_count": null,
      "outputs": []
    },
    {
      "cell_type": "code",
      "metadata": {
        "id": "DFAfb1UsRZHk"
      },
      "source": [
        "print (metrics.roc_auc_score(flat_predictions, flat_true_labels))\n",
        "print(metrics.classification_report(flat_predictions, flat_true_labels))"
      ],
      "execution_count": null,
      "outputs": []
    }
  ]
}
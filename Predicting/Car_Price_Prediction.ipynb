{
  "nbformat": 4,
  "nbformat_minor": 0,
  "metadata": {
    "colab": {
      "name": "Car Price Prediction",
      "provenance": [],
      "collapsed_sections": [],
      "authorship_tag": "ABX9TyMAfM3fq9Bfl5D66TqgxCgp",
      "include_colab_link": true
    },
    "kernelspec": {
      "name": "python3",
      "display_name": "Python 3"
    }
  },
  "cells": [
    {
      "cell_type": "markdown",
      "metadata": {
        "id": "view-in-github",
        "colab_type": "text"
      },
      "source": [
        "<a href=\"https://colab.research.google.com/github/AstridSerruto/Projects/blob/master/Predicting/Car_Price_Prediction.ipynb\" target=\"_parent\"><img src=\"https://colab.research.google.com/assets/colab-badge.svg\" alt=\"Open In Colab\"/></a>"
      ]
    },
    {
      "cell_type": "code",
      "metadata": {
        "id": "obLubF8j4Mm8"
      },
      "source": [
        "import datetime as dt\n",
        "import matplotlib.pyplot as plt\n",
        "import numpy as np\n",
        "import pandas as pd\n",
        "import seaborn as sns\n",
        "from sklearn.ensemble import RandomForestRegressor\n",
        "from sklearn.metrics import r2_score\n",
        "from sklearn.model_selection import KFold\n",
        "from sklearn.model_selection import train_test_split\n",
        "from sklearn.model_selection import cross_val_score\n",
        "from sklearn.model_selection import GridSearchCV\n",
        "from sklearn.model_selection import RandomizedSearchCV\n",
        "from sklearn.linear_model import LinearRegression\n",
        "from sklearn.linear_model import Lasso\n",
        "from sklearn.linear_model import Ridge\n",
        "from sklearn.preprocessing import RobustScaler\n",
        "from sklearn.tree import DecisionTreeRegressor\n",
        "from sklearn import metrics\n",
        "import pickle\n",
        "sns.set()"
      ],
      "execution_count": 1,
      "outputs": []
    },
    {
      "cell_type": "code",
      "metadata": {
        "id": "kVBtsJWs5k9U",
        "colab": {
          "base_uri": "https://localhost:8080/"
        },
        "outputId": "06d1115e-f2fe-48a6-be4f-8bc27d3da6fb"
      },
      "source": [
        "# Read the data\n",
        "from google.colab import drive\n",
        "drive.mount('/content/drive')\n",
        "train = pd.read_csv('/content/drive/My Drive/train-data.csv')"
      ],
      "execution_count": 2,
      "outputs": [
        {
          "output_type": "stream",
          "name": "stdout",
          "text": [
            "Mounted at /content/drive\n"
          ]
        }
      ]
    },
    {
      "cell_type": "code",
      "metadata": {
        "id": "Pe7CCJBX5m50",
        "colab": {
          "base_uri": "https://localhost:8080/",
          "height": 461
        },
        "outputId": "beaa49dc-a419-403a-9c6b-9f7cad8e300c"
      },
      "source": [
        "#Look at the data\n",
        "train.head()"
      ],
      "execution_count": 3,
      "outputs": [
        {
          "output_type": "execute_result",
          "data": {
            "text/plain": [
              "   Unnamed: 0                              Name    Location  Year  \\\n",
              "0           0            Maruti Wagon R LXI CNG      Mumbai  2010   \n",
              "1           1  Hyundai Creta 1.6 CRDi SX Option        Pune  2015   \n",
              "2           2                      Honda Jazz V     Chennai  2011   \n",
              "3           3                 Maruti Ertiga VDI     Chennai  2012   \n",
              "4           4   Audi A4 New 2.0 TDI Multitronic  Coimbatore  2013   \n",
              "\n",
              "   Kilometers_Driven Fuel_Type Transmission Owner_Type     Mileage   Engine  \\\n",
              "0              72000       CNG       Manual      First  26.6 km/kg   998 CC   \n",
              "1              41000    Diesel       Manual      First  19.67 kmpl  1582 CC   \n",
              "2              46000    Petrol       Manual      First   18.2 kmpl  1199 CC   \n",
              "3              87000    Diesel       Manual      First  20.77 kmpl  1248 CC   \n",
              "4              40670    Diesel    Automatic     Second   15.2 kmpl  1968 CC   \n",
              "\n",
              "       Power  Seats  Price  \n",
              "0  58.16 bhp    5.0   1.75  \n",
              "1  126.2 bhp    5.0  12.50  \n",
              "2   88.7 bhp    5.0   4.50  \n",
              "3  88.76 bhp    7.0   6.00  \n",
              "4  140.8 bhp    5.0  17.74  "
            ],
            "text/html": [
              "\n",
              "  <div id=\"df-2fdd26bb-b88e-41a3-9afa-c7716ddf1b87\">\n",
              "    <div class=\"colab-df-container\">\n",
              "      <div>\n",
              "<style scoped>\n",
              "    .dataframe tbody tr th:only-of-type {\n",
              "        vertical-align: middle;\n",
              "    }\n",
              "\n",
              "    .dataframe tbody tr th {\n",
              "        vertical-align: top;\n",
              "    }\n",
              "\n",
              "    .dataframe thead th {\n",
              "        text-align: right;\n",
              "    }\n",
              "</style>\n",
              "<table border=\"1\" class=\"dataframe\">\n",
              "  <thead>\n",
              "    <tr style=\"text-align: right;\">\n",
              "      <th></th>\n",
              "      <th>Unnamed: 0</th>\n",
              "      <th>Name</th>\n",
              "      <th>Location</th>\n",
              "      <th>Year</th>\n",
              "      <th>Kilometers_Driven</th>\n",
              "      <th>Fuel_Type</th>\n",
              "      <th>Transmission</th>\n",
              "      <th>Owner_Type</th>\n",
              "      <th>Mileage</th>\n",
              "      <th>Engine</th>\n",
              "      <th>Power</th>\n",
              "      <th>Seats</th>\n",
              "      <th>Price</th>\n",
              "    </tr>\n",
              "  </thead>\n",
              "  <tbody>\n",
              "    <tr>\n",
              "      <th>0</th>\n",
              "      <td>0</td>\n",
              "      <td>Maruti Wagon R LXI CNG</td>\n",
              "      <td>Mumbai</td>\n",
              "      <td>2010</td>\n",
              "      <td>72000</td>\n",
              "      <td>CNG</td>\n",
              "      <td>Manual</td>\n",
              "      <td>First</td>\n",
              "      <td>26.6 km/kg</td>\n",
              "      <td>998 CC</td>\n",
              "      <td>58.16 bhp</td>\n",
              "      <td>5.0</td>\n",
              "      <td>1.75</td>\n",
              "    </tr>\n",
              "    <tr>\n",
              "      <th>1</th>\n",
              "      <td>1</td>\n",
              "      <td>Hyundai Creta 1.6 CRDi SX Option</td>\n",
              "      <td>Pune</td>\n",
              "      <td>2015</td>\n",
              "      <td>41000</td>\n",
              "      <td>Diesel</td>\n",
              "      <td>Manual</td>\n",
              "      <td>First</td>\n",
              "      <td>19.67 kmpl</td>\n",
              "      <td>1582 CC</td>\n",
              "      <td>126.2 bhp</td>\n",
              "      <td>5.0</td>\n",
              "      <td>12.50</td>\n",
              "    </tr>\n",
              "    <tr>\n",
              "      <th>2</th>\n",
              "      <td>2</td>\n",
              "      <td>Honda Jazz V</td>\n",
              "      <td>Chennai</td>\n",
              "      <td>2011</td>\n",
              "      <td>46000</td>\n",
              "      <td>Petrol</td>\n",
              "      <td>Manual</td>\n",
              "      <td>First</td>\n",
              "      <td>18.2 kmpl</td>\n",
              "      <td>1199 CC</td>\n",
              "      <td>88.7 bhp</td>\n",
              "      <td>5.0</td>\n",
              "      <td>4.50</td>\n",
              "    </tr>\n",
              "    <tr>\n",
              "      <th>3</th>\n",
              "      <td>3</td>\n",
              "      <td>Maruti Ertiga VDI</td>\n",
              "      <td>Chennai</td>\n",
              "      <td>2012</td>\n",
              "      <td>87000</td>\n",
              "      <td>Diesel</td>\n",
              "      <td>Manual</td>\n",
              "      <td>First</td>\n",
              "      <td>20.77 kmpl</td>\n",
              "      <td>1248 CC</td>\n",
              "      <td>88.76 bhp</td>\n",
              "      <td>7.0</td>\n",
              "      <td>6.00</td>\n",
              "    </tr>\n",
              "    <tr>\n",
              "      <th>4</th>\n",
              "      <td>4</td>\n",
              "      <td>Audi A4 New 2.0 TDI Multitronic</td>\n",
              "      <td>Coimbatore</td>\n",
              "      <td>2013</td>\n",
              "      <td>40670</td>\n",
              "      <td>Diesel</td>\n",
              "      <td>Automatic</td>\n",
              "      <td>Second</td>\n",
              "      <td>15.2 kmpl</td>\n",
              "      <td>1968 CC</td>\n",
              "      <td>140.8 bhp</td>\n",
              "      <td>5.0</td>\n",
              "      <td>17.74</td>\n",
              "    </tr>\n",
              "  </tbody>\n",
              "</table>\n",
              "</div>\n",
              "      <button class=\"colab-df-convert\" onclick=\"convertToInteractive('df-2fdd26bb-b88e-41a3-9afa-c7716ddf1b87')\"\n",
              "              title=\"Convert this dataframe to an interactive table.\"\n",
              "              style=\"display:none;\">\n",
              "        \n",
              "  <svg xmlns=\"http://www.w3.org/2000/svg\" height=\"24px\"viewBox=\"0 0 24 24\"\n",
              "       width=\"24px\">\n",
              "    <path d=\"M0 0h24v24H0V0z\" fill=\"none\"/>\n",
              "    <path d=\"M18.56 5.44l.94 2.06.94-2.06 2.06-.94-2.06-.94-.94-2.06-.94 2.06-2.06.94zm-11 1L8.5 8.5l.94-2.06 2.06-.94-2.06-.94L8.5 2.5l-.94 2.06-2.06.94zm10 10l.94 2.06.94-2.06 2.06-.94-2.06-.94-.94-2.06-.94 2.06-2.06.94z\"/><path d=\"M17.41 7.96l-1.37-1.37c-.4-.4-.92-.59-1.43-.59-.52 0-1.04.2-1.43.59L10.3 9.45l-7.72 7.72c-.78.78-.78 2.05 0 2.83L4 21.41c.39.39.9.59 1.41.59.51 0 1.02-.2 1.41-.59l7.78-7.78 2.81-2.81c.8-.78.8-2.07 0-2.86zM5.41 20L4 18.59l7.72-7.72 1.47 1.35L5.41 20z\"/>\n",
              "  </svg>\n",
              "      </button>\n",
              "      \n",
              "  <style>\n",
              "    .colab-df-container {\n",
              "      display:flex;\n",
              "      flex-wrap:wrap;\n",
              "      gap: 12px;\n",
              "    }\n",
              "\n",
              "    .colab-df-convert {\n",
              "      background-color: #E8F0FE;\n",
              "      border: none;\n",
              "      border-radius: 50%;\n",
              "      cursor: pointer;\n",
              "      display: none;\n",
              "      fill: #1967D2;\n",
              "      height: 32px;\n",
              "      padding: 0 0 0 0;\n",
              "      width: 32px;\n",
              "    }\n",
              "\n",
              "    .colab-df-convert:hover {\n",
              "      background-color: #E2EBFA;\n",
              "      box-shadow: 0px 1px 2px rgba(60, 64, 67, 0.3), 0px 1px 3px 1px rgba(60, 64, 67, 0.15);\n",
              "      fill: #174EA6;\n",
              "    }\n",
              "\n",
              "    [theme=dark] .colab-df-convert {\n",
              "      background-color: #3B4455;\n",
              "      fill: #D2E3FC;\n",
              "    }\n",
              "\n",
              "    [theme=dark] .colab-df-convert:hover {\n",
              "      background-color: #434B5C;\n",
              "      box-shadow: 0px 1px 3px 1px rgba(0, 0, 0, 0.15);\n",
              "      filter: drop-shadow(0px 1px 2px rgba(0, 0, 0, 0.3));\n",
              "      fill: #FFFFFF;\n",
              "    }\n",
              "  </style>\n",
              "\n",
              "      <script>\n",
              "        const buttonEl =\n",
              "          document.querySelector('#df-2fdd26bb-b88e-41a3-9afa-c7716ddf1b87 button.colab-df-convert');\n",
              "        buttonEl.style.display =\n",
              "          google.colab.kernel.accessAllowed ? 'block' : 'none';\n",
              "\n",
              "        async function convertToInteractive(key) {\n",
              "          const element = document.querySelector('#df-2fdd26bb-b88e-41a3-9afa-c7716ddf1b87');\n",
              "          const dataTable =\n",
              "            await google.colab.kernel.invokeFunction('convertToInteractive',\n",
              "                                                     [key], {});\n",
              "          if (!dataTable) return;\n",
              "\n",
              "          const docLinkHtml = 'Like what you see? Visit the ' +\n",
              "            '<a target=\"_blank\" href=https://colab.research.google.com/notebooks/data_table.ipynb>data table notebook</a>'\n",
              "            + ' to learn more about interactive tables.';\n",
              "          element.innerHTML = '';\n",
              "          dataTable['output_type'] = 'display_data';\n",
              "          await google.colab.output.renderOutput(dataTable, element);\n",
              "          const docLink = document.createElement('div');\n",
              "          docLink.innerHTML = docLinkHtml;\n",
              "          element.appendChild(docLink);\n",
              "        }\n",
              "      </script>\n",
              "    </div>\n",
              "  </div>\n",
              "  "
            ]
          },
          "metadata": {},
          "execution_count": 3
        }
      ]
    },
    {
      "cell_type": "code",
      "metadata": {
        "id": "gYLWsXMQ8nXQ"
      },
      "source": [
        "#Drop unnamed column\n",
        "data = train.drop('Unnamed: 0', axis=1)"
      ],
      "execution_count": 4,
      "outputs": []
    },
    {
      "cell_type": "code",
      "metadata": {
        "id": "Cj35WOgt9A4-"
      },
      "source": [
        "#Eliminate model from brand of car\n",
        "data['Name'] = data['Name'].apply(lambda x: x.split(' ')[0].upper())"
      ],
      "execution_count": 5,
      "outputs": []
    },
    {
      "cell_type": "code",
      "metadata": {
        "id": "HUiOCMa49auV",
        "colab": {
          "base_uri": "https://localhost:8080/",
          "height": 357
        },
        "outputId": "825adc73-476f-4dc5-d92a-bd60c2a73d8a"
      },
      "source": [
        "data.head()"
      ],
      "execution_count": 6,
      "outputs": [
        {
          "output_type": "execute_result",
          "data": {
            "text/plain": [
              "      Name    Location  Year  Kilometers_Driven Fuel_Type Transmission  \\\n",
              "0   MARUTI      Mumbai  2010              72000       CNG       Manual   \n",
              "1  HYUNDAI        Pune  2015              41000    Diesel       Manual   \n",
              "2    HONDA     Chennai  2011              46000    Petrol       Manual   \n",
              "3   MARUTI     Chennai  2012              87000    Diesel       Manual   \n",
              "4     AUDI  Coimbatore  2013              40670    Diesel    Automatic   \n",
              "\n",
              "  Owner_Type     Mileage   Engine      Power  Seats  Price  \n",
              "0      First  26.6 km/kg   998 CC  58.16 bhp    5.0   1.75  \n",
              "1      First  19.67 kmpl  1582 CC  126.2 bhp    5.0  12.50  \n",
              "2      First   18.2 kmpl  1199 CC   88.7 bhp    5.0   4.50  \n",
              "3      First  20.77 kmpl  1248 CC  88.76 bhp    7.0   6.00  \n",
              "4     Second   15.2 kmpl  1968 CC  140.8 bhp    5.0  17.74  "
            ],
            "text/html": [
              "\n",
              "  <div id=\"df-f1f1d6f3-87be-4e2b-8bf0-d092ae7d118f\">\n",
              "    <div class=\"colab-df-container\">\n",
              "      <div>\n",
              "<style scoped>\n",
              "    .dataframe tbody tr th:only-of-type {\n",
              "        vertical-align: middle;\n",
              "    }\n",
              "\n",
              "    .dataframe tbody tr th {\n",
              "        vertical-align: top;\n",
              "    }\n",
              "\n",
              "    .dataframe thead th {\n",
              "        text-align: right;\n",
              "    }\n",
              "</style>\n",
              "<table border=\"1\" class=\"dataframe\">\n",
              "  <thead>\n",
              "    <tr style=\"text-align: right;\">\n",
              "      <th></th>\n",
              "      <th>Name</th>\n",
              "      <th>Location</th>\n",
              "      <th>Year</th>\n",
              "      <th>Kilometers_Driven</th>\n",
              "      <th>Fuel_Type</th>\n",
              "      <th>Transmission</th>\n",
              "      <th>Owner_Type</th>\n",
              "      <th>Mileage</th>\n",
              "      <th>Engine</th>\n",
              "      <th>Power</th>\n",
              "      <th>Seats</th>\n",
              "      <th>Price</th>\n",
              "    </tr>\n",
              "  </thead>\n",
              "  <tbody>\n",
              "    <tr>\n",
              "      <th>0</th>\n",
              "      <td>MARUTI</td>\n",
              "      <td>Mumbai</td>\n",
              "      <td>2010</td>\n",
              "      <td>72000</td>\n",
              "      <td>CNG</td>\n",
              "      <td>Manual</td>\n",
              "      <td>First</td>\n",
              "      <td>26.6 km/kg</td>\n",
              "      <td>998 CC</td>\n",
              "      <td>58.16 bhp</td>\n",
              "      <td>5.0</td>\n",
              "      <td>1.75</td>\n",
              "    </tr>\n",
              "    <tr>\n",
              "      <th>1</th>\n",
              "      <td>HYUNDAI</td>\n",
              "      <td>Pune</td>\n",
              "      <td>2015</td>\n",
              "      <td>41000</td>\n",
              "      <td>Diesel</td>\n",
              "      <td>Manual</td>\n",
              "      <td>First</td>\n",
              "      <td>19.67 kmpl</td>\n",
              "      <td>1582 CC</td>\n",
              "      <td>126.2 bhp</td>\n",
              "      <td>5.0</td>\n",
              "      <td>12.50</td>\n",
              "    </tr>\n",
              "    <tr>\n",
              "      <th>2</th>\n",
              "      <td>HONDA</td>\n",
              "      <td>Chennai</td>\n",
              "      <td>2011</td>\n",
              "      <td>46000</td>\n",
              "      <td>Petrol</td>\n",
              "      <td>Manual</td>\n",
              "      <td>First</td>\n",
              "      <td>18.2 kmpl</td>\n",
              "      <td>1199 CC</td>\n",
              "      <td>88.7 bhp</td>\n",
              "      <td>5.0</td>\n",
              "      <td>4.50</td>\n",
              "    </tr>\n",
              "    <tr>\n",
              "      <th>3</th>\n",
              "      <td>MARUTI</td>\n",
              "      <td>Chennai</td>\n",
              "      <td>2012</td>\n",
              "      <td>87000</td>\n",
              "      <td>Diesel</td>\n",
              "      <td>Manual</td>\n",
              "      <td>First</td>\n",
              "      <td>20.77 kmpl</td>\n",
              "      <td>1248 CC</td>\n",
              "      <td>88.76 bhp</td>\n",
              "      <td>7.0</td>\n",
              "      <td>6.00</td>\n",
              "    </tr>\n",
              "    <tr>\n",
              "      <th>4</th>\n",
              "      <td>AUDI</td>\n",
              "      <td>Coimbatore</td>\n",
              "      <td>2013</td>\n",
              "      <td>40670</td>\n",
              "      <td>Diesel</td>\n",
              "      <td>Automatic</td>\n",
              "      <td>Second</td>\n",
              "      <td>15.2 kmpl</td>\n",
              "      <td>1968 CC</td>\n",
              "      <td>140.8 bhp</td>\n",
              "      <td>5.0</td>\n",
              "      <td>17.74</td>\n",
              "    </tr>\n",
              "  </tbody>\n",
              "</table>\n",
              "</div>\n",
              "      <button class=\"colab-df-convert\" onclick=\"convertToInteractive('df-f1f1d6f3-87be-4e2b-8bf0-d092ae7d118f')\"\n",
              "              title=\"Convert this dataframe to an interactive table.\"\n",
              "              style=\"display:none;\">\n",
              "        \n",
              "  <svg xmlns=\"http://www.w3.org/2000/svg\" height=\"24px\"viewBox=\"0 0 24 24\"\n",
              "       width=\"24px\">\n",
              "    <path d=\"M0 0h24v24H0V0z\" fill=\"none\"/>\n",
              "    <path d=\"M18.56 5.44l.94 2.06.94-2.06 2.06-.94-2.06-.94-.94-2.06-.94 2.06-2.06.94zm-11 1L8.5 8.5l.94-2.06 2.06-.94-2.06-.94L8.5 2.5l-.94 2.06-2.06.94zm10 10l.94 2.06.94-2.06 2.06-.94-2.06-.94-.94-2.06-.94 2.06-2.06.94z\"/><path d=\"M17.41 7.96l-1.37-1.37c-.4-.4-.92-.59-1.43-.59-.52 0-1.04.2-1.43.59L10.3 9.45l-7.72 7.72c-.78.78-.78 2.05 0 2.83L4 21.41c.39.39.9.59 1.41.59.51 0 1.02-.2 1.41-.59l7.78-7.78 2.81-2.81c.8-.78.8-2.07 0-2.86zM5.41 20L4 18.59l7.72-7.72 1.47 1.35L5.41 20z\"/>\n",
              "  </svg>\n",
              "      </button>\n",
              "      \n",
              "  <style>\n",
              "    .colab-df-container {\n",
              "      display:flex;\n",
              "      flex-wrap:wrap;\n",
              "      gap: 12px;\n",
              "    }\n",
              "\n",
              "    .colab-df-convert {\n",
              "      background-color: #E8F0FE;\n",
              "      border: none;\n",
              "      border-radius: 50%;\n",
              "      cursor: pointer;\n",
              "      display: none;\n",
              "      fill: #1967D2;\n",
              "      height: 32px;\n",
              "      padding: 0 0 0 0;\n",
              "      width: 32px;\n",
              "    }\n",
              "\n",
              "    .colab-df-convert:hover {\n",
              "      background-color: #E2EBFA;\n",
              "      box-shadow: 0px 1px 2px rgba(60, 64, 67, 0.3), 0px 1px 3px 1px rgba(60, 64, 67, 0.15);\n",
              "      fill: #174EA6;\n",
              "    }\n",
              "\n",
              "    [theme=dark] .colab-df-convert {\n",
              "      background-color: #3B4455;\n",
              "      fill: #D2E3FC;\n",
              "    }\n",
              "\n",
              "    [theme=dark] .colab-df-convert:hover {\n",
              "      background-color: #434B5C;\n",
              "      box-shadow: 0px 1px 3px 1px rgba(0, 0, 0, 0.15);\n",
              "      filter: drop-shadow(0px 1px 2px rgba(0, 0, 0, 0.3));\n",
              "      fill: #FFFFFF;\n",
              "    }\n",
              "  </style>\n",
              "\n",
              "      <script>\n",
              "        const buttonEl =\n",
              "          document.querySelector('#df-f1f1d6f3-87be-4e2b-8bf0-d092ae7d118f button.colab-df-convert');\n",
              "        buttonEl.style.display =\n",
              "          google.colab.kernel.accessAllowed ? 'block' : 'none';\n",
              "\n",
              "        async function convertToInteractive(key) {\n",
              "          const element = document.querySelector('#df-f1f1d6f3-87be-4e2b-8bf0-d092ae7d118f');\n",
              "          const dataTable =\n",
              "            await google.colab.kernel.invokeFunction('convertToInteractive',\n",
              "                                                     [key], {});\n",
              "          if (!dataTable) return;\n",
              "\n",
              "          const docLinkHtml = 'Like what you see? Visit the ' +\n",
              "            '<a target=\"_blank\" href=https://colab.research.google.com/notebooks/data_table.ipynb>data table notebook</a>'\n",
              "            + ' to learn more about interactive tables.';\n",
              "          element.innerHTML = '';\n",
              "          dataTable['output_type'] = 'display_data';\n",
              "          await google.colab.output.renderOutput(dataTable, element);\n",
              "          const docLink = document.createElement('div');\n",
              "          docLink.innerHTML = docLinkHtml;\n",
              "          element.appendChild(docLink);\n",
              "        }\n",
              "      </script>\n",
              "    </div>\n",
              "  </div>\n",
              "  "
            ]
          },
          "metadata": {},
          "execution_count": 6
        }
      ]
    },
    {
      "cell_type": "code",
      "metadata": {
        "id": "myq8PFlK9dj8"
      },
      "source": [
        "#Substract year car was bought from present year to obtain years in use.\n",
        "data['Year'] = dt.date.today().year - data['Year']"
      ],
      "execution_count": 7,
      "outputs": []
    },
    {
      "cell_type": "code",
      "metadata": {
        "id": "ISOD8cLO_AMK"
      },
      "source": [
        "# Select the first word of the Mileage column\n",
        "data['Mileage'] =data['Mileage'].apply(lambda x: str(x).split(' ')[0])\n",
        "\n",
        "# Change 'nan' string to real missing values\n",
        "data['Mileage'] = [x if x != 'nan' else np.nan for x in data['Mileage']]\n",
        "\n",
        "# Convert the datatype to floating numbers\n",
        "data['Mileage'] = pd.to_numeric(data['Mileage'])"
      ],
      "execution_count": 8,
      "outputs": []
    },
    {
      "cell_type": "code",
      "metadata": {
        "id": "A0g8nfb9_Hu0"
      },
      "source": [
        "# Select the first word of the Power column\n",
        "data['Power'] = data['Power'].apply(lambda x: str(x).split(' ')[0])\n",
        "\n",
        "# Change 'null' string to real missing values\n",
        "data['Power'] = [np.nan if x=='null' else x for x in data['Power']]\n",
        "data['Power'] = [np.nan if x=='nan' else x for x in data['Power']]\n",
        "\n",
        "# Convert the datatype to floating numbers\n",
        "data['Power'] = pd.to_numeric(data['Power'])"
      ],
      "execution_count": 9,
      "outputs": []
    },
    {
      "cell_type": "code",
      "metadata": {
        "id": "KpLPFo35_RVK",
        "colab": {
          "base_uri": "https://localhost:8080/"
        },
        "outputId": "323e0c89-61a9-480a-d34c-1da3a5ac06aa"
      },
      "source": [
        "data.info()"
      ],
      "execution_count": 10,
      "outputs": [
        {
          "output_type": "stream",
          "name": "stdout",
          "text": [
            "<class 'pandas.core.frame.DataFrame'>\n",
            "RangeIndex: 6019 entries, 0 to 6018\n",
            "Data columns (total 12 columns):\n",
            " #   Column             Non-Null Count  Dtype  \n",
            "---  ------             --------------  -----  \n",
            " 0   Name               6019 non-null   object \n",
            " 1   Location           6019 non-null   object \n",
            " 2   Year               6019 non-null   int64  \n",
            " 3   Kilometers_Driven  6019 non-null   int64  \n",
            " 4   Fuel_Type          6019 non-null   object \n",
            " 5   Transmission       6019 non-null   object \n",
            " 6   Owner_Type         6019 non-null   object \n",
            " 7   Mileage            6017 non-null   float64\n",
            " 8   Engine             5983 non-null   object \n",
            " 9   Power              5876 non-null   float64\n",
            " 10  Seats              5977 non-null   float64\n",
            " 11  Price              6019 non-null   float64\n",
            "dtypes: float64(4), int64(2), object(6)\n",
            "memory usage: 564.4+ KB\n"
          ]
        }
      ]
    },
    {
      "cell_type": "code",
      "metadata": {
        "id": "54TzkmYd_lY5",
        "colab": {
          "base_uri": "https://localhost:8080/"
        },
        "outputId": "c9fe4399-556e-4c9b-f887-f4551e913211"
      },
      "source": [
        "#Null values\n",
        "data.isnull().sum()"
      ],
      "execution_count": 11,
      "outputs": [
        {
          "output_type": "execute_result",
          "data": {
            "text/plain": [
              "Name                   0\n",
              "Location               0\n",
              "Year                   0\n",
              "Kilometers_Driven      0\n",
              "Fuel_Type              0\n",
              "Transmission           0\n",
              "Owner_Type             0\n",
              "Mileage                2\n",
              "Engine                36\n",
              "Power                143\n",
              "Seats                 42\n",
              "Price                  0\n",
              "dtype: int64"
            ]
          },
          "metadata": {},
          "execution_count": 11
        }
      ]
    },
    {
      "cell_type": "code",
      "metadata": {
        "id": "sYmQtMrb_7iI",
        "colab": {
          "base_uri": "https://localhost:8080/"
        },
        "outputId": "20520d3f-9cd3-41e6-bb01-5c4e53027a20"
      },
      "source": [
        "# Replace missing values with median value of the column\n",
        "mileage_median = data['Mileage'].median()\n",
        "data['Mileage'] = data['Mileage'].fillna(mileage_median)\n",
        "\n",
        "power_median = data['Power'].median() \n",
        "data['Power'] = data['Power'].fillna(power_median)\n",
        "\n",
        "seat_median = data['Seats'].median()\n",
        "data['Seats'] = data['Seats'].fillna(seat_median)\n",
        "\n",
        "# Drop the remaining rows with missing value\n",
        "data.dropna(axis=0, inplace=True)\n",
        "\n",
        "# Check for missing values\n",
        "data.isnull().sum()"
      ],
      "execution_count": 12,
      "outputs": [
        {
          "output_type": "execute_result",
          "data": {
            "text/plain": [
              "Name                 0\n",
              "Location             0\n",
              "Year                 0\n",
              "Kilometers_Driven    0\n",
              "Fuel_Type            0\n",
              "Transmission         0\n",
              "Owner_Type           0\n",
              "Mileage              0\n",
              "Engine               0\n",
              "Power                0\n",
              "Seats                0\n",
              "Price                0\n",
              "dtype: int64"
            ]
          },
          "metadata": {},
          "execution_count": 12
        }
      ]
    },
    {
      "cell_type": "markdown",
      "metadata": {
        "id": "FEShEV-SA169"
      },
      "source": [
        "Exploratory Data Analysis"
      ]
    },
    {
      "cell_type": "code",
      "metadata": {
        "id": "zQkWEe2QA9LG",
        "colab": {
          "base_uri": "https://localhost:8080/"
        },
        "outputId": "0f0e84e4-239d-4072-d6f5-8c704111cfe0"
      },
      "source": [
        "# Classify the non-numerical features\n",
        "cat_features = [x for x in data.columns if data[x].dtype == 'O']\n",
        "\n",
        "# Classify the numerical features\n",
        "num_features = [x for x in data.columns if data[x].dtype != 'O']\n",
        "\n",
        "# Classify the discrete features\n",
        "discrete_features = [x for x in num_features if len(data[x].unique()) < 25]\n",
        "\n",
        "# Classify the continuous features\n",
        "continuous_features = [x for x in num_features if x not in discrete_features]\n",
        "\n",
        "# Review the features\n",
        "print(f\"Categorical features: {cat_features}\\nNumerical features: {num_features}\\\n",
        "\\nDiscrete features: {discrete_features}\\nContinuous features: {continuous_features}\")"
      ],
      "execution_count": 13,
      "outputs": [
        {
          "output_type": "stream",
          "name": "stdout",
          "text": [
            "Categorical features: ['Name', 'Location', 'Fuel_Type', 'Transmission', 'Owner_Type', 'Engine']\n",
            "Numerical features: ['Year', 'Kilometers_Driven', 'Mileage', 'Power', 'Seats', 'Price']\n",
            "Discrete features: ['Year', 'Seats']\n",
            "Continuous features: ['Kilometers_Driven', 'Mileage', 'Power', 'Price']\n"
          ]
        }
      ]
    },
    {
      "cell_type": "code",
      "metadata": {
        "id": "anxy8A8xBZPc",
        "colab": {
          "base_uri": "https://localhost:8080/",
          "height": 678
        },
        "outputId": "7d256662-6721-4196-bdc5-368ee819ad37"
      },
      "source": [
        "#Visualize the data\n",
        "plt.figure(figsize=(8,8))\n",
        "\n",
        "# Count the number of times a car was bought and plot the graph\n",
        "count = sns.countplot(cat_features[0], data=data, order=data.groupby('Name').mean()['Price'].index)\n",
        "count.set_xticklabels(count.get_xticklabels(), rotation='vertical')\n",
        "\n",
        "# Plot the mean price of each car\n",
        "price = sns.lineplot(data.groupby('Name').mean()['Price'].index, data.groupby('Name').mean()['Price'].values);"
      ],
      "execution_count": 14,
      "outputs": [
        {
          "output_type": "stream",
          "name": "stderr",
          "text": [
            "/usr/local/lib/python3.7/dist-packages/seaborn/_decorators.py:43: FutureWarning: Pass the following variable as a keyword arg: x. From version 0.12, the only valid positional argument will be `data`, and passing other arguments without an explicit keyword will result in an error or misinterpretation.\n",
            "  FutureWarning\n",
            "/usr/local/lib/python3.7/dist-packages/seaborn/_decorators.py:43: FutureWarning: Pass the following variables as keyword args: x, y. From version 0.12, the only valid positional argument will be `data`, and passing other arguments without an explicit keyword will result in an error or misinterpretation.\n",
            "  FutureWarning\n"
          ]
        },
        {
          "output_type": "display_data",
          "data": {
            "text/plain": [
              "<Figure size 576x576 with 1 Axes>"
            ],
            "image/png": "[encoded data removed]"
          },
          "metadata": {
            "needs_background": "light"
          }
        }
      ]
    },
    {
      "cell_type": "code",
      "metadata": {
        "id": "WoBBosv-CJ9_",
        "colab": {
          "base_uri": "https://localhost:8080/",
          "height": 921
        },
        "outputId": "78ca38e5-8467-400d-d022-660b14785920"
      },
      "source": [
        "# Create a figure with 6 subplots\n",
        "fig, ax = plt.subplots(2,3, figsize=(15, 10))\n",
        "fig.subplots_adjust(hspace=0.5)\n",
        "\n",
        "# Graph each categorical feature wrt to thee Price\n",
        "a = sns.barplot(data.columns[1], 'Price', data=data, ax=ax[0][0])\n",
        "a.set_xticklabels(a.get_xticklabels(), rotation='vertical')\n",
        "\n",
        "b = sns.barplot(pd.qcut(data[data.columns[2]], 4), 'Price', data=data, ax=ax[0][1])\n",
        "b.set_xticklabels(['1 - 4', '4 - 6', '6 - 9', '9 - 22'], rotation='vertical')\n",
        "b.set_xlabel('Age of Car')\n",
        "\n",
        "c = sns.barplot(pd.qcut(data[data.columns[3]], 4), 'Price', data=data, ax=ax[0][2])\n",
        "c.set_xticklabels(['171 - 33965', '33966 - 53000', '53000 - 73000', '73000 - 6500000'], rotation='vertical')\n",
        "\n",
        "d = sns.barplot(data.columns[4], 'Price', data=data, ax=ax[1][0])\n",
        "d.set_xticklabels(d.get_xticklabels(), rotation='vertical')\n",
        "\n",
        "e = sns.barplot(data.columns[5], 'Price', data=data, ax=ax[1][1])\n",
        "e.set_xticklabels(e.get_xticklabels(), rotation='vertical')\n",
        "\n",
        "f = sns.barplot(data.columns[6], 'Price', data=data, ax=ax[1][2])\n",
        "f.set_xticklabels(f.get_xticklabels(), rotation='vertical');"
      ],
      "execution_count": 15,
      "outputs": [
        {
          "output_type": "stream",
          "name": "stderr",
          "text": [
            "/usr/local/lib/python3.7/dist-packages/seaborn/_decorators.py:43: FutureWarning: Pass the following variables as keyword args: x, y. From version 0.12, the only valid positional argument will be `data`, and passing other arguments without an explicit keyword will result in an error or misinterpretation.\n",
            "  FutureWarning\n",
            "/usr/local/lib/python3.7/dist-packages/seaborn/_decorators.py:43: FutureWarning: Pass the following variables as keyword args: x, y. From version 0.12, the only valid positional argument will be `data`, and passing other arguments without an explicit keyword will result in an error or misinterpretation.\n",
            "  FutureWarning\n",
            "/usr/local/lib/python3.7/dist-packages/seaborn/_decorators.py:43: FutureWarning: Pass the following variables as keyword args: x, y. From version 0.12, the only valid positional argument will be `data`, and passing other arguments without an explicit keyword will result in an error or misinterpretation.\n",
            "  FutureWarning\n",
            "/usr/local/lib/python3.7/dist-packages/seaborn/_decorators.py:43: FutureWarning: Pass the following variables as keyword args: x, y. From version 0.12, the only valid positional argument will be `data`, and passing other arguments without an explicit keyword will result in an error or misinterpretation.\n",
            "  FutureWarning\n",
            "/usr/local/lib/python3.7/dist-packages/seaborn/_decorators.py:43: FutureWarning: Pass the following variables as keyword args: x, y. From version 0.12, the only valid positional argument will be `data`, and passing other arguments without an explicit keyword will result in an error or misinterpretation.\n",
            "  FutureWarning\n",
            "/usr/local/lib/python3.7/dist-packages/seaborn/_decorators.py:43: FutureWarning: Pass the following variables as keyword args: x, y. From version 0.12, the only valid positional argument will be `data`, and passing other arguments without an explicit keyword will result in an error or misinterpretation.\n",
            "  FutureWarning\n"
          ]
        },
        {
          "output_type": "display_data",
          "data": {
            "text/plain": [
              "<Figure size 1080x720 with 6 Axes>"
            ],
            "image/png": "[encoded data removed]"
          },
          "metadata": {
            "needs_background": "light"
          }
        }
      ]
    },
    {
      "cell_type": "code",
      "metadata": {
        "id": "F5nBbkaBCuM4",
        "colab": {
          "base_uri": "https://localhost:8080/",
          "height": 497
        },
        "outputId": "11ff10ce-73a9-4d44-8c60-a7d5217c9eb7"
      },
      "source": [
        "#Check for outliers\n",
        "data1 = data.copy()\n",
        "\n",
        "# Create a figure with 4 subplots    \n",
        "fig, ax = plt.subplots(2,2, figsize=(16,8))\n",
        "\n",
        "#Create a boxplot for the continous features\n",
        "box1 = sns.boxplot(y=np.log(data1[continuous_features[0]]), ax=ax[0][0])\n",
        "box2 = sns.boxplot(y=np.log(data1[continuous_features[1]]), ax=ax[0][1])\n",
        "box3 = sns.boxplot(y=np.log(data1[continuous_features[2]]), ax=ax[1][0])\n",
        "box4 = sns.boxplot(y=np.log(data1[continuous_features[3]]), ax=ax[1][1]);"
      ],
      "execution_count": 16,
      "outputs": [
        {
          "output_type": "stream",
          "name": "stderr",
          "text": [
            "/usr/local/lib/python3.7/dist-packages/pandas/core/arraylike.py:364: RuntimeWarning: divide by zero encountered in log\n",
            "  result = getattr(ufunc, method)(*inputs, **kwargs)\n"
          ]
        },
        {
          "output_type": "display_data",
          "data": {
            "text/plain": [
              "<Figure size 1152x576 with 4 Axes>"
            ],
            "image/png": "[encoded data removed]"
          },
          "metadata": {
            "needs_background": "light"
          }
        }
      ]
    },
    {
      "cell_type": "markdown",
      "metadata": {
        "id": "3P8Q5rleDwGV"
      },
      "source": [
        "Features Engineering"
      ]
    },
    {
      "cell_type": "code",
      "metadata": {
        "id": "ztRiuFyNDnrE"
      },
      "source": [
        "data = data.drop(['Location', 'Engine'], axis=1)\n",
        "cat_features = [x for x in data.columns if data[x].dtype == 'O']\n",
        "data = pd.get_dummies(data, cat_features)"
      ],
      "execution_count": 17,
      "outputs": []
    },
    {
      "cell_type": "code",
      "metadata": {
        "id": "D9GERJghD3pe"
      },
      "source": [
        "from sklearn.preprocessing import StandardScaler\n",
        "\n",
        "# Define the features or independent variable\n",
        "X = data.drop(['Price'], axis=1)\n",
        "\n",
        "# Define the label or dependent variable\n",
        "y = data['Price']\n",
        "\n",
        "# Split the data into train and test\n",
        "X_train, X_test, y_train, y_test = train_test_split(X, y, test_size=0.2, random_state=42)\n",
        "\n",
        "# Apply Standard Scaler to the train data\n",
        "scaler = StandardScaler()\n",
        "scaler.fit(X_train[continuous_features[0:-1]])\n",
        "\n",
        "# Transform Standard Scaler to the train and test data\n",
        "X_train[continuous_features[0:-1]] = scaler.transform(X_train[continuous_features[0:-1]])\n",
        "X_test[continuous_features[0:-1]] = scaler.transform(X_test[continuous_features[0:-1]])"
      ],
      "execution_count": 18,
      "outputs": []
    },
    {
      "cell_type": "markdown",
      "metadata": {
        "id": "7smcxI_TEBlU"
      },
      "source": [
        "Model Evaluation\n",
        "\n",
        "    Linear regressor finds a line that best fits all the features and predicts the output for a completely different input.\n",
        "    \n",
        "    Ridge regressor uses an L2 regularization technique to reduce the complexity of the model by coefficient shrinkage.\n",
        "    \n",
        "    Lasso regressor uses an L1 regularization technique to completely eliminate some features and make predictions.\n",
        "\n",
        "    A decision tree regressor splits the data into smaller subdivisions. It asks questions about the data and provides yes or no answers. Each answer improves the confidence for a correct prediction.\n",
        "\n",
        "    Decision tree aggregates the predictions of various random forest results to select a more stable prediction.\n",
        "\n",
        "    K-fold cross-validation was used to check how these models would perform on our data."
      ]
    },
    {
      "cell_type": "code",
      "metadata": {
        "id": "xHdoor1pEXuz",
        "colab": {
          "base_uri": "https://localhost:8080/"
        },
        "outputId": "cfdf2412-c8df-492e-98b7-d922f4cff53b"
      },
      "source": [
        "# Create a list of ML algorithms  For R2\n",
        "models = []\n",
        "models.append(('Linear Regression', LinearRegression()))\n",
        "models.append(('Ridge Regression', Ridge()))\n",
        "models.append(('Lasso Regression', Lasso()))\n",
        "models.append(('Decision Tree', DecisionTreeRegressor()))\n",
        "models.append(('Random Forest', RandomForestRegressor()))\n",
        "\n",
        "# Evalaute each model\n",
        "for name, model in models:\n",
        "    cv = KFold(n_splits=10, shuffle=True, random_state=1)\n",
        "    score = cross_val_score(model, X, y, cv=cv, scoring='r2')\n",
        "    print(f\"{name} has an r2 score: {np.round(score.mean(), 3)}%, and SD : {np.round(score.std(), 4)}\")"
      ],
      "execution_count": 19,
      "outputs": [
        {
          "output_type": "stream",
          "name": "stdout",
          "text": [
            "Linear Regression has an r2 score: 0.735%, and SD : 0.0743\n",
            "Ridge Regression has an r2 score: 0.734%, and SD : 0.0759\n",
            "Lasso Regression has an r2 score: 0.642%, and SD : 0.0922\n",
            "Decision Tree has an r2 score: 0.792%, and SD : 0.0938\n",
            "Random Forest has an r2 score: 0.896%, and SD : 0.036\n"
          ]
        }
      ]
    },
    {
      "cell_type": "markdown",
      "metadata": {
        "id": "Nb8zt-vgEsVi"
      },
      "source": [
        "Best result from Random Forrest at 89.55%"
      ]
    },
    {
      "cell_type": "code",
      "metadata": {
        "id": "SSSTdAiHE0Jd",
        "colab": {
          "base_uri": "https://localhost:8080/"
        },
        "outputId": "9bdabb50-4922-4f6c-ae18-2be0aa2c5cc7"
      },
      "source": [
        "# Check for model performance on the test data\n",
        "rf = RandomForestRegressor() \n",
        "%time rf.fit(X_train, y_train)\n",
        "y_pred = rf.predict(X_test)\n",
        "\n",
        "print(f'r2 score: {np.round(r2_score(y_test, y_pred), 4)*100}%')\n",
        "print(f'Mean absoluute error: {metrics.mean_absolute_error(y_test, y_pred)}')\n",
        "print(f'Mean sqaured error: {metrics.mean_squared_error(y_test, y_pred)}')"
      ],
      "execution_count": 20,
      "outputs": [
        {
          "output_type": "stream",
          "name": "stdout",
          "text": [
            "CPU times: user 1.94 s, sys: 8.12 ms, total: 1.95 s\n",
            "Wall time: 1.95 s\n",
            "r2 score: 88.25%\n",
            "Mean absoluute error: 1.5837226891965364\n",
            "Mean sqaured error: 13.780641753243295\n"
          ]
        }
      ]
    },
    {
      "cell_type": "markdown",
      "metadata": {
        "id": "iKWot9F1FEUD"
      },
      "source": [
        "r2 score was 87.32% which was pretty good. \n",
        "The mean absolute error (1.60) and the mean squared error (14.87) were low."
      ]
    },
    {
      "cell_type": "markdown",
      "metadata": {
        "id": "7pNvaG8QFXM-"
      },
      "source": [
        "Hyperparameter Tuning"
      ]
    },
    {
      "cell_type": "code",
      "metadata": {
        "id": "zy_jHSywFfuU"
      },
      "source": [
        "# Number of trees in the forest\n",
        "n_estimators = [int(x) for x in np.linspace(start = 200, stop = 2000, num = 10)]\n",
        "\n",
        "# Number of features to consider at every split\n",
        "max_features = ['sqrt', 'auto']\n",
        "\n",
        "# Maximum number of levels in tree\n",
        "max_depth = [int(x) for x in np.linspace(5, 50, num = 10)]\n",
        "max_depth.append(None)\n",
        "\n",
        "# Minimum number of samples required to split a node\n",
        "min_samples_split = [2, 3, 5]\n",
        "\n",
        "# Minimum number of samples required at each leaf node\n",
        "min_samples_leaf = [1, 2, 3]\n",
        "\n",
        "# Method of selecting samples for training each tree\n",
        "bootstrap = [True, False]# Define some paramters\n",
        "params = {'n_estimators': n_estimators,\n",
        "               'max_features': max_features,\n",
        "               'max_depth': max_depth,\n",
        "               'min_samples_split': min_samples_split,\n",
        "               'min_samples_leaf': min_samples_leaf,\n",
        "               'bootstrap': bootstrap}\n",
        "\n",
        "# Apply RandomizedSearchCV with the defined paramters\n",
        "model_search = RandomizedSearchCV(rf, param_distributions=params, scoring='r2')\n",
        "%time model_search.fit(X_train, y_train)\n",
        "y_pred_op = model_search.predict(X_test)\n",
        "\n",
        "# Check metrics\n",
        "print(r2_score(y_test, y_pred_op))\n"
      ],
      "execution_count": null,
      "outputs": []
    },
    {
      "cell_type": "markdown",
      "metadata": {
        "id": "qDQr1TIMHI5D"
      },
      "source": [
        "Score increased to 87.76%"
      ]
    },
    {
      "cell_type": "code",
      "metadata": {
        "id": "irJW6qmpGoUu"
      },
      "source": [
        "# Define a function that implements the model\n",
        "def predict_price(name, year, km, fuel, transmission, owner, mileage, power, seats):\n",
        "\n",
        "# Define column location of the non numerical features\n",
        "    name_index = np.where(X.columns=='Name_'+name.upper())[0][0]\n",
        "    fuel_index = np.where(X.columns=='Fuel_Type_'+fuel)[0][0]\n",
        "    transmission_index = np.where(X.columns=='Transmission_'+transmission)[0][0]\n",
        "    owner_index = np.where(X.columns=='Owner_Type_'+owner)[0][0]\n",
        "\n",
        "# Assign each of the inputted feature its value\n",
        "    x = np.zeros(len(X.columns))\n",
        "    x[0] = year\n",
        "    x[1] = km\n",
        "    x[2] = mileage\n",
        "    x[3] = power\n",
        "    x[4] = seats\n",
        "    if name_index >= 0:\n",
        "        x[name_index] = 1\n",
        "    if fuel_index >= 0:\n",
        "        x[fuel_index] = 1\n",
        "    if transmission_index >= 0:\n",
        "        x[transmission_index] = 1\n",
        "    if owner_index >= 0:\n",
        "        x[owner_index] = 1\n",
        "    \n",
        "    return f'The estimated price of the car is {model_search.predict([x])[0]} Lakh Rupees'"
      ],
      "execution_count": null,
      "outputs": []
    },
    {
      "cell_type": "code",
      "metadata": {
        "id": "JZASUSTiAwXD"
      },
      "source": [
        "predict_price('maruti', 10, 100000, 'Petrol', 'Manual', 'First', 30, 50, 7)"
      ],
      "execution_count": null,
      "outputs": []
    },
    {
      "cell_type": "code",
      "metadata": {
        "id": "zcnwqtoYEN75"
      },
      "source": [
        "predict_price('toyota', 5, 30000, 'Petrol', 'Automatic', 'Second', 25, 150, 4)"
      ],
      "execution_count": null,
      "outputs": []
    },
    {
      "cell_type": "code",
      "metadata": {
        "id": "LKJtHkzDEQ7T"
      },
      "source": [
        "predict_price('land', 3, 30000, 'Petrol', 'Automatic', 'First', 20, 250, 4)"
      ],
      "execution_count": null,
      "outputs": []
    }
  ]
}
{
  "nbformat": 4,
  "nbformat_minor": 0,
  "metadata": {
    "colab": {
      "name": "Web_cralling_News ",
      "provenance": [],
      "collapsed_sections": [],
      "authorship_tag": "ABX9TyP1ySaJTGA/YMmWLIbSlBiq",
      "include_colab_link": true
    },
    "kernelspec": {
      "name": "python3",
      "display_name": "Python 3"
    }
  },
  "cells": [
    {
      "cell_type": "markdown",
      "metadata": {
        "id": "view-in-github",
        "colab_type": "text"
      },
      "source": [
        "<a href=\"https://colab.research.google.com/github/Abkhenaten/Projects/blob/master/Web_cralling_News.ipynb\" target=\"_parent\"><img src=\"https://colab.research.google.com/assets/colab-badge.svg\" alt=\"Open In Colab\"/></a>"
      ]
    },
    {
      "cell_type": "code",
      "metadata": {
        "id": "GhClqBjcpwm2"
      },
      "source": [
        "import requests\n",
        "from bs4 import BeautifulSoup\n",
        "from gensim.summarization import summarize"
      ],
      "execution_count": 1,
      "outputs": []
    },
    {
      "cell_type": "code",
      "metadata": {
        "id": "KJP5ik0bp-iV"
      },
      "source": [
        "#Retrieve test\n",
        "url = 'https://www.space.com/news'\n",
        "page = requests.get(url).text"
      ],
      "execution_count": 2,
      "outputs": []
    },
    {
      "cell_type": "code",
      "metadata": {
        "id": "OHa9lDulqUhc"
      },
      "source": [
        "#BS object to access HTML tags\n",
        "soup = BeautifulSoup(page)"
      ],
      "execution_count": 3,
      "outputs": []
    },
    {
      "cell_type": "code",
      "metadata": {
        "id": "lwWVZwiAf-n9",
        "outputId": "8bdc9070-feba-4c90-80a7-29e156545724",
        "colab": {
          "base_uri": "https://localhost:8080/",
          "height": 34
        }
      },
      "source": [
        "#Get h3 from main page\n",
        "headline = soup.find('h3').get_text()\n",
        "print(headline)"
      ],
      "execution_count": 4,
      "outputs": [
        {
          "output_type": "stream",
          "text": [
            "On This Day in Space: Oct. 18, 1963: Félicette Becomes the 1st Cat in Space! >^..^\n"
          ],
          "name": "stdout"
        }
      ]
    },
    {
      "cell_type": "code",
      "metadata": {
        "id": "WZaNMUtEg4nY",
        "outputId": "9a442266-418f-43a2-cd67-09996768c21f",
        "colab": {
          "base_uri": "https://localhost:8080/",
          "height": 836
        }
      },
      "source": [
        "#Get p tags\n",
        "p_tags = soup.find_all('p')\n",
        "p_tags_text = [tag.get_text().strip() for tag in p_tags]\n",
        "p_tags_text"
      ],
      "execution_count": 5,
      "outputs": [
        {
          "output_type": "execute_result",
          "data": {
            "text/plain": [
              "['By\\n\\nHanneke Weitering',\n",
              " 'On Oct. 18, 1963, a cat went to space! Félicette was a French \"catstronaut.\" See how it happened in our \"On This Day In Space\" series!',\n",
              " 'By\\n\\nJoe Rao',\n",
              " \"It's an excellent year to view the Orionids, which peak before dawn on Wednesday (Oct. 21).\",\n",
              " 'By\\n\\nAmy Thompson',\n",
              " 'SpaceX successfully launched a full stack of Starlink internet satellites into today (Oct. 18) and capped off the mission with a successful rocket landing at sea.',\n",
              " 'By\\n\\nElizabeth Howell',\n",
              " 'Being an astronaut of the 2020s will be completely different than it was for any astronaut that came before, a panel of spaceflyers told the International Astronautical Congress on Oct. 14.',\n",
              " 'By\\n\\nSpace.com Staff',\n",
              " 'Liftoff is at 8:25 a.m. EDT (1225 GMT).',\n",
              " 'By\\n\\nRafi Letzter',\n",
              " \"A new test of Albert Einstein's theory of general relativity has proved the 20th Century physicist right again, this time using a supermassive black hole.\",\n",
              " 'By\\n\\nChelsea Gohd',\n",
              " 'A European-Japanese spacecraft just flew by Venus on its long, winding road to Mercury, snapping some stellar photos along the way.',\n",
              " 'By\\n\\nDoris Elin Urrutia',\n",
              " 'See the best photos on Space.com this week.',\n",
              " 'By\\n\\nDoris Elin Urrutia',\n",
              " 'These are the top space stories this week from Space.com.',\n",
              " 'By\\n\\nHanneke Weitering',\n",
              " \"SpaceX is on track to launch its first Mars mission in as little as four years from now, SpaceX's founder and CEO Elon Musk said Friday (Oct. 16) at the International Mars Society Convention.\",\n",
              " 'By\\n\\nElizabeth Howell',\n",
              " \"'Space Crew' is a clever yet challenging addition to the lore of space fiction games, as you pit your wits against an enterprising alien species called the Phasmids.\",\n",
              " 'By\\n\\nMeghan Bartels',\n",
              " 'Cosmonauts are making progress in the fight against the small air leak that has beleaguered the International Space Station for months, according to Russian reports.',\n",
              " 'By\\n\\nJesse Emspak',\n",
              " 'The new moon occurs on Friday (Oct. 16), at 3:31 p.m. EDT (1931 GMT), on the same day that our natural satellite reaches perigee, or the closest point to Earth in its orbit.',\n",
              " 'By\\n\\nRobert Z. Pearlman',\n",
              " 'In his 1979 book, Tom Wolfe wrote about the Mercury astronauts as being the last of the single-combat warriors. The third episode of NatGeo\\'s \"The Right Stuff\" borrows the phrase for its title.',\n",
              " 'By\\n\\nSpace.com Staff',\n",
              " 'Yesterday (Oct. 15), the European-Japanese probe BepiColombo swung by Venus, one of its nine gravity assist maneuvers, on its long winding journey to Mercury.',\n",
              " 'By\\n\\nTariq Malik',\n",
              " \"The International Mars Society Convention 2020 goes virtual from Oct. 15 to Oct. 18 and here's how to watch live.\",\n",
              " 'By\\n\\nElizabeth Howell',\n",
              " 'Six galaxies were trapped in orbit around a supermassive black hole during the early history of the universe, new observations reveal.',\n",
              " 'By\\n\\nYasemin Saplakoglu',\n",
              " 'Every year, a warming planet is shattering heat records.',\n",
              " 'By\\n\\nDoris Elin Urrutia',\n",
              " 'The fluid that cushions the human brain redistributes in the skull during spaceflight, according to a new study.',\n",
              " 'By\\n\\nMike Wall',\n",
              " 'The chance of a collision was higher than 10%, according to LeoLabs.',\n",
              " 'Get breaking space news and the latest updates on rocket launches, skywatching events and more!',\n",
              " 'Thank you for signing up to Space. You will receive a verification email shortly.',\n",
              " 'There was a problem. Please refresh the page and try again.',\n",
              " 'Space is part of Future US Inc, an international media group and leading digital publisher. Visit our corporate site.',\n",
              " '©\\nFuture US, Inc. 11 West 42nd Street, 15th Floor,\\nNew York,\\nNY 10036.']"
            ]
          },
          "metadata": {
            "tags": []
          },
          "execution_count": 5
        }
      ]
    },
    {
      "cell_type": "code",
      "metadata": {
        "id": "5Qb0nJEufWFG",
        "outputId": "ebca6c9c-f634-4042-c133-25bca294bc87",
        "colab": {
          "base_uri": "https://localhost:8080/",
          "height": 445
        }
      },
      "source": [
        "#Filter sentences\n",
        "sentence_list = [sentence for sentence in p_tags_text if not '\\n' in sentence]\n",
        "sentence_list = [sentence for sentence in sentence_list if '.' in sentence]\n",
        "sentence_list"
      ],
      "execution_count": 6,
      "outputs": [
        {
          "output_type": "execute_result",
          "data": {
            "text/plain": [
              "['On Oct. 18, 1963, a cat went to space! Félicette was a French \"catstronaut.\" See how it happened in our \"On This Day In Space\" series!',\n",
              " \"It's an excellent year to view the Orionids, which peak before dawn on Wednesday (Oct. 21).\",\n",
              " 'SpaceX successfully launched a full stack of Starlink internet satellites into today (Oct. 18) and capped off the mission with a successful rocket landing at sea.',\n",
              " 'Being an astronaut of the 2020s will be completely different than it was for any astronaut that came before, a panel of spaceflyers told the International Astronautical Congress on Oct. 14.',\n",
              " 'Liftoff is at 8:25 a.m. EDT (1225 GMT).',\n",
              " \"A new test of Albert Einstein's theory of general relativity has proved the 20th Century physicist right again, this time using a supermassive black hole.\",\n",
              " 'A European-Japanese spacecraft just flew by Venus on its long, winding road to Mercury, snapping some stellar photos along the way.',\n",
              " 'See the best photos on Space.com this week.',\n",
              " 'These are the top space stories this week from Space.com.',\n",
              " \"SpaceX is on track to launch its first Mars mission in as little as four years from now, SpaceX's founder and CEO Elon Musk said Friday (Oct. 16) at the International Mars Society Convention.\",\n",
              " \"'Space Crew' is a clever yet challenging addition to the lore of space fiction games, as you pit your wits against an enterprising alien species called the Phasmids.\",\n",
              " 'Cosmonauts are making progress in the fight against the small air leak that has beleaguered the International Space Station for months, according to Russian reports.',\n",
              " 'The new moon occurs on Friday (Oct. 16), at 3:31 p.m. EDT (1931 GMT), on the same day that our natural satellite reaches perigee, or the closest point to Earth in its orbit.',\n",
              " 'In his 1979 book, Tom Wolfe wrote about the Mercury astronauts as being the last of the single-combat warriors. The third episode of NatGeo\\'s \"The Right Stuff\" borrows the phrase for its title.',\n",
              " 'Yesterday (Oct. 15), the European-Japanese probe BepiColombo swung by Venus, one of its nine gravity assist maneuvers, on its long winding journey to Mercury.',\n",
              " \"The International Mars Society Convention 2020 goes virtual from Oct. 15 to Oct. 18 and here's how to watch live.\",\n",
              " 'Six galaxies were trapped in orbit around a supermassive black hole during the early history of the universe, new observations reveal.',\n",
              " 'Every year, a warming planet is shattering heat records.',\n",
              " 'The fluid that cushions the human brain redistributes in the skull during spaceflight, according to a new study.',\n",
              " 'The chance of a collision was higher than 10%, according to LeoLabs.',\n",
              " 'Thank you for signing up to Space. You will receive a verification email shortly.',\n",
              " 'There was a problem. Please refresh the page and try again.',\n",
              " 'Space is part of Future US Inc, an international media group and leading digital publisher. Visit our corporate site.']"
            ]
          },
          "metadata": {
            "tags": []
          },
          "execution_count": 6
        }
      ]
    },
    {
      "cell_type": "code",
      "metadata": {
        "id": "1jCcYjZ1iyk6"
      },
      "source": [
        "#Make a string\n",
        "article = ' '.join(sentence_list)"
      ],
      "execution_count": 7,
      "outputs": []
    },
    {
      "cell_type": "code",
      "metadata": {
        "id": "p_G_ujdUjrgA"
      },
      "source": [
        "summary = summarize(article, ratio=0.3)"
      ],
      "execution_count": 8,
      "outputs": []
    },
    {
      "cell_type": "code",
      "metadata": {
        "id": "O1nMBu_UwOo6",
        "outputId": "c4445823-617e-4c6c-c22a-136b196a7a45",
        "colab": {
          "base_uri": "https://localhost:8080/",
          "height": 285
        }
      },
      "source": [
        "print(f'Length of -On this day in space!- is: {len(article)}')\n",
        "print(f'Length of the summary: {len(summary)} \\n')\n",
        "print(f'Name of the headline: {headline} \\n')\n",
        "print(f'Summary of -On this day in space!-: \\n{summary}')"
      ],
      "execution_count": 9,
      "outputs": [
        {
          "output_type": "stream",
          "text": [
            "Length of -On this day in space!- is: 2807\n",
            "Length of the summary: 1156 \n",
            "\n",
            "Name of the headline: On This Day in Space: Oct. 18, 1963: Félicette Becomes the 1st Cat in Space! >^..^ \n",
            "\n",
            "Summary of -On this day in space!-: \n",
            "A new test of Albert Einstein's theory of general relativity has proved the 20th Century physicist right again, this time using a supermassive black hole.\n",
            "A European-Japanese spacecraft just flew by Venus on its long, winding road to Mercury, snapping some stellar photos along the way.\n",
            "See the best photos on Space.com this week.\n",
            "SpaceX is on track to launch its first Mars mission in as little as four years from now, SpaceX's founder and CEO Elon Musk said Friday (Oct. 16) at the International Mars Society Convention.\n",
            "Cosmonauts are making progress in the fight against the small air leak that has beleaguered the International Space Station for months, according to Russian reports.\n",
            "The new moon occurs on Friday (Oct. 16), at 3:31 p.m. EDT (1931 GMT), on the same day that our natural satellite reaches perigee, or the closest point to Earth in its orbit.\n",
            "Yesterday (Oct. 15), the European-Japanese probe BepiColombo swung by Venus, one of its nine gravity assist maneuvers, on its long winding journey to Mercury.\n",
            "Six galaxies were trapped in orbit around a supermassive black hole during the early history of the universe, new observations reveal.\n"
          ],
          "name": "stdout"
        }
      ]
    }
  ]
}
